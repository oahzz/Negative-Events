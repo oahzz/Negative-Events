{
 "cells": [
  {
   "cell_type": "markdown",
   "id": "80b8c50d",
   "metadata": {},
   "source": [
    "This notebook is a supplement to the paper \"Negative events - Logical and philosophical aspects\"[link] by Lucas Champollion[link] and Timothée Bernard[link].\n",
    "\n",
    "The notebook uses the [Natural Language Toolkit](https://www.nltk.org)'s interface to [Prover9/Mace4](https://www.cs.unm.edu/~mccune/prover9/) to investigate the derivability of conclusions from the logical principles in the paper, understood as algebraic equations.\n",
    "\n",
    "## Outline"
   ]
  },
  {
   "cell_type": "code",
   "execution_count": 127,
   "id": "2bdeee3b",
   "metadata": {},
   "outputs": [],
   "source": [
    "from nltk.test.inference_fixt import setup_module\n",
    "\n",
    "setup_module()\n",
    "\n",
    "from nltk import *\n",
    "#from nltk.sem.drt import DrtParser\n",
    "\n",
    "from nltk.sem.logic import *\n",
    "logic._counter._value = 0\n",
    "\n",
    "from nltk.sem import Expression\n",
    "read_expr = Expression.fromstring"
   ]
  },
  {
   "cell_type": "markdown",
   "id": "93386a00",
   "metadata": {},
   "source": [
    "## Axioms"
   ]
  },
  {
   "cell_type": "markdown",
   "id": "015bc296",
   "metadata": {},
   "source": [
    "### Lattice axioms"
   ]
  },
  {
   "cell_type": "code",
   "execution_count": 128,
   "id": "b672e58b",
   "metadata": {},
   "outputs": [],
   "source": [
    "or_id = read_expr('Or(x,x) = x')\n",
    "and_id = read_expr('And(x,x) = x')\n",
    "\n",
    "or_comm = read_expr('Or(x,y) = Or(y,x)')\n",
    "and_comm = read_expr('And(x,y) = And(y,x)')\n",
    "\n",
    "or_assoc = read_expr('Or(x,Or(y,z)) = Or(Or(x,y),z)')\n",
    "and_assoc = read_expr('And(x,And(y,z)) = And(And(x,y),z)')\n",
    "\n",
    "or_absorp = read_expr('Or(x,And(x,y)) = x')\n",
    "and_absorp = read_expr('And(x,Or(x,y)) = x')\n",
    "\n",
    "lattice = [or_id, and_id, or_comm, and_comm, or_assoc, and_assoc, or_absorp, and_absorp]"
   ]
  },
  {
   "cell_type": "markdown",
   "id": "4ebee6d2",
   "metadata": {},
   "source": [
    "### Bounded lattice axioms"
   ]
  },
  {
   "cell_type": "code",
   "execution_count": 129,
   "id": "2acaa420",
   "metadata": {},
   "outputs": [],
   "source": [
    "bot = read_expr('Or(x, Bot) = x')\n",
    "top = read_expr('And(x, Top) = x')\n",
    "\n",
    "bounded_lattice = lattice + [bot, top]"
   ]
  },
  {
   "cell_type": "markdown",
   "id": "248541f5",
   "metadata": {},
   "source": [
    "### Distributive lattice axioms"
   ]
  },
  {
   "cell_type": "code",
   "execution_count": 130,
   "id": "04559264",
   "metadata": {},
   "outputs": [],
   "source": [
    "dist = read_expr('And(x,Or(y,z)) = Or(And(x,y),And(x,z))')\n",
    "\n",
    "dist_bounded_lattice = bounded_lattice + [dist]"
   ]
  },
  {
   "cell_type": "markdown",
   "id": "824d02a1",
   "metadata": {},
   "source": [
    "### Complete lattice axioms"
   ]
  },
  {
   "cell_type": "code",
   "execution_count": 158,
   "id": "e6e3d1a2",
   "metadata": {},
   "outputs": [
    {
     "name": "stdout",
     "output_type": "stream",
     "text": [
      "============================== prooftrans ============================\n",
      "Prover9 (64) version 2009-11A, November 2009.\n",
      "Process 86034 was started by guzzler on oahzzdepbm,\n",
      "Sun Jun 19 10:14:57 2022\n",
      "The command was \"/usr/local/bin/prover9\".\n",
      "============================== end of head ===========================\n",
      "\n",
      "============================== end of input ==========================\n",
      "\n",
      "============================== PROOF =================================\n",
      "\n",
      "% -------- Comments from original proof --------\n",
      "% Proof 1 at 0.01 (+ 0.00) seconds.\n",
      "% Length of proof is 21.\n",
      "% Level of proof is 9.\n",
      "% Maximum clause weight is 36.000.\n",
      "% Given clauses 21.\n",
      "\n",
      "\n",
      "1 (all P exists x ((all y (P(y) -> And(y,x) = y)) & (all z ((all y (P(y) -> And(y,z) = y)) -> And(z,x) = x)))).  [assumption].\n",
      "2 (all P exists x ((all y (P(y) -> And(y,x) = y)) & (all z ((all y (P(y) -> And(y,z) = y)) -> And(z,x) = x)))).  [goal].\n",
      "3 -P(x) | And(x,f1(y)) = x.  [clausify(1)].\n",
      "4 P(f2(x,y)) | And(y,f1(x)) = f1(x).  [clausify(1)].\n",
      "5 And(f2(x,y),y) != f2(x,y) | And(y,f1(x)) = f1(x).  [clausify(1)].\n",
      "6 P(f3(x)) | -P(y) | And(y,f4(x)) = y.  [deny(2)].\n",
      "7 P(f3(x)) | And(f4(x),x) != x.  [deny(2)].\n",
      "8 And(f3(x),x) != f3(x) | -P(y) | And(y,f4(x)) = y.  [deny(2)].\n",
      "9 And(f3(x),x) != f3(x) | And(f4(x),x) != x.  [deny(2)].\n",
      "11 P(f3(x)) | And(f2(y,z),f4(x)) = f2(y,z) | And(z,f1(y)) = f1(y).  [resolve(6,b,4,a)].\n",
      "12 And(f3(x),x) != f3(x) | And(f2(y,z),f4(x)) = f2(y,z) | And(z,f1(y)) = f1(y).  [resolve(8,b,4,a)].\n",
      "22 And(f2(x,y),f4(z)) = f2(x,y) | And(y,f1(x)) = f1(x) | And(f3(z),f1(u)) = f3(z).  [resolve(11,a,3,a)].\n",
      "31 And(f4(x),f1(y)) = f1(y) | And(f3(x),f1(z)) = f3(x).  [resolve(22,a,5,a),merge(c)].\n",
      "34 And(f2(x,y),f4(f1(z))) = f2(x,y) | And(y,f1(x)) = f1(x) | And(f2(u,w),f4(f1(z))) = f2(u,w) | And(w,f1(u)) = f1(u).  [resolve(22,c,12,a)].\n",
      "39 And(f2(x,y),f4(f1(z))) = f2(x,y) | And(y,f1(x)) = f1(x).  [factor(34,a,c),merge(c)].\n",
      "41 And(f3(f1(x)),f1(y)) = f3(f1(x)) | P(f3(f1(x))).  [resolve(31,a,7,b)].\n",
      "82 And(f3(f1(x)),f1(y)) = f3(f1(x)) | And(f3(f1(x)),f1(z)) = f3(f1(x)).  [resolve(41,b,3,a)].\n",
      "83 And(f3(f1(x)),f1(y)) = f3(f1(x)).  [factor(82,a,b)].\n",
      "85 And(f4(f1(x)),f1(x)) != f1(x).  [ur(9,a,83,a)].\n",
      "88 And(f4(f1(x)),f1(y)) = f1(y).  [resolve(39,a,5,a),merge(b)].\n",
      "89 $F.  [resolve(88,a,85,a)].\n",
      "\n",
      "============================== end of proof ==========================\n"
     ]
    }
   ],
   "source": [
    "uniq_union = read_expr('all P.(exists z.(all x.(P(x) -> And(x, z) = x) & all y.((all x.(P(x) -> And(x, y) = x)) -> And(y,z) = z)))')\n",
    "uniq_join = read_expr('all P.(exists z.(all x.(P(x) -> And(x, z) = z) & all y.((all x.(P(x) -> And(x, y) = y)) -> And(y,z) = y)))')"
   ]
  },
  {
   "cell_type": "markdown",
   "id": "ef0250c5",
   "metadata": {},
   "source": [
    "### Boolean algebra axioms"
   ]
  },
  {
   "cell_type": "code",
   "execution_count": 159,
   "id": "45f30b0a",
   "metadata": {},
   "outputs": [],
   "source": [
    "compl = read_expr('all x.(exists y. (And(x, y) = Bot & Or(x, y) = Top))')\n",
    "\n",
    "boolean_algebra = dist_bounded_lattice + [uniq_union, uniq_join, compl]"
   ]
  },
  {
   "cell_type": "markdown",
   "id": "2d203f1d",
   "metadata": {},
   "source": [
    "### Exclusion axioms"
   ]
  },
  {
   "cell_type": "code",
   "execution_count": 160,
   "id": "d5370793",
   "metadata": {},
   "outputs": [],
   "source": [
    "excl_cumm = read_expr('Excl(x1, y1) & Excl(x2, y2) -> Excl(And(x1, x2), And(y1, y2))')\n",
    "excl_symm = read_expr('Excl(x, y) <-> Excl(y, x)')"
   ]
  },
  {
   "cell_type": "markdown",
   "id": "f29c72b9",
   "metadata": {},
   "source": [
    "### Possibility axioms"
   ]
  },
  {
   "cell_type": "code",
   "execution_count": 161,
   "id": "50749859",
   "metadata": {},
   "outputs": [],
   "source": [
    "#define conflict:\n",
    "confl_def = read_expr('confl(x, y) <-> exists z1.(And(z1, x) = x & exists z2.(And(z2, y) = y & Excl(z1, z2)))')\n",
    "\n",
    "#define possibilities:\n",
    "int_poss_def = read_expr('int_poss(x) <-> -Excl(x, x)')\n",
    "ext_poss_def = read_expr('ext_poss(x) <-> exists y.(int_poss(y) & -exists z.(And(y, z) = z & int_poss(z) & -(confl(z,x))))')\n",
    "\n",
    "#define world:\n",
    "world_def = read_expr('world(x) <-> (int_poss(x) & all y.((And(x, y) = y) -> -int_poss(y)))')\n",
    "\n",
    "#define actual:\n",
    "actual_def = read_expr('actual(x) <-> world(actual_world) & And(x, actual_world) = x')\n",
    "\n",
    "#Harmony\n",
    "poss_harm = read_expr('all x.(-int_poss(x) -> -ext_poss(x))')\n",
    "\n",
    "#Nirvana\n",
    "poss_nirv = read_expr('all x.(-confl(Bot, x))')\n",
    "\n",
    "#Rashōmon\n",
    "poss_rshm = read_expr('all x y.((int_poss(x) & int_poss(y) & -confl(x, y)) -> int_poss(And(x,y)))')\n",
    "\n",
    "#Cosmopolitanism\n",
    "poss_cosm = read_expr('all x.(int_poss(x) -> exists y.(world(y) & And(x, y) = y))')\n",
    "\n",
    "event_space = boolean_algebra + [excl_cumm, excl_symm, confl_def, int_poss_def, ext_poss_def, world_def, actual_def, poss_harm, poss_nirv, poss_rshm, poss_cosm]"
   ]
  },
  {
   "cell_type": "markdown",
   "id": "a85154db",
   "metadata": {},
   "source": [
    "## Theorems"
   ]
  },
  {
   "cell_type": "markdown",
   "id": "463decc0",
   "metadata": {},
   "source": [
    "### Plenitude"
   ]
  },
  {
   "cell_type": "code",
   "execution_count": 185,
   "id": "f5ec142d",
   "metadata": {},
   "outputs": [
    {
     "name": "stdout",
     "output_type": "stream",
     "text": [
      "============================== prooftrans ============================\n",
      "Prover9 (64) version 2009-11A, November 2009.\n",
      "Process 86859 was started by guzzler on oahzzdepbm,\n",
      "Sun Jun 19 10:43:42 2022\n",
      "The command was \"/usr/local/bin/prover9\".\n",
      "============================== end of head ===========================\n",
      "\n",
      "============================== end of input ==========================\n",
      "\n",
      "============================== PROOF =================================\n",
      "\n",
      "% -------- Comments from original proof --------\n",
      "% Proof 1 at 0.01 (+ 0.00) seconds.\n",
      "% Length of proof is 12.\n",
      "% Level of proof is 4.\n",
      "% Maximum clause weight is 10.000.\n",
      "% Given clauses 40.\n",
      "\n",
      "\n",
      "9 world(x) <-> int_poss(x) & (all y (And(x,y) = y -> -int_poss(y))).  [assumption].\n",
      "14 (all x (int_poss(x) -> (exists y (world(y) & And(x,y) = y)))).  [assumption].\n",
      "15 (all x (int_poss(x) -> ext_poss(x))).  [goal].\n",
      "24 -world(x) | int_poss(x).  [clausify(9)].\n",
      "25 -world(x) | And(x,y) != y | -int_poss(y).  [clausify(9)].\n",
      "27 -int_poss(x) | world(f11(x)).  [clausify(14)].\n",
      "29 And(x,x) = x.  [assumption].\n",
      "67 int_poss(c1).  [deny(15)].\n",
      "75 -int_poss(x) | int_poss(f11(x)).  [resolve(27,b,24,a)].\n",
      "76 -int_poss(x) | And(f11(x),y) != y | -int_poss(y).  [resolve(27,b,25,a)].\n",
      "183 int_poss(f11(c1)).  [resolve(75,a,67,a)].\n",
      "187 $F.  [ur(76,a,67,a,b,29,a),unit_del(a,183)].\n",
      "\n",
      "============================== end of proof ==========================\n"
     ]
    }
   ],
   "source": [
    "#check plenitude\n",
    "goal = read_expr('all x.(int_poss(x) -> ext_poss(x))')\n",
    "prover = Prover9Command(goal, assumptions = event_space)\n",
    "prover.prove()\n",
    "print(prover.proof())"
   ]
  },
  {
   "cell_type": "markdown",
   "id": "89f46585",
   "metadata": {},
   "source": [
    "### Distributivity of actuality"
   ]
  },
  {
   "cell_type": "code",
   "execution_count": 186,
   "id": "36cb33af",
   "metadata": {},
   "outputs": [
    {
     "name": "stdout",
     "output_type": "stream",
     "text": [
      "============================== prooftrans ============================\n",
      "Prover9 (64) version 2009-11A, November 2009.\n",
      "Process 86861 was started by guzzler on oahzzdepbm,\n",
      "Sun Jun 19 10:43:44 2022\n",
      "The command was \"/usr/local/bin/prover9\".\n",
      "============================== end of head ===========================\n",
      "\n",
      "============================== end of input ==========================\n",
      "\n",
      "============================== PROOF =================================\n",
      "\n",
      "% -------- Comments from original proof --------\n",
      "% Proof 1 at 0.01 (+ 0.00) seconds.\n",
      "% Length of proof is 11.\n",
      "% Level of proof is 4.\n",
      "% Maximum clause weight is 9.000.\n",
      "% Given clauses 58.\n",
      "\n",
      "\n",
      "9 world(x) <-> int_poss(x) & (all y (And(x,y) = y -> -int_poss(y))).  [assumption].\n",
      "10 actual(x) <-> world(actual_world) & And(x,actual_world) = x.  [assumption].\n",
      "15 (all x ((exists y actual(y)) & And(x,y) = x -> actual(x))).  [goal].\n",
      "27 And(x,x) = x.  [assumption].\n",
      "56 -world(x) | int_poss(x).  [clausify(9)].\n",
      "57 -world(x) | And(x,y) != y | -int_poss(y).  [clausify(9)].\n",
      "60 -actual(x) | world(actual_world).  [clausify(10)].\n",
      "67 actual(c3).  [deny(15)].\n",
      "128 world(actual_world).  [resolve(67,a,60,a)].\n",
      "196 int_poss(actual_world).  [resolve(128,a,56,a)].\n",
      "197 $F.  [ur(57,a,128,a,b,27,a),unit_del(a,196)].\n",
      "\n",
      "============================== end of proof ==========================\n"
     ]
    }
   ],
   "source": [
    "#check distributivity of actuality\n",
    "goal = read_expr('all x.((exists y. actual(y) & And(x, y) = x) -> actual(x))')\n",
    "prover = Prover9Command(goal, assumptions = event_space)\n",
    "prover.prove()\n",
    "print(prover.proof())"
   ]
  },
  {
   "cell_type": "markdown",
   "id": "4c27e993",
   "metadata": {},
   "source": [
    "### Cumulativity of actuality"
   ]
  },
  {
   "cell_type": "code",
   "execution_count": 187,
   "id": "4c734e9e",
   "metadata": {},
   "outputs": [
    {
     "name": "stdout",
     "output_type": "stream",
     "text": [
      "============================== prooftrans ============================\n",
      "Prover9 (64) version 2009-11A, November 2009.\n",
      "Process 86864 was started by guzzler on oahzzdepbm,\n",
      "Sun Jun 19 10:43:46 2022\n",
      "The command was \"/usr/local/bin/prover9\".\n",
      "============================== end of head ===========================\n",
      "\n",
      "============================== end of input ==========================\n",
      "\n",
      "============================== PROOF =================================\n",
      "\n",
      "% -------- Comments from original proof --------\n",
      "% Proof 1 at 0.01 (+ 0.00) seconds.\n",
      "% Length of proof is 17.\n",
      "% Level of proof is 6.\n",
      "% Maximum clause weight is 16.000.\n",
      "% Given clauses 61.\n",
      "\n",
      "\n",
      "6 confl(x,y) <-> (exists z (And(z,x) = x & (exists u (And(u,y) = y & Excl(z,u))))).  [assumption].\n",
      "7 int_poss(x) <-> -Excl(x,x).  [assumption].\n",
      "9 world(x) <-> int_poss(x) & (all y (And(x,y) = y -> -int_poss(y))).  [assumption].\n",
      "12 (all x -confl(Bot,x)).  [assumption].\n",
      "14 (all x (int_poss(x) -> (exists y (world(y) & And(x,y) = y)))).  [assumption].\n",
      "23 And(x,x) = x.  [assumption].\n",
      "53 confl(x,y) | And(z,x) != x | And(u,y) != y | -Excl(z,u).  [clausify(6)].\n",
      "55 int_poss(x) | Excl(x,x).  [clausify(7)].\n",
      "56 -world(x) | int_poss(x).  [clausify(9)].\n",
      "57 -world(x) | And(x,y) != y | -int_poss(y).  [clausify(9)].\n",
      "63 -confl(Bot,x).  [clausify(12)].\n",
      "65 -int_poss(x) | world(f11(x)).  [clausify(14)].\n",
      "130 -Excl(Bot,x).  [ur(53,a,63,a,b,23,a,c,23,a)].\n",
      "136 int_poss(Bot).  [resolve(130,a,55,b)].\n",
      "149 world(f11(Bot)).  [resolve(136,a,65,a)].\n",
      "158 int_poss(f11(Bot)).  [resolve(149,a,56,a)].\n",
      "160 $F.  [ur(57,a,149,a,b,23,a),unit_del(a,158)].\n",
      "\n",
      "============================== end of proof ==========================\n"
     ]
    }
   ],
   "source": [
    "#check cumulativity of actuality\n",
    "goal = read_expr('all P.((all x.(P(x) -> actual(x))) -> (exists z.(all x.(P(x) -> And(x, z) = x) & all y.((all x.(P(x) -> And(x, y) = x)) -> And(y,z) = z)) & actual(z)))')\n",
    "prover = Prover9Command(goal, assumptions = event_space)\n",
    "prover.prove()\n",
    "print(prover.proof())"
   ]
  },
  {
   "cell_type": "markdown",
   "id": "df547dd8",
   "metadata": {},
   "source": [
    "### Manicaeism"
   ]
  },
  {
   "cell_type": "code",
   "execution_count": 168,
   "id": "d25ca8b8",
   "metadata": {},
   "outputs": [
    {
     "name": "stdout",
     "output_type": "stream",
     "text": [
      "============================== prooftrans ============================\n",
      "Prover9 (64) version 2009-11A, November 2009.\n",
      "Process 86289 was started by guzzler on oahzzdepbm,\n",
      "Sun Jun 19 10:23:17 2022\n",
      "The command was \"/usr/local/bin/prover9\".\n",
      "============================== end of head ===========================\n",
      "\n",
      "============================== end of input ==========================\n",
      "\n",
      "============================== PROOF =================================\n",
      "\n",
      "% -------- Comments from original proof --------\n",
      "% Proof 1 at 0.01 (+ 0.00) seconds.\n",
      "% Length of proof is 13.\n",
      "% Level of proof is 4.\n",
      "% Maximum clause weight is 10.000.\n",
      "% Given clauses 44.\n",
      "\n",
      "\n",
      "9 world(x) <-> int_poss(x) & (all y (And(x,y) = y -> -int_poss(y))).  [assumption].\n",
      "14 (all x (int_poss(x) -> (exists y (world(y) & And(x,y) = y)))).  [assumption].\n",
      "15 (all x (world(x) -> (all y (And(x,y) = x | confl(x,y))))).  [goal].\n",
      "30 -world(x) | int_poss(x).  [clausify(9)].\n",
      "31 -world(x) | And(x,y) != y | -int_poss(y).  [clausify(9)].\n",
      "33 -int_poss(x) | world(f11(x)).  [clausify(14)].\n",
      "34 world(c1).  [deny(15)].\n",
      "36 And(x,x) = x.  [assumption].\n",
      "85 -int_poss(x) | int_poss(f11(x)).  [resolve(33,b,30,a)].\n",
      "86 -int_poss(x) | And(f11(x),y) != y | -int_poss(y).  [resolve(33,b,31,a)].\n",
      "87 int_poss(c1).  [resolve(34,a,30,a)].\n",
      "194 int_poss(f11(c1)).  [resolve(87,a,85,a)].\n",
      "207 $F.  [ur(86,a,87,a,b,36,a),unit_del(a,194)].\n",
      "\n",
      "============================== end of proof ==========================\n"
     ]
    }
   ],
   "source": [
    "#check Manichaeism\n",
    "goal = read_expr('all x.((world(x) -> all y.(And(x, y) = x | confl(x, y))))')\n",
    "prover = Prover9Command(goal, assumptions = event_space)\n",
    "prover.prove()\n",
    "print(prover.proof())"
   ]
  },
  {
   "cell_type": "markdown",
   "id": "a8f86595",
   "metadata": {},
   "source": [
    "### Classicality of conjunction"
   ]
  },
  {
   "cell_type": "code",
   "execution_count": 195,
   "id": "eb9af3b0",
   "metadata": {},
   "outputs": [
    {
     "name": "stdout",
     "output_type": "stream",
     "text": [
      "============================== prooftrans ============================\n",
      "Prover9 (64) version 2009-11A, November 2009.\n",
      "Process 87726 was started by guzzler on oahzzdepbm,\n",
      "Sun Jun 19 11:20:59 2022\n",
      "The command was \"/usr/local/bin/prover9\".\n",
      "============================== end of head ===========================\n",
      "\n",
      "============================== end of input ==========================\n",
      "\n",
      "============================== PROOF =================================\n",
      "\n",
      "% -------- Comments from original proof --------\n",
      "% Proof 1 at 0.01 (+ 0.00) seconds.\n",
      "% Length of proof is 17.\n",
      "% Level of proof is 6.\n",
      "% Maximum clause weight is 16.000.\n",
      "% Given clauses 78.\n",
      "\n",
      "\n",
      "6 confl(x,y) <-> (exists z (And(z,x) = x & (exists u (And(u,y) = y & Excl(z,u))))).  [assumption].\n",
      "7 int_poss(x) <-> -Excl(x,x).  [assumption].\n",
      "9 world(x) <-> int_poss(x) & (all y (And(x,y) = y -> -int_poss(y))).  [assumption].\n",
      "12 (all x -confl(Bot,x)).  [assumption].\n",
      "14 (all x (int_poss(x) -> (exists y (world(y) & And(x,y) = y)))).  [assumption].\n",
      "23 And(x,x) = x.  [assumption].\n",
      "53 confl(x,y) | And(z,x) != x | And(u,y) != y | -Excl(z,u).  [clausify(6)].\n",
      "55 int_poss(x) | Excl(x,x).  [clausify(7)].\n",
      "56 -world(x) | int_poss(x).  [clausify(9)].\n",
      "57 -world(x) | And(x,y) != y | -int_poss(y).  [clausify(9)].\n",
      "63 -confl(Bot,x).  [clausify(12)].\n",
      "65 -int_poss(x) | world(f11(x)).  [clausify(14)].\n",
      "151 -Excl(Bot,x).  [ur(53,a,63,a,b,23,a,c,23,a)].\n",
      "191 int_poss(Bot).  [resolve(151,a,55,b)].\n",
      "204 world(f11(Bot)).  [resolve(191,a,65,a)].\n",
      "213 int_poss(f11(Bot)).  [resolve(204,a,56,a)].\n",
      "215 $F.  [ur(57,a,204,a,b,23,a),unit_del(a,213)].\n",
      "\n",
      "============================== end of proof ==========================\n"
     ]
    }
   ],
   "source": [
    "#check classicality of conjunction\n",
    "goal = read_expr(r'((exists x. (P(x) & actual(x))) & (exists y. (Q(y) & actual(y)))) <-> exists y exists z.(actual(y) & actual(z) & P(y) & Q(z) & actual(Or(y, z)))')\n",
    "prover = Prover9Command(goal, assumptions = event_space)\n",
    "prover.prove()\n",
    "print(prover.proof())"
   ]
  },
  {
   "cell_type": "markdown",
   "id": "637d17a0",
   "metadata": {},
   "source": [
    "### Classicality of disjunction"
   ]
  },
  {
   "cell_type": "code",
   "execution_count": 198,
   "id": "bb0fe0f8",
   "metadata": {},
   "outputs": [
    {
     "name": "stdout",
     "output_type": "stream",
     "text": [
      "============================== prooftrans ============================\n",
      "Prover9 (64) version 2009-11A, November 2009.\n",
      "Process 92467 was started by guzzler on oahzzdepbm,\n",
      "Sun Jun 19 14:32:05 2022\n",
      "The command was \"/usr/local/bin/prover9\".\n",
      "============================== end of head ===========================\n",
      "\n",
      "============================== end of input ==========================\n",
      "\n",
      "============================== PROOF =================================\n",
      "\n",
      "% -------- Comments from original proof --------\n",
      "% Proof 1 at 0.01 (+ 0.00) seconds.\n",
      "% Length of proof is 17.\n",
      "% Level of proof is 6.\n",
      "% Maximum clause weight is 16.000.\n",
      "% Given clauses 66.\n",
      "\n",
      "\n",
      "6 confl(x,y) <-> (exists z (And(z,x) = x & (exists u (And(u,y) = y & Excl(z,u))))).  [assumption].\n",
      "7 int_poss(x) <-> -Excl(x,x).  [assumption].\n",
      "9 world(x) <-> int_poss(x) & (all y (And(x,y) = y -> -int_poss(y))).  [assumption].\n",
      "12 (all x -confl(Bot,x)).  [assumption].\n",
      "14 (all x (int_poss(x) -> (exists y (world(y) & And(x,y) = y)))).  [assumption].\n",
      "23 And(x,x) = x.  [assumption].\n",
      "53 confl(x,y) | And(z,x) != x | And(u,y) != y | -Excl(z,u).  [clausify(6)].\n",
      "55 int_poss(x) | Excl(x,x).  [clausify(7)].\n",
      "56 -world(x) | int_poss(x).  [clausify(9)].\n",
      "57 -world(x) | And(x,y) != y | -int_poss(y).  [clausify(9)].\n",
      "63 -confl(Bot,x).  [clausify(12)].\n",
      "65 -int_poss(x) | world(f11(x)).  [clausify(14)].\n",
      "134 -Excl(Bot,x).  [ur(53,a,63,a,b,23,a,c,23,a)].\n",
      "150 int_poss(Bot).  [resolve(134,a,55,b)].\n",
      "163 world(f11(Bot)).  [resolve(150,a,65,a)].\n",
      "172 int_poss(f11(Bot)).  [resolve(163,a,56,a)].\n",
      "174 $F.  [ur(57,a,163,a,b,23,a),unit_del(a,172)].\n",
      "\n",
      "============================== end of proof ==========================\n"
     ]
    }
   ],
   "source": [
    "#check classicality of disjunction\n",
    "goal = read_expr(r'(exists x. (actual(x) & (P(x) | Q(x)))) <-> ((exists x. (actual(x) & P(x))) & (exists y. (actual(y) & Q(y))))')\n",
    "prover = Prover9Command(goal, assumptions = event_space)\n",
    "prover.prove()\n",
    "print(prover.proof())"
   ]
  },
  {
   "cell_type": "markdown",
   "id": "151bf22d",
   "metadata": {},
   "source": [
    "### No Gaps"
   ]
  },
  {
   "cell_type": "code",
   "execution_count": 209,
   "id": "9c9defc4",
   "metadata": {},
   "outputs": [
    {
     "name": "stdout",
     "output_type": "stream",
     "text": [
      "============================== prooftrans ============================\n",
      "Prover9 (64) version 2009-11A, November 2009.\n",
      "Process 94354 was started by guzzler on oahzzdepbm,\n",
      "Sun Jun 19 22:20:06 2022\n",
      "The command was \"/usr/local/bin/prover9\".\n",
      "============================== end of head ===========================\n",
      "\n",
      "============================== end of input ==========================\n",
      "\n",
      "============================== PROOF =================================\n",
      "\n",
      "% -------- Comments from original proof --------\n",
      "% Proof 1 at 0.01 (+ 0.00) seconds.\n",
      "% Length of proof is 17.\n",
      "% Level of proof is 6.\n",
      "% Maximum clause weight is 16.000.\n",
      "% Given clauses 126.\n",
      "\n",
      "\n",
      "6 confl(x,y) <-> (exists z (And(z,x) = x & (exists u (And(u,y) = y & Excl(z,u))))).  [assumption].\n",
      "7 int_poss(x) <-> -Excl(x,x).  [assumption].\n",
      "9 world(x) <-> int_poss(x) & (all y (And(x,y) = y -> -int_poss(y))).  [assumption].\n",
      "12 (all x -confl(Bot,x)).  [assumption].\n",
      "14 (all x (int_poss(x) -> (exists y (world(y) & And(x,y) = y)))).  [assumption].\n",
      "23 And(x,x) = x.  [assumption].\n",
      "53 confl(x,y) | And(z,x) != x | And(u,y) != y | -Excl(z,u).  [clausify(6)].\n",
      "55 int_poss(x) | Excl(x,x).  [clausify(7)].\n",
      "56 -world(x) | int_poss(x).  [clausify(9)].\n",
      "57 -world(x) | And(x,y) != y | -int_poss(y).  [clausify(9)].\n",
      "63 -confl(Bot,x).  [clausify(12)].\n",
      "65 -int_poss(x) | world(f11(x)).  [clausify(14)].\n",
      "214 -Excl(Bot,x).  [ur(53,a,63,a,b,23,a,c,23,a)].\n",
      "306 int_poss(Bot).  [resolve(214,a,55,b)].\n",
      "319 world(f11(Bot)).  [resolve(306,a,65,a)].\n",
      "328 int_poss(f11(Bot)).  [resolve(319,a,56,a)].\n",
      "330 $F.  [ur(57,a,319,a,b,23,a),unit_del(a,328)].\n",
      "\n",
      "============================== end of proof ==========================\n"
     ]
    }
   ],
   "source": [
    "#define negating a set\n",
    "def negate(x, P):\n",
    "    return '(all a. (P(a) -> (exists b. And(x,b) = b & Excl(a, b))) & (all c. ((And(c, x) = c & (-exists d. (And(x, d) = d & And(c, d) = d))) -> (exists d. (P(d) & Excl(d, c))))) & all e all f. ((e != f) -> (exists g exists h.(And(g, x) = g & And(h, x) = h & g!=h & Excl(e, g) & Excl(f, h)))))'\n",
    "\n",
    "#check no gaps\n",
    "goal = read_expr('(-exists x. (actual(x) & P(x))) <-> (exists y. (actual(y) &'+negate('y', 'P')+'))')\n",
    "prover = Prover9Command(goal, assumptions = event_space)\n",
    "prover.prove()\n",
    "print(prover.proof())"
   ]
  },
  {
   "cell_type": "markdown",
   "id": "e60acbc6",
   "metadata": {},
   "source": [
    "### No Gluts"
   ]
  },
  {
   "cell_type": "code",
   "execution_count": 210,
   "id": "eccdc40f",
   "metadata": {},
   "outputs": [
    {
     "name": "stdout",
     "output_type": "stream",
     "text": [
      "============================== prooftrans ============================\n",
      "Prover9 (64) version 2009-11A, November 2009.\n",
      "Process 94360 was started by guzzler on oahzzdepbm,\n",
      "Sun Jun 19 22:20:15 2022\n",
      "The command was \"/usr/local/bin/prover9\".\n",
      "============================== end of head ===========================\n",
      "\n",
      "============================== end of input ==========================\n",
      "\n",
      "============================== PROOF =================================\n",
      "\n",
      "% -------- Comments from original proof --------\n",
      "% Proof 1 at 0.01 (+ 0.01) seconds.\n",
      "% Length of proof is 16.\n",
      "% Level of proof is 5.\n",
      "% Maximum clause weight is 10.000.\n",
      "% Given clauses 67.\n",
      "\n",
      "\n",
      "9 world(x) <-> int_poss(x) & (all y (And(x,y) = y -> -int_poss(y))).  [assumption].\n",
      "10 actual(x) <-> world(actual_world) & And(x,actual_world) = x.  [assumption].\n",
      "14 (all x (int_poss(x) -> (exists y (world(y) & And(x,y) = y)))).  [assumption].\n",
      "15 -((exists x actual(x)) & P(x) & (exists y actual(y)) & (all a (P(a) -> (exists b And(x,b) = b) & Excl(a,b))) & (all c (And(c,x) = c & -(exists d (And(x,d) = d & And(c,d) = d)) -> (exists d (P(d) & Excl(d,c))))) & (all e all f (e != f -> (exists g exists h (And(g,x) = g & And(h,x) = h & g != h & Excl(e,g) & Excl(f,h)))))).  [goal].\n",
      "32 -actual(x) | world(actual_world).  [clausify(10)].\n",
      "34 actual(c2).  [deny(15)].\n",
      "37 -world(x) | int_poss(x).  [clausify(9)].\n",
      "38 -world(x) | And(x,y) != y | -int_poss(y).  [clausify(9)].\n",
      "40 -int_poss(x) | world(f11(x)).  [clausify(14)].\n",
      "41 world(actual_world).  [resolve(34,a,32,a)].\n",
      "43 And(x,x) = x.  [assumption].\n",
      "119 -int_poss(x) | int_poss(f11(x)).  [resolve(40,b,37,a)].\n",
      "120 -int_poss(x) | And(f11(x),y) != y | -int_poss(y).  [resolve(40,b,38,a)].\n",
      "121 int_poss(actual_world).  [resolve(41,a,37,a)].\n",
      "316 int_poss(f11(actual_world)).  [resolve(121,a,119,a)].\n",
      "329 $F.  [ur(120,a,121,a,b,43,a),unit_del(a,316)].\n",
      "\n",
      "============================== end of proof ==========================\n"
     ]
    }
   ],
   "source": [
    "#check no gluts\n",
    "goal = read_expr('-((exists x. actual(x) & P(x)) & (exists y. actual(y) &'+negate('y', 'P')+'))')\n",
    "prover = Prover9Command(goal, assumptions = event_space)\n",
    "prover.prove()\n",
    "print(prover.proof())"
   ]
  }
 ],
 "metadata": {
  "kernelspec": {
   "display_name": "Python 3 (ipykernel)",
   "language": "python",
   "name": "python3"
  },
  "language_info": {
   "codemirror_mode": {
    "name": "ipython",
    "version": 3
   },
   "file_extension": ".py",
   "mimetype": "text/x-python",
   "name": "python",
   "nbconvert_exporter": "python",
   "pygments_lexer": "ipython3",
   "version": "3.9.12"
  }
 },
 "nbformat": 4,
 "nbformat_minor": 5
}
