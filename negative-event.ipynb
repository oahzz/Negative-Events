{
 "cells": [
  {
   "cell_type": "markdown",
   "id": "80b8c50d",
   "metadata": {},
   "source": [
    "This notebook is a supplement to the paper \"Negative events - Logical and philosophical aspects\"[link] by Lucas Champollion[link] and Timothée Bernard[link].\n",
    "\n",
    "The notebook uses the [Natural Language Toolkit](https://www.nltk.org)'s interface to [Prover9/Mace4](https://www.cs.unm.edu/~mccune/prover9/) to investigate the derivability of conclusions from the logical principles in the paper, understood as algebraic equations.\n",
    "\n",
    "## Outline"
   ]
  },
  {
   "cell_type": "code",
   "execution_count": 60,
   "id": "2bdeee3b",
   "metadata": {},
   "outputs": [],
   "source": [
    "from nltk.test.inference_fixt import setup_module\n",
    "\n",
    "setup_module()\n",
    "\n",
    "from nltk import *\n",
    "#from nltk.sem.drt import DrtParser\n",
    "\n",
    "from nltk.sem.logic import *\n",
    "logic._counter._value = 0\n",
    "\n",
    "from nltk.sem import Expression\n",
    "read_expr = Expression.fromstring"
   ]
  },
  {
   "cell_type": "markdown",
   "id": "93386a00",
   "metadata": {},
   "source": [
    "## Axioms"
   ]
  },
  {
   "cell_type": "markdown",
   "id": "015bc296",
   "metadata": {},
   "source": [
    "### Lattice axioms"
   ]
  },
  {
   "cell_type": "code",
   "execution_count": 62,
   "id": "b672e58b",
   "metadata": {},
   "outputs": [],
   "source": [
    "or_id = read_expr('Or(x,x) = x')\n",
    "and_id = read_expr('And(x,x) = x')\n",
    "\n",
    "or_comm = read_expr('Or(x,y) = Or(y,x)')\n",
    "and_comm = read_expr('And(x,y) = And(y,x)')\n",
    "\n",
    "or_assoc = read_expr('Or(x,Or(y,z)) = Or(Or(x,y),z)')\n",
    "and_assoc = read_expr('And(x,And(y,z)) = And(And(x,y),z)')\n",
    "\n",
    "or_absorp = read_expr('Or(x,And(x,y)) = x')\n",
    "and_absorp = read_expr('And(x,Or(x,y)) = x')\n",
    "\n",
    "lattice = [or_id, and_id, or_comm, and_comm, or_assoc, and_assoc, or_absorp, and_absorp]"
   ]
  },
  {
   "cell_type": "markdown",
   "id": "4ebee6d2",
   "metadata": {},
   "source": [
    "### Bounded lattice axioms"
   ]
  },
  {
   "cell_type": "code",
   "execution_count": 63,
   "id": "2acaa420",
   "metadata": {},
   "outputs": [],
   "source": [
    "bot = read_expr('Or(x, Bot) = x')\n",
    "top = read_expr('And(x, Top) = x')\n",
    "\n",
    "bounded_lattice = lattice + [bot, top]"
   ]
  },
  {
   "cell_type": "markdown",
   "id": "248541f5",
   "metadata": {},
   "source": [
    "### Distributive lattice axioms"
   ]
  },
  {
   "cell_type": "code",
   "execution_count": 64,
   "id": "04559264",
   "metadata": {},
   "outputs": [],
   "source": [
    "dist = read_expr('And(x,Or(y,z)) = Or(And(x,y), And(x,z))')\n",
    "\n",
    "dist_bounded_lattice = bounded_lattice + [dist]"
   ]
  },
  {
   "cell_type": "markdown",
   "id": "824d02a1",
   "metadata": {},
   "source": [
    "### Complete lattice axioms"
   ]
  },
  {
   "cell_type": "code",
   "execution_count": 65,
   "id": "e6e3d1a2",
   "metadata": {},
   "outputs": [],
   "source": [
    "uniq_union = read_expr('all P.(exists z.(all x.(P(x) -> And(x, z) = x) & all y.((all x.(P(x) -> And(x, y) = x)) -> And(y,z) = z)))')\n",
    "uniq_join = read_expr('all P.(exists z.(all x.(P(x) -> And(x, z) = z) & all y.((all x.(P(x) -> And(x, y) = y)) -> And(y,z) = y)))')"
   ]
  },
  {
   "cell_type": "markdown",
   "id": "ef0250c5",
   "metadata": {},
   "source": [
    "### Boolean algebra axioms"
   ]
  },
  {
   "cell_type": "code",
   "execution_count": 66,
   "id": "45f30b0a",
   "metadata": {},
   "outputs": [],
   "source": [
    "compl = read_expr('all x.(exists y. (And(x, y) = Bot & Or(x, y) = Top))')\n",
    "\n",
    "#sectional complement\n",
    "sec_compl = read_expr('all x. (all y. (exists z. (Or(x, z) = y & And(x, z) = Bot)))')\n",
    "\n",
    "boolean_algebra = dist_bounded_lattice + [uniq_union, uniq_join, compl]"
   ]
  },
  {
   "cell_type": "markdown",
   "id": "2d203f1d",
   "metadata": {},
   "source": [
    "### Exclusion axioms"
   ]
  },
  {
   "cell_type": "code",
   "execution_count": 67,
   "id": "d5370793",
   "metadata": {},
   "outputs": [],
   "source": [
    "excl_cumm = read_expr('Excl(x1, y1) & Excl(x2, y2) -> Excl(And(x1, x2), And(y1, y2))')\n",
    "excl_symm = read_expr('Excl(x, y) <-> Excl(y, x)')"
   ]
  },
  {
   "cell_type": "markdown",
   "id": "f29c72b9",
   "metadata": {},
   "source": [
    "### Possibility axioms"
   ]
  },
  {
   "cell_type": "code",
   "execution_count": 68,
   "id": "50749859",
   "metadata": {},
   "outputs": [],
   "source": [
    "#define conflict:\n",
    "confl_def = read_expr('confl(x, y) <-> exists z1.(And(z1, x) = x & exists z2.(And(z2, y) = y & Excl(z1, z2)))')\n",
    "\n",
    "#define possibilities:\n",
    "int_poss_def = read_expr('int_poss(x) <-> -Excl(x, x)')\n",
    "ext_poss_def = read_expr('ext_poss(x) <-> exists y.(int_poss(y) & -exists z.(And(y, z) = z & int_poss(z) & -(confl(z,x))))')\n",
    "\n",
    "poss_def = read_expr('poss(x) <-> -confl(x, x)')\n",
    "\n",
    "#define world:\n",
    "#world_def = read_expr('world(x) <-> (int_poss(x) & all y.((And(x, y) = y) -> -int_poss(y)))')\n",
    "\n",
    "world_def = read_expr('world(x) <-> (poss(x) & all y.((And(x, y) = y) -> -poss(y)))')\n",
    "\n",
    "#define actual:\n",
    "actual_def = read_expr('actual(x) <-> world(actual_world) & And(x, actual_world) = x')\n",
    "\n",
    "#Harmony\n",
    "#poss_harm = read_expr('all x.(-int_poss(x) -> -ext_poss(x))')\n",
    "\n",
    "poss_harm = read_expr('all x.(all y. ((world(x) & -confl(x, y)) -> poss(x)))')\n",
    "\n",
    "#Nirvana\n",
    "poss_nirv = read_expr('all x.(-confl(Bot, x))')\n",
    "\n",
    "#Rashōmon\n",
    "#poss_rshm = read_expr('all x y.((int_poss(x) & int_poss(y) & -confl(x, y)) -> int_poss(And(x,y)))')\n",
    "poss_rshm = read_expr('all x y.((poss(x) & poss(y) & -confl(x, y)) -> poss(And(x,y)))')\n",
    "\n",
    "\n",
    "#Cosmopolitanism\n",
    "#poss_cosm = read_expr('all x.(int_poss(x) -> exists y.(world(y) & And(x, y) = y))')\n",
    "\n",
    "poss_cosm = read_expr('all x.(poss(x) -> exists y.(world(y) & And(x, y) = x))')\n",
    "\n",
    "poss_ax = [poss_harm, poss_nirv, poss_rshm, poss_cosm]\n",
    "\n",
    "#Construct event frame\n",
    "#choice point: definition of possibility\n",
    "#choice point: formulation of harmony\n",
    "\n",
    "event_frame = boolean_algebra + [excl_cumm, excl_symm, confl_def, poss_def, world_def, actual_def]\n",
    "\n",
    "canonical_frame = event_frame + poss_ax"
   ]
  },
  {
   "cell_type": "markdown",
   "id": "a85154db",
   "metadata": {},
   "source": [
    "## Theorems"
   ]
  },
  {
   "cell_type": "markdown",
   "id": "463decc0",
   "metadata": {},
   "source": [
    "### Plenitude"
   ]
  },
  {
   "cell_type": "code",
   "execution_count": 69,
   "id": "f5ec142d",
   "metadata": {},
   "outputs": [
    {
     "name": "stdout",
     "output_type": "stream",
     "text": [
      "============================== prooftrans ============================\n",
      "Prover9 (64) version 2009-11A, November 2009.\n",
      "Process 3310 was started by guzzler on oahzzdepbm,\n",
      "Mon Jul  4 19:47:35 2022\n",
      "The command was \"/usr/local/bin/prover9\".\n",
      "============================== end of head ===========================\n",
      "\n",
      "============================== end of input ==========================\n",
      "\n",
      "============================== PROOF =================================\n",
      "\n",
      "% -------- Comments from original proof --------\n",
      "% Proof 1 at 0.01 (+ 0.01) seconds.\n",
      "% Length of proof is 15.\n",
      "% Level of proof is 5.\n",
      "% Maximum clause weight is 10.000.\n",
      "% Given clauses 43.\n",
      "\n",
      "\n",
      "7 poss(x) <-> -confl(x,x).  [assumption].\n",
      "8 world(x) <-> poss(x) & (all y (And(x,y) = y -> -poss(y))).  [assumption].\n",
      "11 (all x -confl(Bot,x)).  [assumption].\n",
      "13 (all x (poss(x) -> (exists y (world(y) & And(x,y) = x)))).  [assumption].\n",
      "24 -world(x) | And(x,y) != y | -poss(y).  [clausify(8)].\n",
      "27 -poss(x) | world(f9(x)).  [clausify(13)].\n",
      "33 And(x,y) = And(y,x).  [assumption].\n",
      "59 poss(x) | confl(x,x).  [clausify(7)].\n",
      "60 -confl(Bot,x).  [clausify(11)].\n",
      "62 -poss(x) | And(x,f9(x)) = x.  [clausify(13)].\n",
      "71 -poss(x) | And(f9(x),y) != y | -poss(y).  [resolve(27,b,24,a)].\n",
      "80 -poss(x) | And(x,f9(x)) != x.  [factor(71,a,c),rewrite([33(3)])].\n",
      "118 poss(Bot).  [resolve(60,a,59,b)].\n",
      "190 And(Bot,f9(Bot)) != Bot.  [resolve(118,a,80,a)].\n",
      "196 $F.  [resolve(118,a,62,a),unit_del(a,190)].\n",
      "\n",
      "============================== end of proof ==========================\n"
     ]
    }
   ],
   "source": [
    "#check plenitude\n",
    "#goal = read_expr('all x.(int_poss(x) -> ext_poss(x))')\n",
    "\n",
    "goal = read_expr('all x.(poss(x) <-> (exists y.(-confl(x, y) & world(y))))')\n",
    "prover = Prover9Command(goal, assumptions = canonical_frame)\n",
    "prover.prove()\n",
    "print(prover.proof())"
   ]
  },
  {
   "cell_type": "markdown",
   "id": "89f46585",
   "metadata": {},
   "source": [
    "### Distributivity of actuality"
   ]
  },
  {
   "cell_type": "code",
   "execution_count": 70,
   "id": "36cb33af",
   "metadata": {},
   "outputs": [
    {
     "name": "stdout",
     "output_type": "stream",
     "text": [
      "============================== prooftrans ============================\n",
      "Prover9 (64) version 2009-11A, November 2009.\n",
      "Process 3314 was started by guzzler on oahzzdepbm,\n",
      "Mon Jul  4 19:47:41 2022\n",
      "The command was \"/usr/local/bin/prover9\".\n",
      "============================== end of head ===========================\n",
      "\n",
      "============================== end of input ==========================\n",
      "\n",
      "============================== PROOF =================================\n",
      "\n",
      "% -------- Comments from original proof --------\n",
      "% Proof 1 at 0.01 (+ 0.00) seconds.\n",
      "% Length of proof is 11.\n",
      "% Level of proof is 4.\n",
      "% Maximum clause weight is 9.000.\n",
      "% Given clauses 47.\n",
      "\n",
      "\n",
      "8 world(x) <-> poss(x) & (all y (And(x,y) = y -> -poss(y))).  [assumption].\n",
      "9 actual(x) <-> world(actual_world) & And(x,actual_world) = x.  [assumption].\n",
      "14 (all x ((exists y actual(y)) & And(x,y) = x -> actual(x))).  [goal].\n",
      "20 And(x,x) = x.  [assumption].\n",
      "49 -world(x) | poss(x).  [clausify(8)].\n",
      "50 -world(x) | And(x,y) != y | -poss(y).  [clausify(8)].\n",
      "53 -actual(x) | world(actual_world).  [clausify(9)].\n",
      "60 actual(c3).  [deny(14)].\n",
      "109 world(actual_world).  [resolve(60,a,53,a)].\n",
      "185 poss(actual_world).  [resolve(109,a,49,a)].\n",
      "187 $F.  [ur(50,a,109,a,b,20,a),unit_del(a,185)].\n",
      "\n",
      "============================== end of proof ==========================\n"
     ]
    }
   ],
   "source": [
    "#check distributivity of actuality\n",
    "goal = read_expr('all x.((exists y. actual(y) & And(x, y) = x) -> actual(x))')\n",
    "prover = Prover9Command(goal, assumptions = canonical_frame)\n",
    "prover.prove()\n",
    "print(prover.proof())"
   ]
  },
  {
   "cell_type": "code",
   "execution_count": 71,
   "id": "bb266ca5",
   "metadata": {},
   "outputs": [
    {
     "data": {
      "text/plain": [
       "False"
      ]
     },
     "execution_count": 71,
     "metadata": {},
     "output_type": "execute_result"
    }
   ],
   "source": [
    "#Find counterexample for distributivity of actuality - fail\n",
    "\n",
    "goal = read_expr('all x.((exists y. actual(y) & And(x, y) = x) -> actual(x))')\n",
    "mb = MaceCommand(goal, assumptions = canonical_frame)\n",
    "mb.build_model()"
   ]
  },
  {
   "cell_type": "markdown",
   "id": "4c27e993",
   "metadata": {},
   "source": [
    "### Cumulativity of actuality"
   ]
  },
  {
   "cell_type": "code",
   "execution_count": 72,
   "id": "4c734e9e",
   "metadata": {},
   "outputs": [
    {
     "name": "stdout",
     "output_type": "stream",
     "text": [
      "============================== prooftrans ============================\n",
      "Prover9 (64) version 2009-11A, November 2009.\n",
      "Process 3321 was started by guzzler on oahzzdepbm,\n",
      "Mon Jul  4 19:47:50 2022\n",
      "The command was \"/usr/local/bin/prover9\".\n",
      "============================== end of head ===========================\n",
      "\n",
      "============================== end of input ==========================\n",
      "\n",
      "============================== PROOF =================================\n",
      "\n",
      "% -------- Comments from original proof --------\n",
      "% Proof 1 at 0.00 (+ 0.00) seconds.\n",
      "% Length of proof is 14.\n",
      "% Level of proof is 4.\n",
      "% Maximum clause weight is 9.000.\n",
      "% Given clauses 49.\n",
      "\n",
      "\n",
      "7 poss(x) <-> -confl(x,x).  [assumption].\n",
      "8 world(x) <-> poss(x) & (all y (And(x,y) = y -> -poss(y))).  [assumption].\n",
      "11 (all x -confl(Bot,x)).  [assumption].\n",
      "13 (all x (poss(x) -> (exists y (world(y) & And(x,y) = x)))).  [assumption].\n",
      "18 And(x,y) = And(y,x).  [assumption].\n",
      "48 poss(x) | confl(x,x).  [clausify(7)].\n",
      "50 -world(x) | And(x,y) != y | -poss(y).  [clausify(8)].\n",
      "56 -confl(Bot,x).  [clausify(11)].\n",
      "58 -poss(x) | world(f9(x)).  [clausify(13)].\n",
      "59 -poss(x) | And(x,f9(x)) = x.  [clausify(13)].\n",
      "109 poss(Bot).  [resolve(56,a,48,b)].\n",
      "118 And(Bot,f9(Bot)) = Bot.  [resolve(109,a,59,a)].\n",
      "119 world(f9(Bot)).  [resolve(109,a,58,a)].\n",
      "129 $F.  [ur(50,a,119,a,c,109,a),rewrite([18(4),118(4)]),xx(a)].\n",
      "\n",
      "============================== end of proof ==========================\n"
     ]
    }
   ],
   "source": [
    "#check cumulativity of actuality\n",
    "goal = read_expr('all P.((all x.(P(x) -> actual(x))) -> (exists z.(all x.(P(x) -> And(x, z) = x) & all y.((all x.(P(x) -> And(x, y) = x)) -> And(y,z) = z)) & actual(z)))')\n",
    "prover = Prover9Command(goal, assumptions = canonical_frame)\n",
    "prover.prove()\n",
    "print(prover.proof())"
   ]
  },
  {
   "cell_type": "code",
   "execution_count": 52,
   "id": "08aa4026",
   "metadata": {},
   "outputs": [
    {
     "name": "stdout",
     "output_type": "stream",
     "text": [
      "\n"
     ]
    }
   ],
   "source": [
    "#find counterexample for cumulativity of actuality - fail\n",
    "\n",
    "goal = read_expr('all P.((all x.(P(x) -> actual(x))) -> (exists z.(all x.(P(x) -> And(x, z) = x) & all y.((all x.(P(x) -> And(x, y) = x)) -> And(y,z) = z)) & actual(z)))')\n",
    "mb = MaceCommand(goal, assumptions = canonical_frame)\n",
    "mb.build_model()\n",
    "print(mb.model('cooked'))"
   ]
  },
  {
   "cell_type": "markdown",
   "id": "df547dd8",
   "metadata": {},
   "source": [
    "### Manicaeism"
   ]
  },
  {
   "cell_type": "code",
   "execution_count": 73,
   "id": "d25ca8b8",
   "metadata": {},
   "outputs": [
    {
     "name": "stdout",
     "output_type": "stream",
     "text": [
      "============================== prooftrans ============================\n",
      "Prover9 (64) version 2009-11A, November 2009.\n",
      "Process 3323 was started by guzzler on oahzzdepbm,\n",
      "Mon Jul  4 19:47:54 2022\n",
      "The command was \"/usr/local/bin/prover9\".\n",
      "============================== end of head ===========================\n",
      "\n",
      "============================== end of input ==========================\n",
      "\n",
      "============================== PROOF =================================\n",
      "\n",
      "% -------- Comments from original proof --------\n",
      "% Proof 1 at 0.01 (+ 0.00) seconds.\n",
      "% Length of proof is 13.\n",
      "% Level of proof is 4.\n",
      "% Maximum clause weight is 10.000.\n",
      "% Given clauses 35.\n",
      "\n",
      "\n",
      "8 world(x) <-> poss(x) & (all y (And(x,y) = y -> -poss(y))).  [assumption].\n",
      "13 (all x (poss(x) -> (exists y (world(y) & And(x,y) = x)))).  [assumption].\n",
      "14 (all x (world(x) -> (all y (And(x,y) = x | confl(x,y))))).  [goal].\n",
      "23 -world(x) | poss(x).  [clausify(8)].\n",
      "24 -world(x) | And(x,y) != y | -poss(y).  [clausify(8)].\n",
      "27 -poss(x) | world(f9(x)).  [clausify(13)].\n",
      "28 world(c1).  [deny(14)].\n",
      "32 And(x,y) = And(y,x).  [assumption].\n",
      "61 -poss(x) | And(x,f9(x)) = x.  [clausify(13)].\n",
      "71 -poss(x) | And(f9(x),y) != y | -poss(y).  [resolve(27,b,24,a)].\n",
      "72 poss(c1).  [resolve(28,a,23,a)].\n",
      "177 And(c1,f9(c1)) = c1.  [resolve(72,a,61,a)].\n",
      "180 $F.  [ur(71,a,72,a,c,72,a),rewrite([32(4),177(4)]),xx(a)].\n",
      "\n",
      "============================== end of proof ==========================\n"
     ]
    }
   ],
   "source": [
    "#check Manichaeism\n",
    "goal = read_expr('all x.((world(x) -> all y.(And(x, y) = x | confl(x, y))))')\n",
    "prover = Prover9Command(goal, assumptions = canonical_frame)\n",
    "prover.prove()\n",
    "print(prover.proof())"
   ]
  },
  {
   "cell_type": "markdown",
   "id": "a8f86595",
   "metadata": {},
   "source": [
    "### Classicality of conjunction"
   ]
  },
  {
   "cell_type": "code",
   "execution_count": 74,
   "id": "eb9af3b0",
   "metadata": {},
   "outputs": [
    {
     "name": "stdout",
     "output_type": "stream",
     "text": [
      "============================== prooftrans ============================\n",
      "Prover9 (64) version 2009-11A, November 2009.\n",
      "Process 3327 was started by guzzler on oahzzdepbm,\n",
      "Mon Jul  4 19:47:57 2022\n",
      "The command was \"/usr/local/bin/prover9\".\n",
      "============================== end of head ===========================\n",
      "\n",
      "============================== end of input ==========================\n",
      "\n",
      "============================== PROOF =================================\n",
      "\n",
      "% -------- Comments from original proof --------\n",
      "% Proof 1 at 0.01 (+ 0.00) seconds.\n",
      "% Length of proof is 14.\n",
      "% Level of proof is 4.\n",
      "% Maximum clause weight is 9.000.\n",
      "% Given clauses 66.\n",
      "\n",
      "\n",
      "7 poss(x) <-> -confl(x,x).  [assumption].\n",
      "8 world(x) <-> poss(x) & (all y (And(x,y) = y -> -poss(y))).  [assumption].\n",
      "11 (all x -confl(Bot,x)).  [assumption].\n",
      "13 (all x (poss(x) -> (exists y (world(y) & And(x,y) = x)))).  [assumption].\n",
      "18 And(x,y) = And(y,x).  [assumption].\n",
      "48 poss(x) | confl(x,x).  [clausify(7)].\n",
      "50 -world(x) | And(x,y) != y | -poss(y).  [clausify(8)].\n",
      "56 -confl(Bot,x).  [clausify(11)].\n",
      "58 -poss(x) | world(f9(x)).  [clausify(13)].\n",
      "59 -poss(x) | And(x,f9(x)) = x.  [clausify(13)].\n",
      "130 poss(Bot).  [resolve(56,a,48,b)].\n",
      "173 And(Bot,f9(Bot)) = Bot.  [resolve(130,a,59,a)].\n",
      "174 world(f9(Bot)).  [resolve(130,a,58,a)].\n",
      "184 $F.  [ur(50,a,174,a,c,130,a),rewrite([18(4),173(4)]),xx(a)].\n",
      "\n",
      "============================== end of proof ==========================\n"
     ]
    }
   ],
   "source": [
    "#check classicality of conjunction\n",
    "goal = read_expr(r'((exists x. (P(x) & actual(x))) & (exists y. (Q(y) & actual(y)))) <-> exists y exists z.(actual(y) & actual(z) & P(y) & Q(z) & actual(Or(y, z)))')\n",
    "prover = Prover9Command(goal, assumptions = canonical_frame)\n",
    "prover.prove()\n",
    "print(prover.proof())"
   ]
  },
  {
   "cell_type": "code",
   "execution_count": 55,
   "id": "496392fc",
   "metadata": {},
   "outputs": [
    {
     "name": "stdout",
     "output_type": "stream",
     "text": [
      "\n"
     ]
    }
   ],
   "source": [
    "#check classicality of conjunction\n",
    "goal = read_expr(r'((exists x. (P(x) & actual(x))) & (exists y. (Q(y) & actual(y)))) <-> exists y exists z.(actual(y) & actual(z) & P(y) & Q(z) & actual(Or(y, z)))')\n",
    "mb = MaceCommand(goal, assumptions = canonical_frame)\n",
    "mb.build_model()\n",
    "print(mb.model('cooked'))"
   ]
  },
  {
   "cell_type": "markdown",
   "id": "637d17a0",
   "metadata": {},
   "source": [
    "### Classicality of disjunction"
   ]
  },
  {
   "cell_type": "code",
   "execution_count": 75,
   "id": "bb0fe0f8",
   "metadata": {},
   "outputs": [
    {
     "name": "stdout",
     "output_type": "stream",
     "text": [
      "============================== prooftrans ============================\n",
      "Prover9 (64) version 2009-11A, November 2009.\n",
      "Process 3329 was started by guzzler on oahzzdepbm,\n",
      "Mon Jul  4 19:48:01 2022\n",
      "The command was \"/usr/local/bin/prover9\".\n",
      "============================== end of head ===========================\n",
      "\n",
      "============================== end of input ==========================\n",
      "\n",
      "============================== PROOF =================================\n",
      "\n",
      "% -------- Comments from original proof --------\n",
      "% Proof 1 at 0.01 (+ 0.00) seconds.\n",
      "% Length of proof is 14.\n",
      "% Level of proof is 4.\n",
      "% Maximum clause weight is 9.000.\n",
      "% Given clauses 54.\n",
      "\n",
      "\n",
      "7 poss(x) <-> -confl(x,x).  [assumption].\n",
      "8 world(x) <-> poss(x) & (all y (And(x,y) = y -> -poss(y))).  [assumption].\n",
      "11 (all x -confl(Bot,x)).  [assumption].\n",
      "13 (all x (poss(x) -> (exists y (world(y) & And(x,y) = x)))).  [assumption].\n",
      "18 And(x,y) = And(y,x).  [assumption].\n",
      "48 poss(x) | confl(x,x).  [clausify(7)].\n",
      "50 -world(x) | And(x,y) != y | -poss(y).  [clausify(8)].\n",
      "56 -confl(Bot,x).  [clausify(11)].\n",
      "58 -poss(x) | world(f9(x)).  [clausify(13)].\n",
      "59 -poss(x) | And(x,f9(x)) = x.  [clausify(13)].\n",
      "113 poss(Bot).  [resolve(56,a,48,b)].\n",
      "132 And(Bot,f9(Bot)) = Bot.  [resolve(113,a,59,a)].\n",
      "133 world(f9(Bot)).  [resolve(113,a,58,a)].\n",
      "143 $F.  [ur(50,a,133,a,c,113,a),rewrite([18(4),132(4)]),xx(a)].\n",
      "\n",
      "============================== end of proof ==========================\n"
     ]
    }
   ],
   "source": [
    "#check classicality of disjunction\n",
    "goal = read_expr(r'(exists x. (actual(x) & (P(x) | Q(x)))) <-> ((exists x. (actual(x) & P(x))) & (exists y. (actual(y) & Q(y))))')\n",
    "prover = Prover9Command(goal, assumptions = canonical_frame)\n",
    "prover.prove()\n",
    "print(prover.proof())"
   ]
  },
  {
   "cell_type": "markdown",
   "id": "151bf22d",
   "metadata": {},
   "source": [
    "### No Gaps"
   ]
  },
  {
   "cell_type": "code",
   "execution_count": 77,
   "id": "9c9defc4",
   "metadata": {},
   "outputs": [
    {
     "name": "stdout",
     "output_type": "stream",
     "text": [
      "============================== prooftrans ============================\n",
      "Prover9 (64) version 2009-11A, November 2009.\n",
      "Process 3335 was started by guzzler on oahzzdepbm,\n",
      "Mon Jul  4 19:48:15 2022\n",
      "The command was \"/usr/local/bin/prover9\".\n",
      "============================== end of head ===========================\n",
      "\n",
      "============================== end of input ==========================\n",
      "\n",
      "============================== PROOF =================================\n",
      "\n",
      "% -------- Comments from original proof --------\n",
      "% Proof 1 at 0.01 (+ 0.01) seconds.\n",
      "% Length of proof is 14.\n",
      "% Level of proof is 4.\n",
      "% Maximum clause weight is 9.000.\n",
      "% Given clauses 114.\n",
      "\n",
      "\n",
      "7 poss(x) <-> -confl(x,x).  [assumption].\n",
      "8 world(x) <-> poss(x) & (all y (And(x,y) = y -> -poss(y))).  [assumption].\n",
      "11 (all x -confl(Bot,x)).  [assumption].\n",
      "13 (all x (poss(x) -> (exists y (world(y) & And(x,y) = x)))).  [assumption].\n",
      "18 And(x,y) = And(y,x).  [assumption].\n",
      "48 poss(x) | confl(x,x).  [clausify(7)].\n",
      "50 -world(x) | And(x,y) != y | -poss(y).  [clausify(8)].\n",
      "56 -confl(Bot,x).  [clausify(11)].\n",
      "58 -poss(x) | world(f9(x)).  [clausify(13)].\n",
      "59 -poss(x) | And(x,f9(x)) = x.  [clausify(13)].\n",
      "193 poss(Bot).  [resolve(56,a,48,b)].\n",
      "200 And(Bot,f9(Bot)) = Bot.  [resolve(193,a,59,a)].\n",
      "201 world(f9(Bot)).  [resolve(193,a,58,a)].\n",
      "211 $F.  [ur(50,a,201,a,c,193,a),rewrite([18(4),200(4)]),xx(a)].\n",
      "\n",
      "============================== end of proof ==========================\n"
     ]
    }
   ],
   "source": [
    "#define negating a set\n",
    "def negate(x, P):\n",
    "    return '(all a. (P(a) -> (exists b. And(x,b) = b & Excl(a, b))) & (all c. ((And(c, x) = c & (-exists d. (And(x, d) = d & And(c, d) = d))) -> (exists d. (P(d) & Excl(d, c))))) & all e all f. ((e != f) -> (exists g exists h.(And(g, x) = g & And(h, x) = h & g!=h & Excl(e, g) & Excl(f, h)))))'\n",
    "\n",
    "#check no gaps\n",
    "goal = read_expr('(-exists x. (actual(x) & P(x))) <-> (exists y. (actual(y) &'+negate('y', 'P')+'))')\n",
    "prover = Prover9Command(goal, assumptions = canonical_frame)\n",
    "prover.prove()\n",
    "print(prover.proof())"
   ]
  },
  {
   "cell_type": "markdown",
   "id": "e60acbc6",
   "metadata": {},
   "source": [
    "### No Gluts"
   ]
  },
  {
   "cell_type": "code",
   "execution_count": 78,
   "id": "eccdc40f",
   "metadata": {},
   "outputs": [
    {
     "name": "stdout",
     "output_type": "stream",
     "text": [
      "============================== prooftrans ============================\n",
      "Prover9 (64) version 2009-11A, November 2009.\n",
      "Process 3339 was started by guzzler on oahzzdepbm,\n",
      "Mon Jul  4 19:48:17 2022\n",
      "The command was \"/usr/local/bin/prover9\".\n",
      "============================== end of head ===========================\n",
      "\n",
      "============================== end of input ==========================\n",
      "\n",
      "============================== PROOF =================================\n",
      "\n",
      "% -------- Comments from original proof --------\n",
      "% Proof 1 at 0.01 (+ 0.01) seconds.\n",
      "% Length of proof is 16.\n",
      "% Level of proof is 5.\n",
      "% Maximum clause weight is 10.000.\n",
      "% Given clauses 58.\n",
      "\n",
      "\n",
      "8 world(x) <-> poss(x) & (all y (And(x,y) = y -> -poss(y))).  [assumption].\n",
      "9 actual(x) <-> world(actual_world) & And(x,actual_world) = x.  [assumption].\n",
      "13 (all x (poss(x) -> (exists y (world(y) & And(x,y) = x)))).  [assumption].\n",
      "14 -((exists x actual(x)) & P(x) & (exists y actual(y)) & (all a (P(a) -> (exists b And(x,b) = b) & Excl(a,b))) & (all c (And(c,x) = c & -(exists d (And(x,d) = d & And(c,d) = d)) -> (exists d (P(d) & Excl(d,c))))) & (all e all f (e != f -> (exists g exists h (And(g,x) = g & And(h,x) = h & g != h & Excl(e,g) & Excl(f,h)))))).  [goal].\n",
      "25 -actual(x) | world(actual_world).  [clausify(9)].\n",
      "27 actual(c2).  [deny(14)].\n",
      "30 -world(x) | poss(x).  [clausify(8)].\n",
      "31 -world(x) | And(x,y) != y | -poss(y).  [clausify(8)].\n",
      "34 -poss(x) | world(f9(x)).  [clausify(13)].\n",
      "35 world(actual_world).  [resolve(27,a,25,a)].\n",
      "39 And(x,y) = And(y,x).  [assumption].\n",
      "68 -poss(x) | And(x,f9(x)) = x.  [clausify(13)].\n",
      "105 -poss(x) | And(f9(x),y) != y | -poss(y).  [resolve(34,b,31,a)].\n",
      "106 poss(actual_world).  [resolve(35,a,30,a)].\n",
      "299 And(actual_world,f9(actual_world)) = actual_world.  [resolve(106,a,68,a)].\n",
      "302 $F.  [ur(105,a,106,a,c,106,a),rewrite([39(4),299(4)]),xx(a)].\n",
      "\n",
      "============================== end of proof ==========================\n"
     ]
    }
   ],
   "source": [
    "#check no gluts\n",
    "goal = read_expr('-((exists x. actual(x) & P(x)) & (exists y. actual(y) &'+negate('y', 'P')+'))')\n",
    "prover = Prover9Command(goal, assumptions = canonical_frame)\n",
    "prover.prove()\n",
    "print(prover.proof())"
   ]
  },
  {
   "cell_type": "markdown",
   "id": "648cb4f1",
   "metadata": {},
   "source": [
    "## Independence of axioms"
   ]
  },
  {
   "cell_type": "code",
   "execution_count": 84,
   "id": "ec6090d9",
   "metadata": {
    "scrolled": true
   },
   "outputs": [
    {
     "name": "stdout",
     "output_type": "stream",
     "text": [
      "============================== prooftrans ============================\n",
      "Prover9 (64) version 2009-11A, November 2009.\n",
      "Process 3382 was started by guzzler on oahzzdepbm,\n",
      "Mon Jul  4 19:49:59 2022\n",
      "The command was \"/usr/local/bin/prover9\".\n",
      "============================== end of head ===========================\n",
      "\n",
      "============================== end of input ==========================\n",
      "\n",
      "============================== PROOF =================================\n",
      "\n",
      "% -------- Comments from original proof --------\n",
      "% Proof 1 at 0.00 (+ 0.00) seconds.\n",
      "% Length of proof is 7.\n",
      "% Level of proof is 3.\n",
      "% Maximum clause weight is 2.000.\n",
      "% Given clauses 0.\n",
      "\n",
      "\n",
      "8 world(x) <-> poss(x) & (all y (And(x,y) = y -> -poss(y))).  [assumption].\n",
      "14 (all x all y (world(x) & -confl(x,y) -> poss(x))).  [goal].\n",
      "23 -world(x) | poss(x).  [clausify(8)].\n",
      "28 world(c1).  [deny(14)].\n",
      "63 -poss(c1).  [deny(14)].\n",
      "72 poss(c1).  [resolve(28,a,23,a)].\n",
      "73 $F.  [copy(72),unit_del(a,63)].\n",
      "\n",
      "============================== end of proof ==========================\n"
     ]
    }
   ],
   "source": [
    "#Harmony is derivable from other possibility axioms\n",
    "\n",
    "goal = poss_harm\n",
    "prover = Prover9Command(goal, assumptions = [ax for ax in canonical_frame if not (ax == poss_harm | ax == poss_rshm)], timeout = 1000)\n",
    "prover.prove()\n",
    "print(prover.proof())"
   ]
  },
  {
   "cell_type": "code",
   "execution_count": 80,
   "id": "c2fdd912",
   "metadata": {},
   "outputs": [
    {
     "name": "stdout",
     "output_type": "stream",
     "text": [
      "% number = 1\n",
      "% seconds = 0\n",
      "\n",
      "% Interpretation of size 2\n",
      "\n",
      "Bot = 0.\n",
      "\n",
      "Top = 1.\n",
      "\n",
      "actual_world = 0.\n",
      "\n",
      "c1 = 0.\n",
      "\n",
      "f1(0) = 0.\n",
      "f1(1) = 0.\n",
      "\n",
      "f3(0) = 0.\n",
      "f3(1) = 0.\n",
      "\n",
      "f5(0) = 1.\n",
      "f5(1) = 0.\n",
      "\n",
      "f8(0) = 0.\n",
      "f8(1) = 0.\n",
      "\n",
      "f9(0) = 0.\n",
      "f9(1) = 0.\n",
      "\n",
      "And(0,0) = 0.\n",
      "And(0,1) = 0.\n",
      "And(1,0) = 0.\n",
      "And(1,1) = 1.\n",
      "\n",
      "Or(0,0) = 0.\n",
      "Or(0,1) = 1.\n",
      "Or(1,0) = 1.\n",
      "Or(1,1) = 1.\n",
      "\n",
      "f2(0,0) = 0.\n",
      "f2(0,1) = 0.\n",
      "f2(1,0) = 0.\n",
      "f2(1,1) = 0.\n",
      "\n",
      "f4(0,0) = 0.\n",
      "f4(0,1) = 0.\n",
      "f4(1,0) = 0.\n",
      "f4(1,1) = 0.\n",
      "\n",
      "f6(0,0) = 0.\n",
      "f6(0,1) = 0.\n",
      "f6(1,0) = 1.\n",
      "f6(1,1) = 1.\n",
      "\n",
      "f7(0,0) = 0.\n",
      "f7(0,1) = 1.\n",
      "f7(1,0) = 0.\n",
      "f7(1,1) = 1.\n",
      "\n",
      "  P(0).\n",
      "- P(1).\n",
      "\n",
      "- actual(0).\n",
      "- actual(1).\n",
      "\n",
      "- poss(0).\n",
      "- poss(1).\n",
      "\n",
      "- world(0).\n",
      "- world(1).\n",
      "\n",
      "  Excl(0,0).\n",
      "  Excl(0,1).\n",
      "  Excl(1,0).\n",
      "  Excl(1,1).\n",
      "\n",
      "  confl(0,0).\n",
      "  confl(0,1).\n",
      "  confl(1,0).\n",
      "  confl(1,1).\n",
      "\n"
     ]
    }
   ],
   "source": [
    "#Nirvana is not derivable from other possibility axioms (counterexample found)\n",
    "goal = poss_nirv\n",
    "mb = MaceCommand(goal, assumptions = [ax for ax in canonical_frame if not (ax == poss_nirv)])\n",
    "mb.build_model()\n",
    "print(mb.model(format = 'cooked'))"
   ]
  },
  {
   "cell_type": "code",
   "execution_count": 81,
   "id": "43d9d6a8",
   "metadata": {},
   "outputs": [
    {
     "name": "stdout",
     "output_type": "stream",
     "text": [
      "============================== prooftrans ============================\n",
      "Prover9 (64) version 2009-11A, November 2009.\n",
      "Process 3349 was started by guzzler on oahzzdepbm,\n",
      "Mon Jul  4 19:48:34 2022\n",
      "The command was \"/usr/local/bin/prover9\".\n",
      "============================== end of head ===========================\n",
      "\n",
      "============================== end of input ==========================\n",
      "\n",
      "============================== PROOF =================================\n",
      "\n",
      "% -------- Comments from original proof --------\n",
      "% Proof 1 at 0.01 (+ 0.00) seconds.\n",
      "% Length of proof is 8.\n",
      "% Level of proof is 2.\n",
      "% Maximum clause weight is 11.000.\n",
      "% Given clauses 30.\n",
      "\n",
      "\n",
      "12 (all x all y (poss(x) & poss(y) & -confl(x,y) -> poss(And(x,y)))).  [assumption].\n",
      "14 (all x all y (poss(x) & poss(y) & -confl(x,y) -> poss(And(x,y)))).  [goal].\n",
      "59 -poss(x) | -poss(y) | confl(x,y) | poss(And(x,y)).  [clausify(12)].\n",
      "61 poss(c1).  [deny(14)].\n",
      "62 poss(c2).  [deny(14)].\n",
      "63 -confl(c1,c2).  [deny(14)].\n",
      "64 -poss(And(c1,c2)).  [deny(14)].\n",
      "125 $F.  [ur(59,b,62,a,c,63,a,d,64,a),unit_del(a,61)].\n",
      "\n",
      "============================== end of proof ==========================\n"
     ]
    }
   ],
   "source": [
    "#Rashōmon is derivable from other possibility axioms\n",
    "goal = poss_rshm\n",
    "prover = Prover9Command(goal, assumptions = [ax for ax in canonical_frame if not (ax == poss_rshm | ax == poss_harm)], timeout = 1000)\n",
    "prover.prove()\n",
    "print(prover.proof())"
   ]
  },
  {
   "cell_type": "code",
   "execution_count": 83,
   "id": "cd661498",
   "metadata": {},
   "outputs": [
    {
     "name": "stdout",
     "output_type": "stream",
     "text": [
      "% number = 1\n",
      "% seconds = 0\n",
      "\n",
      "% Interpretation of size 2\n",
      "\n",
      "Bot = 0.\n",
      "\n",
      "Top = 1.\n",
      "\n",
      "actual_world = 0.\n",
      "\n",
      "c1 = 0.\n",
      "\n",
      "f1(0) = 0.\n",
      "f1(1) = 0.\n",
      "\n",
      "f3(0) = 0.\n",
      "f3(1) = 0.\n",
      "\n",
      "f5(0) = 1.\n",
      "f5(1) = 0.\n",
      "\n",
      "f8(0) = 0.\n",
      "f8(1) = 0.\n",
      "\n",
      "And(0,0) = 0.\n",
      "And(0,1) = 0.\n",
      "And(1,0) = 0.\n",
      "And(1,1) = 1.\n",
      "\n",
      "Or(0,0) = 0.\n",
      "Or(0,1) = 1.\n",
      "Or(1,0) = 1.\n",
      "Or(1,1) = 1.\n",
      "\n",
      "f2(0,0) = 0.\n",
      "f2(0,1) = 0.\n",
      "f2(1,0) = 0.\n",
      "f2(1,1) = 0.\n",
      "\n",
      "f4(0,0) = 0.\n",
      "f4(0,1) = 0.\n",
      "f4(1,0) = 0.\n",
      "f4(1,1) = 0.\n",
      "\n",
      "f6(0,0) = 0.\n",
      "f6(0,1) = 0.\n",
      "f6(1,0) = 0.\n",
      "f6(1,1) = 0.\n",
      "\n",
      "f7(0,0) = 0.\n",
      "f7(0,1) = 0.\n",
      "f7(1,0) = 0.\n",
      "f7(1,1) = 0.\n",
      "\n",
      "  P(0).\n",
      "- P(1).\n",
      "\n",
      "- actual(0).\n",
      "- actual(1).\n",
      "\n",
      "  poss(0).\n",
      "  poss(1).\n",
      "\n",
      "- world(0).\n",
      "- world(1).\n",
      "\n",
      "- Excl(0,0).\n",
      "- Excl(0,1).\n",
      "- Excl(1,0).\n",
      "- Excl(1,1).\n",
      "\n",
      "- confl(0,0).\n",
      "- confl(0,1).\n",
      "- confl(1,0).\n",
      "- confl(1,1).\n",
      "\n"
     ]
    }
   ],
   "source": [
    "#Cosmopolitan is not derivable from other possibility axioms (counterexample found)\n",
    "goal = poss_cosm\n",
    "mb = MaceCommand(goal, assumptions = [ax for ax in canonical_frame if not (ax == poss_cosm)])\n",
    "mb.build_model()\n",
    "print(mb.model(format = 'cooked'))"
   ]
  }
 ],
 "metadata": {
  "kernelspec": {
   "display_name": "Python 3 (ipykernel)",
   "language": "python",
   "name": "python3"
  },
  "language_info": {
   "codemirror_mode": {
    "name": "ipython",
    "version": 3
   },
   "file_extension": ".py",
   "mimetype": "text/x-python",
   "name": "python",
   "nbconvert_exporter": "python",
   "pygments_lexer": "ipython3",
   "version": "3.9.12"
  }
 },
 "nbformat": 4,
 "nbformat_minor": 5
}
