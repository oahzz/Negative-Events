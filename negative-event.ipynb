{
 "cells": [
  {
   "cell_type": "markdown",
   "id": "80b8c50d",
   "metadata": {},
   "source": [
    "This notebook is a supplement to the paper \"Negative events - Logical and philosophical aspects\"[link] by Lucas Champollion[link] and Timothée Bernard[link].\n",
    "\n",
    "The notebook uses the [Natural Language Toolkit](https://www.nltk.org)'s interface to [Prover9/Mace4](https://www.cs.unm.edu/~mccune/prover9/) to investigate the derivability of conclusions from the logical principles in the paper, understood as algebraic equations.\n",
    "\n",
    "## Outline"
   ]
  },
  {
   "cell_type": "code",
   "execution_count": 2,
   "id": "2bdeee3b",
   "metadata": {},
   "outputs": [],
   "source": [
    "from nltk.test.inference_fixt import setup_module\n",
    "\n",
    "setup_module()\n",
    "\n",
    "from nltk import *\n",
    "#from nltk.sem.drt import DrtParser\n",
    "\n",
    "from nltk.sem.logic import *\n",
    "logic._counter._value = 0\n",
    "\n",
    "from nltk.sem import Expression\n",
    "read_expr = Expression.fromstring"
   ]
  },
  {
   "cell_type": "markdown",
   "id": "93386a00",
   "metadata": {},
   "source": [
    "## Axioms"
   ]
  },
  {
   "cell_type": "markdown",
   "id": "015bc296",
   "metadata": {},
   "source": [
    "### Lattice axioms"
   ]
  },
  {
   "cell_type": "code",
   "execution_count": 3,
   "id": "b672e58b",
   "metadata": {},
   "outputs": [],
   "source": [
    "or_id = read_expr('Or(x,x) = x')\n",
    "and_id = read_expr('And(x,x) = x')\n",
    "\n",
    "or_comm = read_expr('Or(x,y) = Or(y,x)')\n",
    "and_comm = read_expr('And(x,y) = And(y,x)')\n",
    "\n",
    "or_assoc = read_expr('Or(x,Or(y,z)) = Or(Or(x,y),z)')\n",
    "and_assoc = read_expr('And(x,And(y,z)) = And(And(x,y),z)')\n",
    "\n",
    "or_absorp = read_expr('Or(x,And(x,y)) = x')\n",
    "and_absorp = read_expr('And(x,Or(x,y)) = x')\n",
    "\n",
    "lattice = [or_id, and_id, or_comm, and_comm, or_assoc, and_assoc, or_absorp, and_absorp]"
   ]
  },
  {
   "cell_type": "markdown",
   "id": "4ebee6d2",
   "metadata": {},
   "source": [
    "### Bounded lattice axioms"
   ]
  },
  {
   "cell_type": "code",
   "execution_count": 4,
   "id": "2acaa420",
   "metadata": {},
   "outputs": [],
   "source": [
    "bot = read_expr('Or(x, Bot) = x')\n",
    "top = read_expr('And(x, Top) = x')\n",
    "\n",
    "bounded_lattice = lattice + [bot, top]"
   ]
  },
  {
   "cell_type": "markdown",
   "id": "248541f5",
   "metadata": {},
   "source": [
    "### Distributive lattice axioms"
   ]
  },
  {
   "cell_type": "code",
   "execution_count": 5,
   "id": "04559264",
   "metadata": {},
   "outputs": [],
   "source": [
    "dist = read_expr('And(x,Or(y,z)) = Or(And(x,y), And(x,z))')\n",
    "\n",
    "dist_bounded_lattice = bounded_lattice + [dist]"
   ]
  },
  {
   "cell_type": "markdown",
   "id": "824d02a1",
   "metadata": {},
   "source": [
    "### Complete lattice axioms"
   ]
  },
  {
   "cell_type": "code",
   "execution_count": 6,
   "id": "e6e3d1a2",
   "metadata": {},
   "outputs": [],
   "source": [
    "uniq_sum = read_expr('all P.(exists z.(all x.(P(x) -> And(x, z) = x) & all y.((all x.(P(x) -> And(x, y) = x)) -> And(y,z) = z)))')\n",
    "uniq_product = read_expr('all P.(exists z.(all x.(P(x) -> And(x, z) = z) & all y.((all x.(P(x) -> And(x, y) = y)) -> And(y,z) = y)))')"
   ]
  },
  {
   "cell_type": "markdown",
   "id": "ef0250c5",
   "metadata": {},
   "source": [
    "### Boolean algebra axioms"
   ]
  },
  {
   "cell_type": "code",
   "execution_count": 7,
   "id": "45f30b0a",
   "metadata": {},
   "outputs": [],
   "source": [
    "compl = read_expr('all x.(exists y. (And(x, y) = Bot & Or(x, y) = Top))')\n",
    "\n",
    "#sectional complement\n",
    "sec_compl = read_expr('all x. (all y. (exists z. (Or(x, z) = y & And(x, z) = Bot)))')\n",
    "\n",
    "boolean_algebra = dist_bounded_lattice + [uniq_sum, uniq_product, compl]"
   ]
  },
  {
   "cell_type": "markdown",
   "id": "2d203f1d",
   "metadata": {},
   "source": [
    "### Exclusion axioms"
   ]
  },
  {
   "cell_type": "code",
   "execution_count": 8,
   "id": "d5370793",
   "metadata": {},
   "outputs": [],
   "source": [
    "excl_cumm = read_expr('Excl(x1, y1) & Excl(x2, y2) -> Excl(Or(x1, x2), Or(y1, y2))')\n",
    "excl_symm = read_expr('Excl(x, y) <-> Excl(y, x)')"
   ]
  },
  {
   "cell_type": "markdown",
   "id": "f29c72b9",
   "metadata": {},
   "source": [
    "### Possibility axioms"
   ]
  },
  {
   "cell_type": "code",
   "execution_count": 9,
   "id": "50749859",
   "metadata": {},
   "outputs": [],
   "source": [
    "#define conflict:\n",
    "confl_def = read_expr('confl(x, y) <-> exists z1.(And(z1, x) = z1 & exists z2.(And(z2, y) = z2 & Excl(z1, z2)))')\n",
    "\n",
    "#define possibilities:\n",
    "int_poss_def = read_expr('int_poss(x) <-> -Excl(x, x)')\n",
    "ext_poss_def = read_expr('ext_poss(x) <-> exists y.(int_poss(y) & -exists z.(And(y, z) = y & int_poss(z) & -(confl(z,x))))')\n",
    "\n",
    "poss_def = read_expr('poss(x) <-> -confl(x, x)')\n",
    "\n",
    "#define world:\n",
    "#world_def = read_expr('world(x) <-> (int_poss(x) & all y.((And(x, y) = y) -> -int_poss(y)))')\n",
    "\n",
    "world_def = read_expr('world(x) <-> (poss(x) & all y.((And(x, y) = x) -> -poss(y)))')\n",
    "\n",
    "#actual world\n",
    "#actual_world = read_expr('world(actual_world)')\n",
    "\n",
    "#define actual:\n",
    "#actual_def = read_expr('actual(x) <-> And(x, actual_world) = x')\n",
    "\n",
    "#Harmony\n",
    "#poss_harm = read_expr('all x.(-int_poss(x) -> -ext_poss(x))')\n",
    "\n",
    "poss_harm = read_expr('all x.(all y. ((world(x) & -confl(x, y)) -> poss(x)))')\n",
    "\n",
    "#Nirvana\n",
    "poss_nirv = read_expr('all x.(-confl(Bot, x))')\n",
    "\n",
    "#Rashōmon\n",
    "#poss_rshm = read_expr('all x y.((int_poss(x) & int_poss(y) & -confl(x, y)) -> int_poss(And(x,y)))')\n",
    "poss_rshm = read_expr('all x y.((poss(x) & poss(y) & -confl(x, y)) -> poss(And(x,y)))')\n",
    "\n",
    "\n",
    "#Cosmopolitanism\n",
    "#poss_cosm = read_expr('all x.(int_poss(x) -> exists y.(world(y) & And(x, y) = y))')\n",
    "\n",
    "poss_cosm = read_expr('all x.(poss(x) -> exists y.(world(y) & And(x, y) = x))')\n",
    "\n",
    "poss_ax = [poss_harm, poss_nirv, poss_rshm, poss_cosm]\n",
    "\n",
    "#Construct event frame\n",
    "#choice point: definition of possibility\n",
    "#choice point: formulation of harmony\n",
    "\n",
    "event_space = boolean_algebra + [excl_cumm, excl_symm, confl_def, poss_def, world_def]\n",
    "\n",
    "event_frame = event_space + poss_ax"
   ]
  },
  {
   "cell_type": "markdown",
   "id": "a85154db",
   "metadata": {},
   "source": [
    "## Theorems"
   ]
  },
  {
   "cell_type": "markdown",
   "id": "463decc0",
   "metadata": {},
   "source": [
    "### Plenitude"
   ]
  },
  {
   "cell_type": "code",
   "execution_count": 10,
   "id": "f5ec142d",
   "metadata": {},
   "outputs": [
    {
     "name": "stdout",
     "output_type": "stream",
     "text": [
      "============================== prooftrans ============================\n",
      "Prover9 (64) version 2009-11A, November 2009.\n",
      "Process 2717 was started by guzzler on 10-17-18-2.dynapool.wireless.nyu.edu,\n",
      "Fri Jul  8 14:19:45 2022\n",
      "The command was \"/usr/local/bin/prover9\".\n",
      "============================== end of head ===========================\n",
      "\n",
      "============================== end of input ==========================\n",
      "\n",
      "============================== PROOF =================================\n",
      "\n",
      "% -------- Comments from original proof --------\n",
      "% Proof 1 at 0.01 (+ 0.01) seconds.\n",
      "% Length of proof is 15.\n",
      "% Level of proof is 4.\n",
      "% Maximum clause weight is 11.000.\n",
      "% Given clauses 43.\n",
      "\n",
      "\n",
      "7 poss(x) <-> -confl(x,x).  [assumption].\n",
      "8 world(x) <-> poss(x) & (all y (And(x,y) = x -> -poss(y))).  [assumption].\n",
      "10 (all x -confl(Bot,x)).  [assumption].\n",
      "12 (all x (poss(x) -> (exists y (world(y) & And(x,y) = x)))).  [assumption].\n",
      "19 -world(x) | poss(x).  [clausify(8)].\n",
      "20 -world(x) | And(x,y) != x | -poss(y).  [clausify(8)].\n",
      "23 -poss(x) | world(f9(x)).  [clausify(12)].\n",
      "27 And(x,x) = x.  [assumption].\n",
      "55 poss(x) | confl(x,x).  [clausify(7)].\n",
      "56 -confl(Bot,x).  [clausify(10)].\n",
      "66 -poss(x) | poss(f9(x)).  [resolve(23,b,19,a)].\n",
      "67 -poss(x) | And(f9(x),y) != f9(x) | -poss(y).  [resolve(23,b,20,a)].\n",
      "114 poss(Bot).  [resolve(56,a,55,b)].\n",
      "191 poss(f9(Bot)).  [resolve(114,a,66,a)].\n",
      "198 $F.  [ur(67,a,114,a,b,27,a),unit_del(a,191)].\n",
      "\n",
      "============================== end of proof ==========================\n"
     ]
    }
   ],
   "source": [
    "#check plenitude\n",
    "#goal = read_expr('all x.(int_poss(x) -> ext_poss(x))')\n",
    "\n",
    "goal = read_expr('all x.(poss(x) <-> (exists y.(-confl(x, y) & world(y))))')\n",
    "prover = Prover9Command(goal, assumptions = event_frame)\n",
    "prover.prove()\n",
    "print(prover.proof())"
   ]
  },
  {
   "cell_type": "markdown",
   "id": "89f46585",
   "metadata": {},
   "source": [
    "### Distributivity of actuality"
   ]
  },
  {
   "cell_type": "code",
   "execution_count": 11,
   "id": "36cb33af",
   "metadata": {},
   "outputs": [
    {
     "name": "stdout",
     "output_type": "stream",
     "text": [
      "============================== prooftrans ============================\n",
      "Prover9 (64) version 2009-11A, November 2009.\n",
      "Process 2719 was started by guzzler on 10-17-18-2.dynapool.wireless.nyu.edu,\n",
      "Fri Jul  8 14:19:49 2022\n",
      "The command was \"/usr/local/bin/prover9\".\n",
      "============================== end of head ===========================\n",
      "\n",
      "============================== end of input ==========================\n",
      "\n",
      "============================== PROOF =================================\n",
      "\n",
      "% -------- Comments from original proof --------\n",
      "% Proof 1 at 0.01 (+ 0.00) seconds.\n",
      "% Length of proof is 15.\n",
      "% Level of proof is 4.\n",
      "% Maximum clause weight is 11.000.\n",
      "% Given clauses 43.\n",
      "\n",
      "\n",
      "7 poss(x) <-> -confl(x,x).  [assumption].\n",
      "8 world(x) <-> poss(x) & (all y (And(x,y) = x -> -poss(y))).  [assumption].\n",
      "10 (all x -confl(Bot,x)).  [assumption].\n",
      "12 (all x (poss(x) -> (exists y (world(y) & And(x,y) = x)))).  [assumption].\n",
      "19 -world(x) | poss(x).  [clausify(8)].\n",
      "20 -world(x) | And(x,y) != x | -poss(y).  [clausify(8)].\n",
      "23 -poss(x) | world(f9(x)).  [clausify(12)].\n",
      "25 And(x,x) = x.  [assumption].\n",
      "53 poss(x) | confl(x,x).  [clausify(7)].\n",
      "54 -confl(Bot,x).  [clausify(10)].\n",
      "67 -poss(x) | poss(f9(x)).  [resolve(23,b,19,a)].\n",
      "68 -poss(x) | And(f9(x),y) != f9(x) | -poss(y).  [resolve(23,b,20,a)].\n",
      "109 poss(Bot).  [resolve(54,a,53,b)].\n",
      "181 poss(f9(Bot)).  [resolve(109,a,67,a)].\n",
      "188 $F.  [ur(68,a,109,a,b,25,a),unit_del(a,181)].\n",
      "\n",
      "============================== end of proof ==========================\n"
     ]
    }
   ],
   "source": [
    "#check distributivity of actuality\n",
    "goal = read_expr('all x.((exists y. actual(y) & And(x, y) = x) -> actual(x))')\n",
    "prover = Prover9Command(goal, assumptions = event_frame)\n",
    "prover.prove()\n",
    "print(prover.proof())"
   ]
  },
  {
   "cell_type": "code",
   "execution_count": 12,
   "id": "bb266ca5",
   "metadata": {},
   "outputs": [
    {
     "data": {
      "text/plain": [
       "False"
      ]
     },
     "execution_count": 12,
     "metadata": {},
     "output_type": "execute_result"
    }
   ],
   "source": [
    "#Find counterexample for distributivity of actuality - fail\n",
    "\n",
    "goal = read_expr('all x.((exists y. actual(y) & And(x, y) = x) -> actual(x))')\n",
    "mb = MaceCommand(goal, assumptions = event_frame)\n",
    "mb.build_model()"
   ]
  },
  {
   "cell_type": "markdown",
   "id": "4c27e993",
   "metadata": {},
   "source": [
    "### Cumulativity of actuality"
   ]
  },
  {
   "cell_type": "code",
   "execution_count": 13,
   "id": "4c734e9e",
   "metadata": {},
   "outputs": [
    {
     "name": "stdout",
     "output_type": "stream",
     "text": [
      "============================== prooftrans ============================\n",
      "Prover9 (64) version 2009-11A, November 2009.\n",
      "Process 2730 was started by guzzler on 10-17-18-2.dynapool.wireless.nyu.edu,\n",
      "Fri Jul  8 14:20:17 2022\n",
      "The command was \"/usr/local/bin/prover9\".\n",
      "============================== end of head ===========================\n",
      "\n",
      "============================== end of input ==========================\n",
      "\n",
      "============================== PROOF =================================\n",
      "\n",
      "% -------- Comments from original proof --------\n",
      "% Proof 1 at 0.01 (+ 0.01) seconds.\n",
      "% Length of proof is 15.\n",
      "% Level of proof is 4.\n",
      "% Maximum clause weight is 11.000.\n",
      "% Given clauses 45.\n",
      "\n",
      "\n",
      "7 poss(x) <-> -confl(x,x).  [assumption].\n",
      "8 world(x) <-> poss(x) & (all y (And(x,y) = x -> -poss(y))).  [assumption].\n",
      "10 (all x -confl(Bot,x)).  [assumption].\n",
      "12 (all x (poss(x) -> (exists y (world(y) & And(x,y) = x)))).  [assumption].\n",
      "15 -world(x) | poss(x).  [clausify(8)].\n",
      "16 -world(x) | And(x,y) != x | -poss(y).  [clausify(8)].\n",
      "19 -poss(x) | world(f9(x)).  [clausify(12)].\n",
      "21 And(x,x) = x.  [assumption].\n",
      "53 poss(x) | confl(x,x).  [clausify(7)].\n",
      "54 -confl(Bot,x).  [clausify(10)].\n",
      "67 -poss(x) | poss(f9(x)).  [resolve(19,b,15,a)].\n",
      "68 -poss(x) | And(f9(x),y) != f9(x) | -poss(y).  [resolve(19,b,16,a)].\n",
      "113 poss(Bot).  [resolve(54,a,53,b)].\n",
      "127 poss(f9(Bot)).  [resolve(113,a,67,a)].\n",
      "134 $F.  [ur(68,a,113,a,b,21,a),unit_del(a,127)].\n",
      "\n",
      "============================== end of proof ==========================\n"
     ]
    }
   ],
   "source": [
    "#check cumulativity of actuality\n",
    "goal = read_expr('all P.((all x.(P(x) -> actual(x))) -> (exists z.(all x.(P(x) -> And(x, z) = x) & all y.((all x.(P(x) -> And(x, y) = x)) -> And(y,z) = z)) & actual(z)))')\n",
    "prover = Prover9Command(goal, assumptions = event_frame)\n",
    "prover.prove()\n",
    "print(prover.proof())"
   ]
  },
  {
   "cell_type": "code",
   "execution_count": 14,
   "id": "08aa4026",
   "metadata": {},
   "outputs": [
    {
     "data": {
      "text/plain": [
       "False"
      ]
     },
     "execution_count": 14,
     "metadata": {},
     "output_type": "execute_result"
    }
   ],
   "source": [
    "#find counterexample for cumulativity of actuality - fail\n",
    "\n",
    "goal = read_expr('all P.((all x.(P(x) -> actual(x))) -> (exists z.(all x.(P(x) -> And(x, z) = x) & all y.((all x.(P(x) -> And(x, y) = x)) -> And(y,z) = z)) & actual(z)))')\n",
    "mb = MaceCommand(goal, assumptions = event_frame)\n",
    "mb.build_model()"
   ]
  },
  {
   "cell_type": "markdown",
   "id": "df547dd8",
   "metadata": {},
   "source": [
    "### Manichaeism"
   ]
  },
  {
   "cell_type": "code",
   "execution_count": 15,
   "id": "d25ca8b8",
   "metadata": {},
   "outputs": [
    {
     "name": "stdout",
     "output_type": "stream",
     "text": [
      "============================== prooftrans ============================\n",
      "Prover9 (64) version 2009-11A, November 2009.\n",
      "Process 2738 was started by guzzler on 10-17-18-2.dynapool.wireless.nyu.edu,\n",
      "Fri Jul  8 14:20:35 2022\n",
      "The command was \"/usr/local/bin/prover9\".\n",
      "============================== end of head ===========================\n",
      "\n",
      "============================== end of input ==========================\n",
      "\n",
      "============================== PROOF =================================\n",
      "\n",
      "% -------- Comments from original proof --------\n",
      "% Proof 1 at 0.01 (+ 0.01) seconds.\n",
      "% Length of proof is 13.\n",
      "% Level of proof is 4.\n",
      "% Maximum clause weight is 11.000.\n",
      "% Given clauses 35.\n",
      "\n",
      "\n",
      "8 world(x) <-> poss(x) & (all y (And(x,y) = x -> -poss(y))).  [assumption].\n",
      "12 (all x (poss(x) -> (exists y (world(y) & And(x,y) = x)))).  [assumption].\n",
      "13 (all x (world(x) -> (all y (And(x,y) = y | confl(x,y))))).  [goal].\n",
      "19 -world(x) | poss(x).  [clausify(8)].\n",
      "20 -world(x) | And(x,y) != x | -poss(y).  [clausify(8)].\n",
      "23 -poss(x) | world(f9(x)).  [clausify(12)].\n",
      "24 world(c1).  [deny(13)].\n",
      "26 And(x,x) = x.  [assumption].\n",
      "66 -poss(x) | poss(f9(x)).  [resolve(23,b,19,a)].\n",
      "67 -poss(x) | And(f9(x),y) != f9(x) | -poss(y).  [resolve(23,b,20,a)].\n",
      "68 poss(c1).  [resolve(24,a,19,a)].\n",
      "172 poss(f9(c1)).  [resolve(68,a,66,a)].\n",
      "179 $F.  [ur(67,a,68,a,b,26,a),unit_del(a,172)].\n",
      "\n",
      "============================== end of proof ==========================\n"
     ]
    }
   ],
   "source": [
    "#check Manichaeism\n",
    "goal = read_expr('all x.((world(x) -> all y.(And(x, y) = y | confl(x, y))))')\n",
    "prover = Prover9Command(goal, assumptions = event_frame)\n",
    "prover.prove()\n",
    "print(prover.proof())"
   ]
  },
  {
   "cell_type": "markdown",
   "id": "a8f86595",
   "metadata": {},
   "source": [
    "### Classicality of conjunction"
   ]
  },
  {
   "cell_type": "code",
   "execution_count": 16,
   "id": "eb9af3b0",
   "metadata": {},
   "outputs": [
    {
     "name": "stdout",
     "output_type": "stream",
     "text": [
      "============================== prooftrans ============================\n",
      "Prover9 (64) version 2009-11A, November 2009.\n",
      "Process 2743 was started by guzzler on 10-17-18-2.dynapool.wireless.nyu.edu,\n",
      "Fri Jul  8 14:20:44 2022\n",
      "The command was \"/usr/local/bin/prover9\".\n",
      "============================== end of head ===========================\n",
      "\n",
      "============================== end of input ==========================\n",
      "\n",
      "============================== PROOF =================================\n",
      "\n",
      "% -------- Comments from original proof --------\n",
      "% Proof 1 at 0.01 (+ 0.00) seconds.\n",
      "% Length of proof is 15.\n",
      "% Level of proof is 4.\n",
      "% Maximum clause weight is 11.000.\n",
      "% Given clauses 62.\n",
      "\n",
      "\n",
      "7 poss(x) <-> -confl(x,x).  [assumption].\n",
      "8 world(x) <-> poss(x) & (all y (And(x,y) = x -> -poss(y))).  [assumption].\n",
      "10 (all x -confl(Bot,x)).  [assumption].\n",
      "12 (all x (poss(x) -> (exists y (world(y) & And(x,y) = x)))).  [assumption].\n",
      "15 -world(x) | poss(x).  [clausify(8)].\n",
      "16 -world(x) | And(x,y) != x | -poss(y).  [clausify(8)].\n",
      "19 -poss(x) | world(f9(x)).  [clausify(12)].\n",
      "21 And(x,x) = x.  [assumption].\n",
      "53 poss(x) | confl(x,x).  [clausify(7)].\n",
      "54 -confl(Bot,x).  [clausify(10)].\n",
      "80 -poss(x) | poss(f9(x)).  [resolve(19,b,15,a)].\n",
      "81 -poss(x) | And(f9(x),y) != f9(x) | -poss(y).  [resolve(19,b,16,a)].\n",
      "134 poss(Bot).  [resolve(54,a,53,b)].\n",
      "174 poss(f9(Bot)).  [resolve(134,a,80,a)].\n",
      "181 $F.  [ur(81,a,134,a,b,21,a),unit_del(a,174)].\n",
      "\n",
      "============================== end of proof ==========================\n"
     ]
    }
   ],
   "source": [
    "#check classicality of conjunction\n",
    "goal = read_expr(r'((exists x. (P(x) & actual(x))) & (exists y. (Q(y) & actual(y)))) <-> exists y exists z.(actual(y) & actual(z) & P(y) & Q(z) & actual(Or(y, z)))')\n",
    "prover = Prover9Command(goal, assumptions = event_frame)\n",
    "prover.prove()\n",
    "print(prover.proof())"
   ]
  },
  {
   "cell_type": "code",
   "execution_count": 17,
   "id": "496392fc",
   "metadata": {},
   "outputs": [
    {
     "data": {
      "text/plain": [
       "False"
      ]
     },
     "execution_count": 17,
     "metadata": {},
     "output_type": "execute_result"
    }
   ],
   "source": [
    "#check classicality of conjunction\n",
    "goal = read_expr(r'((exists x. (P(x) & actual(x))) & (exists y. (Q(y) & actual(y)))) <-> exists y exists z.(actual(y) & actual(z) & P(y) & Q(z) & actual(Or(y, z)))')\n",
    "mb = MaceCommand(goal, assumptions = event_frame)\n",
    "mb.build_model()"
   ]
  },
  {
   "cell_type": "markdown",
   "id": "637d17a0",
   "metadata": {},
   "source": [
    "### Classicality of disjunction"
   ]
  },
  {
   "cell_type": "code",
   "execution_count": 18,
   "id": "bb0fe0f8",
   "metadata": {},
   "outputs": [
    {
     "name": "stdout",
     "output_type": "stream",
     "text": [
      "============================== prooftrans ============================\n",
      "Prover9 (64) version 2009-11A, November 2009.\n",
      "Process 2750 was started by guzzler on 10-17-18-2.dynapool.wireless.nyu.edu,\n",
      "Fri Jul  8 14:20:58 2022\n",
      "The command was \"/usr/local/bin/prover9\".\n",
      "============================== end of head ===========================\n",
      "\n",
      "============================== end of input ==========================\n",
      "\n",
      "============================== PROOF =================================\n",
      "\n",
      "% -------- Comments from original proof --------\n",
      "% Proof 1 at 0.01 (+ 0.00) seconds.\n",
      "% Length of proof is 15.\n",
      "% Level of proof is 4.\n",
      "% Maximum clause weight is 11.000.\n",
      "% Given clauses 50.\n",
      "\n",
      "\n",
      "7 poss(x) <-> -confl(x,x).  [assumption].\n",
      "8 world(x) <-> poss(x) & (all y (And(x,y) = x -> -poss(y))).  [assumption].\n",
      "10 (all x -confl(Bot,x)).  [assumption].\n",
      "12 (all x (poss(x) -> (exists y (world(y) & And(x,y) = x)))).  [assumption].\n",
      "15 -world(x) | poss(x).  [clausify(8)].\n",
      "16 -world(x) | And(x,y) != x | -poss(y).  [clausify(8)].\n",
      "19 -poss(x) | world(f9(x)).  [clausify(12)].\n",
      "21 And(x,x) = x.  [assumption].\n",
      "53 poss(x) | confl(x,x).  [clausify(7)].\n",
      "54 -confl(Bot,x).  [clausify(10)].\n",
      "69 -poss(x) | poss(f9(x)).  [resolve(19,b,15,a)].\n",
      "70 -poss(x) | And(f9(x),y) != f9(x) | -poss(y).  [resolve(19,b,16,a)].\n",
      "117 poss(Bot).  [resolve(54,a,53,b)].\n",
      "136 poss(f9(Bot)).  [resolve(117,a,69,a)].\n",
      "143 $F.  [ur(70,a,117,a,b,21,a),unit_del(a,136)].\n",
      "\n",
      "============================== end of proof ==========================\n"
     ]
    }
   ],
   "source": [
    "#check classicality of disjunction\n",
    "goal = read_expr(r'(exists x. (actual(x) & (P(x) | Q(x)))) <-> ((exists x. (actual(x) & P(x))) & (exists y. (actual(y) & Q(y))))')\n",
    "prover = Prover9Command(goal, assumptions = event_frame)\n",
    "prover.prove()\n",
    "print(prover.proof())"
   ]
  },
  {
   "cell_type": "markdown",
   "id": "151bf22d",
   "metadata": {},
   "source": [
    "### No Gaps"
   ]
  },
  {
   "cell_type": "code",
   "execution_count": 20,
   "id": "9c9defc4",
   "metadata": {},
   "outputs": [
    {
     "name": "stdout",
     "output_type": "stream",
     "text": [
      "============================== prooftrans ============================\n",
      "Prover9 (64) version 2009-11A, November 2009.\n",
      "Process 2406 was started by guzzler on 10-17-18-2.dynapool.wireless.nyu.edu,\n",
      "Fri Jul  8 14:04:57 2022\n",
      "The command was \"/usr/local/bin/prover9\".\n",
      "============================== end of head ===========================\n",
      "\n",
      "============================== end of input ==========================\n",
      "\n",
      "============================== PROOF =================================\n",
      "\n",
      "% -------- Comments from original proof --------\n",
      "% Proof 1 at 0.01 (+ 0.00) seconds.\n",
      "% Length of proof is 8.\n",
      "% Level of proof is 3.\n",
      "% Maximum clause weight is 7.000.\n",
      "% Given clauses 59.\n",
      "\n",
      "\n",
      "8 world(x) <-> poss(x) & (all y (And(x,y) = x -> -poss(y))).  [assumption].\n",
      "16 -world(x) | poss(x).  [clausify(8)].\n",
      "17 -world(x) | And(x,y) != x | -poss(y).  [clausify(8)].\n",
      "19 world(actual_world).  [assumption].\n",
      "23 And(x,x) = x.  [assumption].\n",
      "103 poss(actual_world).  [resolve(19,a,16,a)].\n",
      "104 And(actual_world,x) != actual_world | -poss(x).  [resolve(19,a,17,a)].\n",
      "207 $F.  [resolve(104,b,103,a),rewrite([23(3)]),xx(a)].\n",
      "\n",
      "============================== end of proof ==========================\n"
     ]
    }
   ],
   "source": [
    "#define negating a set\n",
    "def negate(x, P):\n",
    "    return '(all x1. (P(x1) -> (exists x2. And(x,x2) = x2 & Excl(x1, x2))) & (all x3. ((And(x3, x) = x3 & (-exists x4. (And(x, x4) = x4 & And(x3, x4) = x4))) -> (exists x5. (P(x5) & Excl(x5, x3))))) & all x6 all x7. ((x6 != x7) -> (exists x8 exists x9.(And(x8, x) = x8 & And(x9, x) = x9 & x8!=x9 & Excl(x6, x8) & Excl(x7, x9)))))'\n",
    "\n",
    "#check no gaps\n",
    "goal = read_expr('(-exists x. (actual(x) & P(x))) <-> (exists y. (actual(y) &'+negate('y', 'P')+'))')\n",
    "prover = Prover9Command(goal, assumptions = event_frame)\n",
    "prover.prove()\n",
    "print(prover.proof())"
   ]
  },
  {
   "cell_type": "markdown",
   "id": "e60acbc6",
   "metadata": {},
   "source": [
    "### No Gluts"
   ]
  },
  {
   "cell_type": "code",
   "execution_count": 21,
   "id": "eccdc40f",
   "metadata": {},
   "outputs": [
    {
     "name": "stdout",
     "output_type": "stream",
     "text": [
      "============================== prooftrans ============================\n",
      "Prover9 (64) version 2009-11A, November 2009.\n",
      "Process 2408 was started by guzzler on 10-17-18-2.dynapool.wireless.nyu.edu,\n",
      "Fri Jul  8 14:05:00 2022\n",
      "The command was \"/usr/local/bin/prover9\".\n",
      "============================== end of head ===========================\n",
      "\n",
      "============================== end of input ==========================\n",
      "\n",
      "============================== PROOF =================================\n",
      "\n",
      "% -------- Comments from original proof --------\n",
      "% Proof 1 at 0.01 (+ 0.00) seconds.\n",
      "% Length of proof is 8.\n",
      "% Level of proof is 3.\n",
      "% Maximum clause weight is 7.000.\n",
      "% Given clauses 45.\n",
      "\n",
      "\n",
      "8 world(x) <-> poss(x) & (all y (And(x,y) = x -> -poss(y))).  [assumption].\n",
      "25 -world(x) | poss(x).  [clausify(8)].\n",
      "26 -world(x) | And(x,y) != x | -poss(y).  [clausify(8)].\n",
      "28 world(actual_world).  [assumption].\n",
      "36 And(x,x) = x.  [assumption].\n",
      "93 poss(actual_world).  [resolve(28,a,25,a)].\n",
      "94 And(actual_world,x) != actual_world | -poss(x).  [resolve(28,a,26,a)].\n",
      "257 $F.  [resolve(94,b,93,a),rewrite([36(3)]),xx(a)].\n",
      "\n",
      "============================== end of proof ==========================\n"
     ]
    }
   ],
   "source": [
    "#check no gluts\n",
    "goal = read_expr('-((exists x. actual(x) & P(x)) & (exists y. actual(y) &'+negate('y', 'P')+'))')\n",
    "prover = Prover9Command(goal, assumptions = event_frame)\n",
    "prover.prove()\n",
    "print(prover.proof())"
   ]
  },
  {
   "cell_type": "markdown",
   "id": "648cb4f1",
   "metadata": {},
   "source": [
    "## Independence of axioms"
   ]
  },
  {
   "cell_type": "code",
   "execution_count": 36,
   "id": "ec6090d9",
   "metadata": {
    "scrolled": true
   },
   "outputs": [
    {
     "name": "stdout",
     "output_type": "stream",
     "text": [
      "============================== prooftrans ============================\n",
      "Prover9 (64) version 2009-11A, November 2009.\n",
      "Process 2574 was started by guzzler on 10-17-18-2.dynapool.wireless.nyu.edu,\n",
      "Fri Jul  8 14:13:24 2022\n",
      "The command was \"/usr/local/bin/prover9\".\n",
      "============================== end of head ===========================\n",
      "\n",
      "============================== end of input ==========================\n",
      "\n",
      "============================== PROOF =================================\n",
      "\n",
      "% -------- Comments from original proof --------\n",
      "% Proof 1 at 0.00 (+ 0.00) seconds.\n",
      "% Length of proof is 7.\n",
      "% Level of proof is 3.\n",
      "% Maximum clause weight is 2.000.\n",
      "% Given clauses 0.\n",
      "\n",
      "\n",
      "8 world(x) <-> poss(x) & (all y (And(x,y) = x -> -poss(y))).  [assumption].\n",
      "13 (all x all y (world(x) & -confl(x,y) -> poss(x))).  [goal].\n",
      "19 -world(x) | poss(x).  [clausify(8)].\n",
      "24 world(c1).  [deny(13)].\n",
      "61 -poss(c1).  [deny(13)].\n",
      "72 poss(c1).  [resolve(24,a,19,a)].\n",
      "73 $F.  [copy(72),unit_del(a,61)].\n",
      "\n",
      "============================== end of proof ==========================\n"
     ]
    }
   ],
   "source": [
    "#Harmony is derivable from other possibility axioms\n",
    "\n",
    "goal = poss_harm\n",
    "prover = Prover9Command(goal, assumptions = [ax for ax in event_frame if not (ax == poss_harm)], timeout = 1000)\n",
    "prover.prove()\n",
    "print(prover.proof())"
   ]
  },
  {
   "cell_type": "code",
   "execution_count": 44,
   "id": "c2fdd912",
   "metadata": {},
   "outputs": [
    {
     "data": {
      "text/plain": [
       "False"
      ]
     },
     "execution_count": 44,
     "metadata": {},
     "output_type": "execute_result"
    }
   ],
   "source": [
    "#Nirvana is derivable from other possibility axioms (no counterexample found)\n",
    "goal = poss_nirv\n",
    "mb = MaceCommand(goal, assumptions = [ax for ax in event_frame if not (ax == poss_nirv)])\n",
    "mb.build_model()"
   ]
  },
  {
   "cell_type": "code",
   "execution_count": 39,
   "id": "a2e701bc",
   "metadata": {},
   "outputs": [
    {
     "name": "stdout",
     "output_type": "stream",
     "text": [
      "============================== prooftrans ============================\n",
      "Prover9 (64) version 2009-11A, November 2009.\n",
      "Process 2595 was started by guzzler on 10-17-18-2.dynapool.wireless.nyu.edu,\n",
      "Fri Jul  8 14:14:27 2022\n",
      "The command was \"/usr/local/bin/prover9\".\n",
      "============================== end of head ===========================\n",
      "\n",
      "============================== end of input ==========================\n",
      "\n",
      "============================== PROOF =================================\n",
      "\n",
      "% -------- Comments from original proof --------\n",
      "% Proof 1 at 0.01 (+ 0.00) seconds.\n",
      "% Length of proof is 8.\n",
      "% Level of proof is 3.\n",
      "% Maximum clause weight is 7.000.\n",
      "% Given clauses 32.\n",
      "\n",
      "\n",
      "8 world(x) <-> poss(x) & (all y (And(x,y) = x -> -poss(y))).  [assumption].\n",
      "19 -world(x) | poss(x).  [clausify(8)].\n",
      "20 -world(x) | And(x,y) != x | -poss(y).  [clausify(8)].\n",
      "22 world(actual_world).  [assumption].\n",
      "28 And(x,x) = x.  [assumption].\n",
      "66 poss(actual_world).  [resolve(22,a,19,a)].\n",
      "67 And(actual_world,x) != actual_world | -poss(x).  [resolve(22,a,20,a)].\n",
      "173 $F.  [resolve(67,b,66,a),rewrite([28(3)]),xx(a)].\n",
      "\n",
      "============================== end of proof ==========================\n"
     ]
    }
   ],
   "source": [
    "goal = poss_nirv\n",
    "prover = Prover9Command(goal, assumptions = [ax for ax in event_frame if not (ax == poss_nirv)], timeout = 1000)\n",
    "prover.prove()\n",
    "print(prover.proof())"
   ]
  },
  {
   "cell_type": "code",
   "execution_count": 40,
   "id": "43d9d6a8",
   "metadata": {},
   "outputs": [
    {
     "name": "stdout",
     "output_type": "stream",
     "text": [
      "============================== prooftrans ============================\n",
      "Prover9 (64) version 2009-11A, November 2009.\n",
      "Process 2602 was started by guzzler on 10-17-18-2.dynapool.wireless.nyu.edu,\n",
      "Fri Jul  8 14:14:41 2022\n",
      "The command was \"/usr/local/bin/prover9\".\n",
      "============================== end of head ===========================\n",
      "\n",
      "============================== end of input ==========================\n",
      "\n",
      "============================== PROOF =================================\n",
      "\n",
      "% -------- Comments from original proof --------\n",
      "% Proof 1 at 0.01 (+ 0.00) seconds.\n",
      "% Length of proof is 8.\n",
      "% Level of proof is 3.\n",
      "% Maximum clause weight is 7.000.\n",
      "% Given clauses 35.\n",
      "\n",
      "\n",
      "8 world(x) <-> poss(x) & (all y (And(x,y) = x -> -poss(y))).  [assumption].\n",
      "19 -world(x) | poss(x).  [clausify(8)].\n",
      "20 -world(x) | And(x,y) != x | -poss(y).  [clausify(8)].\n",
      "22 world(actual_world).  [assumption].\n",
      "28 And(x,x) = x.  [assumption].\n",
      "69 poss(actual_world).  [resolve(22,a,19,a)].\n",
      "70 And(actual_world,x) != actual_world | -poss(x).  [resolve(22,a,20,a)].\n",
      "179 $F.  [resolve(70,b,69,a),rewrite([28(3)]),xx(a)].\n",
      "\n",
      "============================== end of proof ==========================\n"
     ]
    }
   ],
   "source": [
    "#Rashōmon is derivable from other possibility axioms\n",
    "goal = poss_rshm\n",
    "prover = Prover9Command(goal, assumptions = [ax for ax in event_frame if not (ax == poss_rshm)], timeout = 1000)\n",
    "prover.prove()\n",
    "print(prover.proof())"
   ]
  },
  {
   "cell_type": "code",
   "execution_count": 41,
   "id": "cd661498",
   "metadata": {},
   "outputs": [
    {
     "data": {
      "text/plain": [
       "False"
      ]
     },
     "execution_count": 41,
     "metadata": {},
     "output_type": "execute_result"
    }
   ],
   "source": [
    "#Cosmopolitan is not derivable from other possibility axioms (counterexample found)\n",
    "goal = poss_cosm\n",
    "mb = MaceCommand(goal, assumptions = [ax for ax in event_frame if not (ax == poss_cosm)])\n",
    "mb.build_model()"
   ]
  },
  {
   "cell_type": "code",
   "execution_count": 42,
   "id": "1025bd38",
   "metadata": {},
   "outputs": [
    {
     "name": "stdout",
     "output_type": "stream",
     "text": [
      "============================== prooftrans ============================\n",
      "Prover9 (64) version 2009-11A, November 2009.\n",
      "Process 2608 was started by guzzler on 10-17-18-2.dynapool.wireless.nyu.edu,\n",
      "Fri Jul  8 14:14:54 2022\n",
      "The command was \"/usr/local/bin/prover9\".\n",
      "============================== end of head ===========================\n",
      "\n",
      "============================== end of input ==========================\n",
      "\n",
      "============================== PROOF =================================\n",
      "\n",
      "% -------- Comments from original proof --------\n",
      "% Proof 1 at 0.01 (+ 0.00) seconds.\n",
      "% Length of proof is 8.\n",
      "% Level of proof is 3.\n",
      "% Maximum clause weight is 7.000.\n",
      "% Given clauses 32.\n",
      "\n",
      "\n",
      "8 world(x) <-> poss(x) & (all y (And(x,y) = x -> -poss(y))).  [assumption].\n",
      "19 -world(x) | poss(x).  [clausify(8)].\n",
      "20 -world(x) | And(x,y) != x | -poss(y).  [clausify(8)].\n",
      "22 world(actual_world).  [assumption].\n",
      "28 And(x,x) = x.  [assumption].\n",
      "66 poss(actual_world).  [resolve(22,a,19,a)].\n",
      "67 And(actual_world,x) != actual_world | -poss(x).  [resolve(22,a,20,a)].\n",
      "176 $F.  [resolve(67,b,66,a),rewrite([28(3)]),xx(a)].\n",
      "\n",
      "============================== end of proof ==========================\n"
     ]
    }
   ],
   "source": [
    "#Cosmopolitan is derivable from other possibility axioms\n",
    "goal = poss_cosm\n",
    "prover = Prover9Command(goal, assumptions = [ax for ax in event_frame if not (ax == poss_cosm)], timeout = 1000)\n",
    "prover.prove()\n",
    "print(prover.proof())"
   ]
  },
  {
   "cell_type": "code",
   "execution_count": null,
   "id": "05df686a",
   "metadata": {},
   "outputs": [],
   "source": []
  }
 ],
 "metadata": {
  "kernelspec": {
   "display_name": "Python 3 (ipykernel)",
   "language": "python",
   "name": "python3"
  },
  "language_info": {
   "codemirror_mode": {
    "name": "ipython",
    "version": 3
   },
   "file_extension": ".py",
   "mimetype": "text/x-python",
   "name": "python",
   "nbconvert_exporter": "python",
   "pygments_lexer": "ipython3",
   "version": "3.9.12"
  }
 },
 "nbformat": 4,
 "nbformat_minor": 5
}
