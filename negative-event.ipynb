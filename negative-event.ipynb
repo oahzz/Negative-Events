{
 "cells": [
  {
   "cell_type": "markdown",
   "id": "80b8c50d",
   "metadata": {},
   "source": [
    "This notebook is a supplement to the paper \"Negative events - Logical and philosophical aspects\"[link] by Lucas Champollion[link] and Timothée Bernard[link].\n",
    "\n",
    "The notebook uses the [Natural Language Toolkit](https://www.nltk.org)'s interface to [Prover9/Mace4](https://www.cs.unm.edu/~mccune/prover9/) to investigate the derivability of conclusions from the logical principles in the paper, understood as algebraic equations.\n",
    "\n",
    "## Outline"
   ]
  },
  {
   "cell_type": "code",
   "execution_count": 3,
   "id": "2bdeee3b",
   "metadata": {},
   "outputs": [],
   "source": [
    "from nltk.test.inference_fixt import setup_module\n",
    "\n",
    "setup_module()\n",
    "\n",
    "from nltk import *\n",
    "from nltk.sem.drt import DrtParser\n",
    "from nltk.sem import logic\n",
    "logic._counter._value = 0\n",
    "\n",
    "from nltk.sem import Expression\n",
    "read_expr = Expression.fromstring"
   ]
  },
  {
   "cell_type": "markdown",
   "id": "015bc296",
   "metadata": {},
   "source": [
    "## Lattice axioms"
   ]
  },
  {
   "cell_type": "code",
   "execution_count": 4,
   "id": "24d8d6c6",
   "metadata": {},
   "outputs": [],
   "source": [
    "or_id = read_expr('Or(x,x) = x')\n",
    "and_id = read_expr('And(x,x) = x')\n",
    "\n",
    "or_comm = read_expr('Or(x,y) = Or(y,x)')\n",
    "and_comm = read_expr('And(x,y) = And(y,x)')\n",
    "\n",
    "or_assoc = read_expr('Or(x,Or(y,z)) = Or(Or(x,y),z)')\n",
    "and_assoc = read_expr('And(x,And(y,z)) = And(And(x,y),z)')\n",
    "\n",
    "or_absorp = read_expr('Or(x,And(x,y)) = x')\n",
    "and_absorp = read_expr('And(x,Or(x,y)) = x')\n",
    "\n",
    "lattice = [or_id, and_id, or_comm, and_comm, or_assoc, and_assoc, or_absorp, and_absorp]"
   ]
  },
  {
   "cell_type": "markdown",
   "id": "76443283",
   "metadata": {},
   "source": [
    "## Bounded lattice axioms"
   ]
  },
  {
   "cell_type": "code",
   "execution_count": 9,
   "id": "6c54e3e6",
   "metadata": {},
   "outputs": [],
   "source": [
    "bot = read_expr('Or(x, Bot) = x')\n",
    "top = read_expr('And(x, Top) = x')\n",
    "\n",
    "bounded_lattice = lattice + [bot, top]"
   ]
  },
  {
   "cell_type": "markdown",
   "id": "219899ab",
   "metadata": {},
   "source": [
    "## Distributive lattice axioms"
   ]
  },
  {
   "cell_type": "code",
   "execution_count": 18,
   "id": "b6124311",
   "metadata": {},
   "outputs": [],
   "source": [
    "dist = read_expr('And(x,Or(y,z)) = Or(And(x,y),And(x,z))')\n",
    "\n",
    "dist_bounded_lattice = bounded_lattice + [dist]"
   ]
  },
  {
   "cell_type": "markdown",
   "id": "71b133c9",
   "metadata": {},
   "source": [
    "## Exclusion axioms"
   ]
  },
  {
   "cell_type": "code",
   "execution_count": 21,
   "id": "5ae546f2",
   "metadata": {},
   "outputs": [],
   "source": [
    "excl_cumm = read_expr('Excl(x1, y1) & Excl(x2, y2) -> Excl(And(x1, x2), And(y1, y2))')\n",
    "excl_symm = read_expr('Excl(x, y) <-> Excl(y, x)')\n",
    "\n",
    "event_space = dist_bounded_lattice + [excl_cumm, excl_symm]"
   ]
  },
  {
   "cell_type": "markdown",
   "id": "e1460df2",
   "metadata": {},
   "source": [
    "## Possibility axioms"
   ]
  },
  {
   "cell_type": "code",
   "execution_count": 39,
   "id": "2609fa4f",
   "metadata": {},
   "outputs": [],
   "source": [
    "#define conflict:\n",
    "confl_def = read_expr('confl(x, y) <-> exists z1.(And(z1, x) = x & exists z2.(And(z2, y) = y & Excl(z1, z2)))')\n",
    "\n",
    "#define possibilities:\n",
    "int_poss_def = read_expr('int_poss(x) <-> -Excl(x, x)')\n",
    "ext_poss_def = read_expr('ext_poss(x) <-> exists y.(int_poss(y) & -exists z.(And(y, z) = z & int_poss(z) & -(confl(z,x))))')\n",
    "\n",
    "#define world:\n",
    "world_def = read_expr('world(x) <-> (int_poss(x) & all y.((And(x, y) = y) -> -int_poss(y)))')\n",
    "\n",
    "#Harmony\n",
    "poss_harm = read_expr('all x.(-int_poss(x) -> -ext_poss(x))')\n",
    "\n",
    "#Nirvana\n",
    "poss_nirv = read_expr('all x.(-confl(Bot, x))')\n",
    "\n",
    "#Rashōmon\n",
    "poss_rshm = read_expr('all x y.((int_poss(x) & int_poss(y) & -confl(x, y)) -> int_poss(And(x,y)))')\n",
    "\n",
    "#Cosmopolitanism\n",
    "poss_cosm = read_expr('all x.(int_poss(x) -> exists y.(world(y) & And(x, y) = y))')\n",
    "\n",
    "event_space = dist_bounded_lattice + [excl_cumm, excl_symm, confl_def, int_poss_def, ext_poss_def, world_def, poss_harm, poss_nirv, poss_rshm, poss_cosm]"
   ]
  },
  {
   "cell_type": "markdown",
   "id": "2a446026",
   "metadata": {},
   "source": [
    "## Theorems"
   ]
  },
  {
   "cell_type": "markdown",
   "id": "0d5b3592",
   "metadata": {},
   "source": [
    "### Plenitude"
   ]
  },
  {
   "cell_type": "code",
   "execution_count": 40,
   "id": "f254555b",
   "metadata": {},
   "outputs": [
    {
     "name": "stdout",
     "output_type": "stream",
     "text": [
      "============================== prooftrans ============================\n",
      "Prover9 (64) version 2009-11A, November 2009.\n",
      "Process 5735 was started by guzzler on oahzzdepbm,\n",
      "Tue Jun  7 19:59:19 2022\n",
      "The command was \"/usr/local/bin/prover9\".\n",
      "============================== end of head ===========================\n",
      "\n",
      "============================== end of input ==========================\n",
      "\n",
      "============================== PROOF =================================\n",
      "\n",
      "% -------- Comments from original proof --------\n",
      "% Proof 1 at 0.01 (+ 0.00) seconds.\n",
      "% Length of proof is 12.\n",
      "% Level of proof is 4.\n",
      "% Maximum clause weight is 10.000.\n",
      "% Given clauses 32.\n",
      "\n",
      "\n",
      "6 world(x) <-> int_poss(x) & (all y (And(x,y) = y -> -int_poss(y))).  [assumption].\n",
      "10 (all x (int_poss(x) -> (exists y (world(y) & And(x,y) = y)))).  [assumption].\n",
      "11 (all x (int_poss(x) -> ext_poss(x))).  [goal].\n",
      "13 -world(x) | int_poss(x).  [clausify(6)].\n",
      "14 -world(x) | And(x,y) != y | -int_poss(y).  [clausify(6)].\n",
      "16 -int_poss(x) | world(f6(x)).  [clausify(10)].\n",
      "18 And(x,x) = x.  [assumption].\n",
      "50 int_poss(c1).  [deny(11)].\n",
      "54 -int_poss(x) | int_poss(f6(x)).  [resolve(16,b,13,a)].\n",
      "55 -int_poss(x) | And(f6(x),y) != y | -int_poss(y).  [resolve(16,b,14,a)].\n",
      "98 int_poss(f6(c1)).  [resolve(54,a,50,a)].\n",
      "102 $F.  [ur(55,a,50,a,b,18,a),unit_del(a,98)].\n",
      "\n",
      "============================== end of proof ==========================\n"
     ]
    }
   ],
   "source": [
    "#check plenitude\n",
    "goal = read_expr('all x.(int_poss(x) -> ext_poss(x))')\n",
    "prover = Prover9Command(goal, assumptions = event_space)\n",
    "prover.prove()\n",
    "print(prover.proof())"
   ]
  },
  {
   "cell_type": "markdown",
   "id": "397d0f8a",
   "metadata": {},
   "source": [
    "### Manicaeism"
   ]
  },
  {
   "cell_type": "code",
   "execution_count": 41,
   "id": "5dfea7e8",
   "metadata": {},
   "outputs": [
    {
     "name": "stdout",
     "output_type": "stream",
     "text": [
      "============================== prooftrans ============================\n",
      "Prover9 (64) version 2009-11A, November 2009.\n",
      "Process 5737 was started by guzzler on oahzzdepbm,\n",
      "Tue Jun  7 19:59:22 2022\n",
      "The command was \"/usr/local/bin/prover9\".\n",
      "============================== end of head ===========================\n",
      "\n",
      "============================== end of input ==========================\n",
      "\n",
      "============================== PROOF =================================\n",
      "\n",
      "% -------- Comments from original proof --------\n",
      "% Proof 1 at 0.01 (+ 0.00) seconds.\n",
      "% Length of proof is 13.\n",
      "% Level of proof is 4.\n",
      "% Maximum clause weight is 10.000.\n",
      "% Given clauses 36.\n",
      "\n",
      "\n",
      "6 world(x) <-> int_poss(x) & (all y (And(x,y) = y -> -int_poss(y))).  [assumption].\n",
      "10 (all x (int_poss(x) -> (exists y (world(y) & And(x,y) = y)))).  [assumption].\n",
      "11 (all x (world(x) -> (all y (And(x,y) = x | confl(x,y))))).  [goal].\n",
      "19 -world(x) | int_poss(x).  [clausify(6)].\n",
      "20 -world(x) | And(x,y) != y | -int_poss(y).  [clausify(6)].\n",
      "22 -int_poss(x) | world(f6(x)).  [clausify(10)].\n",
      "23 world(c1).  [deny(11)].\n",
      "25 And(x,x) = x.  [assumption].\n",
      "64 -int_poss(x) | int_poss(f6(x)).  [resolve(22,b,19,a)].\n",
      "65 -int_poss(x) | And(f6(x),y) != y | -int_poss(y).  [resolve(22,b,20,a)].\n",
      "66 int_poss(c1).  [resolve(23,a,19,a)].\n",
      "109 int_poss(f6(c1)).  [resolve(66,a,64,a)].\n",
      "122 $F.  [ur(65,a,66,a,b,25,a),unit_del(a,109)].\n",
      "\n",
      "============================== end of proof ==========================\n"
     ]
    }
   ],
   "source": [
    "#check Manichaeism\n",
    "goal = read_expr('all x.((world(x) -> all y.(And(x, y) = x | confl(x, y))))')\n",
    "prover = Prover9Command(goal, assumptions = event_space)\n",
    "prover.prove()\n",
    "print(prover.proof())"
   ]
  }
 ],
 "metadata": {
  "kernelspec": {
   "display_name": "Python 3 (ipykernel)",
   "language": "python",
   "name": "python3"
  },
  "language_info": {
   "codemirror_mode": {
    "name": "ipython",
    "version": 3
   },
   "file_extension": ".py",
   "mimetype": "text/x-python",
   "name": "python",
   "nbconvert_exporter": "python",
   "pygments_lexer": "ipython3",
   "version": "3.9.12"
  }
 },
 "nbformat": 4,
 "nbformat_minor": 5
}
