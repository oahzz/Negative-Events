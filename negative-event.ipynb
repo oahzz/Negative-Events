{
 "cells": [
  {
   "cell_type": "markdown",
   "id": "80b8c50d",
   "metadata": {},
   "source": [
    "This notebook is a supplement to the paper \"Negative events - Logical and philosophical aspects\"[link] by Lucas Champollion[link] and Timothée Bernard[link].\n",
    "\n",
    "The notebook uses the [Natural Language Toolkit](https://www.nltk.org)'s interface to [Prover9/Mace4](https://www.cs.unm.edu/~mccune/prover9/) to investigate the derivability of conclusions from the logical principles in the paper, understood as algebraic equations.\n",
    "\n",
    "## Outline"
   ]
  },
  {
   "cell_type": "code",
   "execution_count": 33,
   "id": "2bdeee3b",
   "metadata": {},
   "outputs": [],
   "source": [
    "from nltk.test.inference_fixt import setup_module\n",
    "\n",
    "setup_module()\n",
    "\n",
    "from nltk import *\n",
    "#from nltk.sem.drt import DrtParser\n",
    "\n",
    "from nltk.sem.logic import *\n",
    "logic._counter._value = 0\n",
    "\n",
    "from nltk.sem import Expression\n",
    "read_expr = Expression.fromstring"
   ]
  },
  {
   "cell_type": "markdown",
   "id": "93386a00",
   "metadata": {},
   "source": [
    "## Axioms"
   ]
  },
  {
   "cell_type": "markdown",
   "id": "015bc296",
   "metadata": {},
   "source": [
    "### Lattice axioms"
   ]
  },
  {
   "cell_type": "code",
   "execution_count": 34,
   "id": "b672e58b",
   "metadata": {},
   "outputs": [],
   "source": [
    "part_def = read_expr('Partof(x,y) <-> Product(x, y) = x')\n",
    "proper_part_def = read_expr('Properpartof(x,y) <-> Partof(x,y) & -(x=y)')\n",
    "\n",
    "sum_id = read_expr('Sum(x,x) = x')\n",
    "product_id = read_expr('Product(x,x) = x')\n",
    "\n",
    "sum_comm = read_expr('Sum(x,y) = Sum(y,x)')\n",
    "product_comm = read_expr('Product(x,y) = Product(y,x)')\n",
    "\n",
    "sum_assoc = read_expr('Sum(x,Sum(y,z)) = Sum(Sum(x,y),z)')\n",
    "product_assoc = read_expr('Product(x,Product(y,z)) = Product(Product(x,y),z)')\n",
    "\n",
    "sum_absorp = read_expr('Sum(x,Product(x,y)) = x')\n",
    "product_absorp = read_expr('Product(x,Sum(x,y)) = x')\n",
    "\n",
    "lattice = [part_def, proper_part_def, sum_id, product_id, sum_comm, product_comm, sum_assoc, product_assoc, sum_absorp, product_absorp]"
   ]
  },
  {
   "cell_type": "code",
   "execution_count": null,
   "id": "ce8698bc",
   "metadata": {},
   "outputs": [],
   "source": []
  },
  {
   "cell_type": "markdown",
   "id": "4ebee6d2",
   "metadata": {},
   "source": [
    "### Bounded lattice axioms"
   ]
  },
  {
   "cell_type": "code",
   "execution_count": 35,
   "id": "2acaa420",
   "metadata": {},
   "outputs": [],
   "source": [
    "bot = read_expr('Sum(x, Bot) = x')\n",
    "top = read_expr('Product(x, Top) = x')\n",
    "\n",
    "bounded_lattice = lattice + [bot, top]"
   ]
  },
  {
   "cell_type": "markdown",
   "id": "248541f5",
   "metadata": {},
   "source": [
    "### Distributive lattice axioms"
   ]
  },
  {
   "cell_type": "code",
   "execution_count": 36,
   "id": "04559264",
   "metadata": {},
   "outputs": [],
   "source": [
    "dist = read_expr('Product(x,Sum(y,z)) = Sum(Product(x,y), Product(x,z))')\n",
    "\n",
    "dist_bounded_lattice = bounded_lattice + [dist]"
   ]
  },
  {
   "cell_type": "markdown",
   "id": "824d02a1",
   "metadata": {},
   "source": [
    "### Complete lattice axioms"
   ]
  },
  {
   "cell_type": "code",
   "execution_count": 37,
   "id": "e6e3d1a2",
   "metadata": {},
   "outputs": [],
   "source": [
    "uniq_sum = read_expr('all P.(exists z.((all x.(P(x) -> Partof(x,z))) & all y.((all x.(P(x) -> Partof(x,y))) -> Partof(z,y))))')\n",
    "uniq_product = read_expr('all P.(exists z.((all x.(P(x) -> Partof(z,x))) & all y.((all x.(P(x) -> Partof(y,x))) -> Partof(y,z))))')\n",
    "# this only guarantees existence and not uniqueness, \n",
    "# but sums and products are unique wherever they exist"
   ]
  },
  {
   "cell_type": "markdown",
   "id": "ef0250c5",
   "metadata": {},
   "source": [
    "### Boolean algebra axioms"
   ]
  },
  {
   "cell_type": "code",
   "execution_count": 38,
   "id": "45f30b0a",
   "metadata": {},
   "outputs": [],
   "source": [
    "complemented = read_expr('all x.(exists y. (Product(x, y) = Bot & Sum(x, y) = Top))')\n",
    "\n",
    "#sectional complement\n",
    "sec_compl = read_expr('all x. (all y. (exists z. (Sum(x, z) = y & Product(x, z) = Bot)))')\n",
    "\n",
    "boolean_algebra = dist_bounded_lattice + [uniq_sum, uniq_product, complemented]"
   ]
  },
  {
   "cell_type": "markdown",
   "id": "2d203f1d",
   "metadata": {},
   "source": [
    "### Exclusion axioms"
   ]
  },
  {
   "cell_type": "code",
   "execution_count": 39,
   "id": "d5370793",
   "metadata": {},
   "outputs": [],
   "source": [
    "excl_cum = read_expr('Excl(x1, y1) & Excl(x2, y2) -> Excl(Sum(x1, x2), Sum(y1, y2))')\n",
    "excl_symm = read_expr('Excl(x, y) <-> Excl(y, x)')"
   ]
  },
  {
   "cell_type": "markdown",
   "id": "f29c72b9",
   "metadata": {},
   "source": [
    "### Possibility axioms"
   ]
  },
  {
   "cell_type": "code",
   "execution_count": 42,
   "id": "50749859",
   "metadata": {},
   "outputs": [],
   "source": [
    "#define conflict:\n",
    "confl_def = read_expr('Confl(x, y) <-> exists z1.(Partof(z1,x) & exists z2.(Partof(z2,y) & Excl(z1, z2)))')\n",
    "\n",
    "#define possibilities:\n",
    "#int_poss_def = read_expr('int_poss(x) <-> -Excl(x, x)')\n",
    "#ext_poss_def = read_expr('ext_poss(x) <-> exists y.(int_poss(y) & -exists z.(Product(y, z) = y & int_poss(z) & -(confl(z,x))))')\n",
    "\n",
    "poss_def = read_expr('Poss(x) <-> -Confl(x, x)')\n",
    "\n",
    "#define world:\n",
    "#world_def = read_expr('world(x) <-> (int_poss(x) & all y.((Product(x, y) = y) -> -int_poss(y)))')\n",
    "\n",
    "world_def = read_expr('World(x) <-> (Poss(x) & all y.(Properpartof(x,y) -> -Poss(y)))')\n",
    "\n",
    "#actual world\n",
    "#actual_world = read_expr('world(actual_world)')\n",
    "\n",
    "#define actual:\n",
    "#actual_def = read_expr('actual(x) <-> Product(x, actual_world) = x')\n",
    "\n",
    "#Harmony\n",
    "#poss_harm = read_expr('all x.(-int_poss(x) -> -ext_poss(x))')\n",
    "\n",
    "poss_harm = read_expr('all x.(all y. ((World(x) & -Confl(x, y)) -> Poss(y)))')\n",
    "\n",
    "#Nirvana\n",
    "poss_nirv = read_expr('all x.(-Confl(Bot, x))')\n",
    "\n",
    "#Rashōmon\n",
    "#poss_rshm = read_expr('all x y.((int_poss(x) & int_poss(y) & -confl(x, y)) -> int_poss(Product(x,y)))')\n",
    "poss_rshm = read_expr('all x y.((Poss(x) & Poss(y) & -Confl(x, y)) -> Poss(Sum(x,y)))')\n",
    "\n",
    "\n",
    "#Cosmopolitanism\n",
    "#poss_cosm = read_expr('all x.(int_poss(x) -> exists y.(world(y) & Product(x, y) = y))')\n",
    "\n",
    "poss_cosm = read_expr('all x.(Poss(x) -> exists y.(World(y) & Partof(x,y)))')\n",
    "\n",
    "poss_ax = [poss_harm, poss_nirv, poss_rshm, poss_cosm]\n",
    "\n",
    "#Construct event frame\n",
    "#choice point: definition of possibility\n",
    "#choice point: formulation of harmony\n",
    "\n",
    "event_space = boolean_algebra + [excl_cum, excl_symm, confl_def, poss_def, world_def]\n",
    "\n",
    "event_frame = event_space + poss_ax"
   ]
  },
  {
   "cell_type": "code",
   "execution_count": 55,
   "id": "658b81f7",
   "metadata": {},
   "outputs": [],
   "source": [
    "def try_to_derive(axiom):\n",
    "    goal = axiom\n",
    "    prover = Prover9Command(goal, assumptions = [ax for ax in event_frame if not (ax == axiom)], timeout = 1000)\n",
    "    prover.prove()\n",
    "    print(prover.proof())\n",
    "\n",
    "def try_to_show_independence(axiom):\n",
    "    goal = axiom\n",
    "    mb = MaceCommand(goal, assumptions = [ax for ax in event_frame if not (ax == axiom)])\n",
    "    print(mb.build_model())\n",
    "    print(mb.model(format='cooked'))"
   ]
  },
  {
   "cell_type": "markdown",
   "id": "648cb4f1",
   "metadata": {},
   "source": [
    "## Independence of axioms"
   ]
  },
  {
   "cell_type": "code",
   "execution_count": 53,
   "id": "1fd356a9",
   "metadata": {},
   "outputs": [
    {
     "ename": "KeyboardInterrupt",
     "evalue": "",
     "output_type": "error",
     "traceback": [
      "\u001b[0;31m---------------------------------------------------------------------------\u001b[0m",
      "\u001b[0;31mKeyboardInterrupt\u001b[0m                         Traceback (most recent call last)",
      "Input \u001b[0;32mIn [53]\u001b[0m, in \u001b[0;36m<cell line: 1>\u001b[0;34m()\u001b[0m\n\u001b[0;32m----> 1\u001b[0m \u001b[43mtry_to_derive\u001b[49m\u001b[43m(\u001b[49m\u001b[43mposs_harm\u001b[49m\u001b[43m)\u001b[49m\n",
      "Input \u001b[0;32mIn [51]\u001b[0m, in \u001b[0;36mtry_to_derive\u001b[0;34m(axiom)\u001b[0m\n\u001b[1;32m      2\u001b[0m goal \u001b[38;5;241m=\u001b[39m axiom\n\u001b[1;32m      3\u001b[0m prover \u001b[38;5;241m=\u001b[39m Prover9Command(goal, assumptions \u001b[38;5;241m=\u001b[39m [ax \u001b[38;5;28;01mfor\u001b[39;00m ax \u001b[38;5;129;01min\u001b[39;00m event_frame \u001b[38;5;28;01mif\u001b[39;00m \u001b[38;5;129;01mnot\u001b[39;00m (ax \u001b[38;5;241m==\u001b[39m axiom)], timeout \u001b[38;5;241m=\u001b[39m \u001b[38;5;241m1000\u001b[39m)\n\u001b[0;32m----> 4\u001b[0m \u001b[43mprover\u001b[49m\u001b[38;5;241;43m.\u001b[39;49m\u001b[43mprove\u001b[49m\u001b[43m(\u001b[49m\u001b[43m)\u001b[49m\n\u001b[1;32m      5\u001b[0m \u001b[38;5;28mprint\u001b[39m(prover\u001b[38;5;241m.\u001b[39mproof())\n",
      "File \u001b[0;32m~/opt/anaconda3/envs/negativeevents/lib/python3.10/site-packages/nltk/inference/api.py:285\u001b[0m, in \u001b[0;36mBaseProverCommand.prove\u001b[0;34m(self, verbose)\u001b[0m\n\u001b[1;32m    280\u001b[0m \u001b[38;5;124;03m\"\"\"\u001b[39;00m\n\u001b[1;32m    281\u001b[0m \u001b[38;5;124;03mPerform the actual proof.  Store the result to prevent unnecessary\u001b[39;00m\n\u001b[1;32m    282\u001b[0m \u001b[38;5;124;03mre-proving.\u001b[39;00m\n\u001b[1;32m    283\u001b[0m \u001b[38;5;124;03m\"\"\"\u001b[39;00m\n\u001b[1;32m    284\u001b[0m \u001b[38;5;28;01mif\u001b[39;00m \u001b[38;5;28mself\u001b[39m\u001b[38;5;241m.\u001b[39m_result \u001b[38;5;129;01mis\u001b[39;00m \u001b[38;5;28;01mNone\u001b[39;00m:\n\u001b[0;32m--> 285\u001b[0m     \u001b[38;5;28mself\u001b[39m\u001b[38;5;241m.\u001b[39m_result, \u001b[38;5;28mself\u001b[39m\u001b[38;5;241m.\u001b[39m_proof \u001b[38;5;241m=\u001b[39m \u001b[38;5;28;43mself\u001b[39;49m\u001b[38;5;241;43m.\u001b[39;49m\u001b[43m_prover\u001b[49m\u001b[38;5;241;43m.\u001b[39;49m\u001b[43m_prove\u001b[49m\u001b[43m(\u001b[49m\n\u001b[1;32m    286\u001b[0m \u001b[43m        \u001b[49m\u001b[38;5;28;43mself\u001b[39;49m\u001b[38;5;241;43m.\u001b[39;49m\u001b[43mgoal\u001b[49m\u001b[43m(\u001b[49m\u001b[43m)\u001b[49m\u001b[43m,\u001b[49m\u001b[43m \u001b[49m\u001b[38;5;28;43mself\u001b[39;49m\u001b[38;5;241;43m.\u001b[39;49m\u001b[43massumptions\u001b[49m\u001b[43m(\u001b[49m\u001b[43m)\u001b[49m\u001b[43m,\u001b[49m\u001b[43m \u001b[49m\u001b[43mverbose\u001b[49m\n\u001b[1;32m    287\u001b[0m \u001b[43m    \u001b[49m\u001b[43m)\u001b[49m\n\u001b[1;32m    288\u001b[0m \u001b[38;5;28;01mreturn\u001b[39;00m \u001b[38;5;28mself\u001b[39m\u001b[38;5;241m.\u001b[39m_result\n",
      "File \u001b[0;32m~/opt/anaconda3/envs/negativeevents/lib/python3.10/site-packages/nltk/inference/prover9.py:327\u001b[0m, in \u001b[0;36mProver9._prove\u001b[0;34m(self, goal, assumptions, verbose)\u001b[0m\n\u001b[1;32m    324\u001b[0m \u001b[38;5;28;01mif\u001b[39;00m \u001b[38;5;129;01mnot\u001b[39;00m assumptions:\n\u001b[1;32m    325\u001b[0m     assumptions \u001b[38;5;241m=\u001b[39m []\n\u001b[0;32m--> 327\u001b[0m stdout, returncode \u001b[38;5;241m=\u001b[39m \u001b[38;5;28;43mself\u001b[39;49m\u001b[38;5;241;43m.\u001b[39;49m\u001b[43m_call_prover9\u001b[49m\u001b[43m(\u001b[49m\n\u001b[1;32m    328\u001b[0m \u001b[43m    \u001b[49m\u001b[38;5;28;43mself\u001b[39;49m\u001b[38;5;241;43m.\u001b[39;49m\u001b[43mprover9_input\u001b[49m\u001b[43m(\u001b[49m\u001b[43mgoal\u001b[49m\u001b[43m,\u001b[49m\u001b[43m \u001b[49m\u001b[43massumptions\u001b[49m\u001b[43m)\u001b[49m\u001b[43m,\u001b[49m\u001b[43m \u001b[49m\u001b[43mverbose\u001b[49m\u001b[38;5;241;43m=\u001b[39;49m\u001b[43mverbose\u001b[49m\n\u001b[1;32m    329\u001b[0m \u001b[43m\u001b[49m\u001b[43m)\u001b[49m\n\u001b[1;32m    330\u001b[0m \u001b[38;5;28;01mreturn\u001b[39;00m (returncode \u001b[38;5;241m==\u001b[39m \u001b[38;5;241m0\u001b[39m, stdout)\n",
      "File \u001b[0;32m~/opt/anaconda3/envs/negativeevents/lib/python3.10/site-packages/nltk/inference/prover9.py:356\u001b[0m, in \u001b[0;36mProver9._call_prover9\u001b[0;34m(self, input_str, args, verbose)\u001b[0m\n\u001b[1;32m    353\u001b[0m     updated_input_str \u001b[38;5;241m+\u001b[39m\u001b[38;5;241m=\u001b[39m \u001b[38;5;124m\"\u001b[39m\u001b[38;5;124massign(max_seconds, \u001b[39m\u001b[38;5;132;01m%d\u001b[39;00m\u001b[38;5;124m).\u001b[39m\u001b[38;5;130;01m\\n\u001b[39;00m\u001b[38;5;130;01m\\n\u001b[39;00m\u001b[38;5;124m\"\u001b[39m \u001b[38;5;241m%\u001b[39m \u001b[38;5;28mself\u001b[39m\u001b[38;5;241m.\u001b[39m_timeout\n\u001b[1;32m    354\u001b[0m updated_input_str \u001b[38;5;241m+\u001b[39m\u001b[38;5;241m=\u001b[39m input_str\n\u001b[0;32m--> 356\u001b[0m stdout, returncode \u001b[38;5;241m=\u001b[39m \u001b[38;5;28;43mself\u001b[39;49m\u001b[38;5;241;43m.\u001b[39;49m\u001b[43m_call\u001b[49m\u001b[43m(\u001b[49m\n\u001b[1;32m    357\u001b[0m \u001b[43m    \u001b[49m\u001b[43mupdated_input_str\u001b[49m\u001b[43m,\u001b[49m\u001b[43m \u001b[49m\u001b[38;5;28;43mself\u001b[39;49m\u001b[38;5;241;43m.\u001b[39;49m\u001b[43m_prover9_bin\u001b[49m\u001b[43m,\u001b[49m\u001b[43m \u001b[49m\u001b[43margs\u001b[49m\u001b[43m,\u001b[49m\u001b[43m \u001b[49m\u001b[43mverbose\u001b[49m\n\u001b[1;32m    358\u001b[0m \u001b[43m\u001b[49m\u001b[43m)\u001b[49m\n\u001b[1;32m    360\u001b[0m \u001b[38;5;28;01mif\u001b[39;00m returncode \u001b[38;5;129;01mnot\u001b[39;00m \u001b[38;5;129;01min\u001b[39;00m [\u001b[38;5;241m0\u001b[39m, \u001b[38;5;241m2\u001b[39m]:\n\u001b[1;32m    361\u001b[0m     errormsgprefix \u001b[38;5;241m=\u001b[39m \u001b[38;5;124m\"\u001b[39m\u001b[38;5;132;01m%%\u001b[39;00m\u001b[38;5;124mERROR:\u001b[39m\u001b[38;5;124m\"\u001b[39m\n",
      "File \u001b[0;32m~/opt/anaconda3/envs/negativeevents/lib/python3.10/site-packages/nltk/inference/prover9.py:210\u001b[0m, in \u001b[0;36mProver9Parent._call\u001b[0;34m(self, input_str, binary, args, verbose)\u001b[0m\n\u001b[1;32m    206\u001b[0m     \u001b[38;5;28;01mpass\u001b[39;00m\n\u001b[1;32m    207\u001b[0m p \u001b[38;5;241m=\u001b[39m subprocess\u001b[38;5;241m.\u001b[39mPopen(\n\u001b[1;32m    208\u001b[0m     cmd, stdout\u001b[38;5;241m=\u001b[39msubprocess\u001b[38;5;241m.\u001b[39mPIPE, stderr\u001b[38;5;241m=\u001b[39msubprocess\u001b[38;5;241m.\u001b[39mSTDOUT, stdin\u001b[38;5;241m=\u001b[39msubprocess\u001b[38;5;241m.\u001b[39mPIPE\n\u001b[1;32m    209\u001b[0m )\n\u001b[0;32m--> 210\u001b[0m (stdout, stderr) \u001b[38;5;241m=\u001b[39m \u001b[43mp\u001b[49m\u001b[38;5;241;43m.\u001b[39;49m\u001b[43mcommunicate\u001b[49m\u001b[43m(\u001b[49m\u001b[38;5;28;43minput\u001b[39;49m\u001b[38;5;241;43m=\u001b[39;49m\u001b[43minput_str\u001b[49m\u001b[43m)\u001b[49m\n\u001b[1;32m    212\u001b[0m \u001b[38;5;28;01mif\u001b[39;00m verbose:\n\u001b[1;32m    213\u001b[0m     \u001b[38;5;28mprint\u001b[39m(\u001b[38;5;124m\"\u001b[39m\u001b[38;5;124mReturn code:\u001b[39m\u001b[38;5;124m\"\u001b[39m, p\u001b[38;5;241m.\u001b[39mreturncode)\n",
      "File \u001b[0;32m~/opt/anaconda3/envs/negativeevents/lib/python3.10/subprocess.py:1149\u001b[0m, in \u001b[0;36mPopen.communicate\u001b[0;34m(self, input, timeout)\u001b[0m\n\u001b[1;32m   1146\u001b[0m     endtime \u001b[38;5;241m=\u001b[39m \u001b[38;5;28;01mNone\u001b[39;00m\n\u001b[1;32m   1148\u001b[0m \u001b[38;5;28;01mtry\u001b[39;00m:\n\u001b[0;32m-> 1149\u001b[0m     stdout, stderr \u001b[38;5;241m=\u001b[39m \u001b[38;5;28;43mself\u001b[39;49m\u001b[38;5;241;43m.\u001b[39;49m\u001b[43m_communicate\u001b[49m\u001b[43m(\u001b[49m\u001b[38;5;28;43minput\u001b[39;49m\u001b[43m,\u001b[49m\u001b[43m \u001b[49m\u001b[43mendtime\u001b[49m\u001b[43m,\u001b[49m\u001b[43m \u001b[49m\u001b[43mtimeout\u001b[49m\u001b[43m)\u001b[49m\n\u001b[1;32m   1150\u001b[0m \u001b[38;5;28;01mexcept\u001b[39;00m \u001b[38;5;167;01mKeyboardInterrupt\u001b[39;00m:\n\u001b[1;32m   1151\u001b[0m     \u001b[38;5;66;03m# https://bugs.python.org/issue25942\u001b[39;00m\n\u001b[1;32m   1152\u001b[0m     \u001b[38;5;66;03m# See the detailed comment in .wait().\u001b[39;00m\n\u001b[1;32m   1153\u001b[0m     \u001b[38;5;28;01mif\u001b[39;00m timeout \u001b[38;5;129;01mis\u001b[39;00m \u001b[38;5;129;01mnot\u001b[39;00m \u001b[38;5;28;01mNone\u001b[39;00m:\n",
      "File \u001b[0;32m~/opt/anaconda3/envs/negativeevents/lib/python3.10/subprocess.py:2000\u001b[0m, in \u001b[0;36mPopen._communicate\u001b[0;34m(self, input, endtime, orig_timeout)\u001b[0m\n\u001b[1;32m   1993\u001b[0m     \u001b[38;5;28mself\u001b[39m\u001b[38;5;241m.\u001b[39m_check_timeout(endtime, orig_timeout,\n\u001b[1;32m   1994\u001b[0m                         stdout, stderr,\n\u001b[1;32m   1995\u001b[0m                         skip_check_and_raise\u001b[38;5;241m=\u001b[39m\u001b[38;5;28;01mTrue\u001b[39;00m)\n\u001b[1;32m   1996\u001b[0m     \u001b[38;5;28;01mraise\u001b[39;00m \u001b[38;5;167;01mRuntimeError\u001b[39;00m(  \u001b[38;5;66;03m# Impossible :)\u001b[39;00m\n\u001b[1;32m   1997\u001b[0m         \u001b[38;5;124m'\u001b[39m\u001b[38;5;124m_check_timeout(..., skip_check_and_raise=True) \u001b[39m\u001b[38;5;124m'\u001b[39m\n\u001b[1;32m   1998\u001b[0m         \u001b[38;5;124m'\u001b[39m\u001b[38;5;124mfailed to raise TimeoutExpired.\u001b[39m\u001b[38;5;124m'\u001b[39m)\n\u001b[0;32m-> 2000\u001b[0m ready \u001b[38;5;241m=\u001b[39m \u001b[43mselector\u001b[49m\u001b[38;5;241;43m.\u001b[39;49m\u001b[43mselect\u001b[49m\u001b[43m(\u001b[49m\u001b[43mtimeout\u001b[49m\u001b[43m)\u001b[49m\n\u001b[1;32m   2001\u001b[0m \u001b[38;5;28mself\u001b[39m\u001b[38;5;241m.\u001b[39m_check_timeout(endtime, orig_timeout, stdout, stderr)\n\u001b[1;32m   2003\u001b[0m \u001b[38;5;66;03m# XXX Rewrite these to use non-blocking I/O on the file\u001b[39;00m\n\u001b[1;32m   2004\u001b[0m \u001b[38;5;66;03m# objects; they are no longer using C stdio!\u001b[39;00m\n",
      "File \u001b[0;32m~/opt/anaconda3/envs/negativeevents/lib/python3.10/selectors.py:416\u001b[0m, in \u001b[0;36m_PollLikeSelector.select\u001b[0;34m(self, timeout)\u001b[0m\n\u001b[1;32m    414\u001b[0m ready \u001b[38;5;241m=\u001b[39m []\n\u001b[1;32m    415\u001b[0m \u001b[38;5;28;01mtry\u001b[39;00m:\n\u001b[0;32m--> 416\u001b[0m     fd_event_list \u001b[38;5;241m=\u001b[39m \u001b[38;5;28;43mself\u001b[39;49m\u001b[38;5;241;43m.\u001b[39;49m\u001b[43m_selector\u001b[49m\u001b[38;5;241;43m.\u001b[39;49m\u001b[43mpoll\u001b[49m\u001b[43m(\u001b[49m\u001b[43mtimeout\u001b[49m\u001b[43m)\u001b[49m\n\u001b[1;32m    417\u001b[0m \u001b[38;5;28;01mexcept\u001b[39;00m \u001b[38;5;167;01mInterruptedError\u001b[39;00m:\n\u001b[1;32m    418\u001b[0m     \u001b[38;5;28;01mreturn\u001b[39;00m ready\n",
      "\u001b[0;31mKeyboardInterrupt\u001b[0m: "
     ]
    }
   ],
   "source": [
    "try_to_derive(poss_harm) # times out"
   ]
  },
  {
   "cell_type": "code",
   "execution_count": 56,
   "id": "ec28f861",
   "metadata": {},
   "outputs": [
    {
     "name": "stdout",
     "output_type": "stream",
     "text": [
      "True\n",
      "% number = 1\n",
      "% seconds = 0\n",
      "\n",
      "% Interpretation of size 2\n",
      "\n",
      "Bot = 0.\n",
      "\n",
      "Top = 1.\n",
      "\n",
      "c1 = 0.\n",
      "\n",
      "c2 = 1.\n",
      "\n",
      "f1(0) = 0.\n",
      "f1(1) = 0.\n",
      "\n",
      "f3(0) = 0.\n",
      "f3(1) = 0.\n",
      "\n",
      "f5(0) = 1.\n",
      "f5(1) = 0.\n",
      "\n",
      "f8(0) = 0.\n",
      "f8(1) = 0.\n",
      "\n",
      "f9(0) = 0.\n",
      "f9(1) = 0.\n",
      "\n",
      "Product(0,0) = 0.\n",
      "Product(0,1) = 0.\n",
      "Product(1,0) = 0.\n",
      "Product(1,1) = 1.\n",
      "\n",
      "Sum(0,0) = 0.\n",
      "Sum(0,1) = 1.\n",
      "Sum(1,0) = 1.\n",
      "Sum(1,1) = 1.\n",
      "\n",
      "f2(0,0) = 0.\n",
      "f2(0,1) = 0.\n",
      "f2(1,0) = 0.\n",
      "f2(1,1) = 0.\n",
      "\n",
      "f4(0,0) = 0.\n",
      "f4(0,1) = 0.\n",
      "f4(1,0) = 0.\n",
      "f4(1,1) = 0.\n",
      "\n",
      "f6(0,0) = 0.\n",
      "f6(0,1) = 0.\n",
      "f6(1,0) = 0.\n",
      "f6(1,1) = 1.\n",
      "\n",
      "f7(0,0) = 0.\n",
      "f7(0,1) = 0.\n",
      "f7(1,0) = 0.\n",
      "f7(1,1) = 1.\n",
      "\n",
      "  P(0).\n",
      "- P(1).\n",
      "\n",
      "  Poss(0).\n",
      "- Poss(1).\n",
      "\n",
      "  World(0).\n",
      "- World(1).\n",
      "\n",
      "- Confl(0,0).\n",
      "- Confl(0,1).\n",
      "- Confl(1,0).\n",
      "  Confl(1,1).\n",
      "\n",
      "- Excl(0,0).\n",
      "- Excl(0,1).\n",
      "- Excl(1,0).\n",
      "  Excl(1,1).\n",
      "\n",
      "  Partof(0,0).\n",
      "  Partof(0,1).\n",
      "- Partof(1,0).\n",
      "  Partof(1,1).\n",
      "\n",
      "- Properpartof(0,0).\n",
      "  Properpartof(0,1).\n",
      "- Properpartof(1,0).\n",
      "- Properpartof(1,1).\n",
      "\n"
     ]
    }
   ],
   "source": [
    "try_to_show_independence(poss_harm) # succeeds"
   ]
  },
  {
   "cell_type": "code",
   "execution_count": 60,
   "id": "d7ca1fb1",
   "metadata": {},
   "outputs": [
    {
     "ename": "KeyboardInterrupt",
     "evalue": "",
     "output_type": "error",
     "traceback": [
      "\u001b[0;31m---------------------------------------------------------------------------\u001b[0m",
      "\u001b[0;31mKeyboardInterrupt\u001b[0m                         Traceback (most recent call last)",
      "Input \u001b[0;32mIn [60]\u001b[0m, in \u001b[0;36m<cell line: 1>\u001b[0;34m()\u001b[0m\n\u001b[0;32m----> 1\u001b[0m \u001b[43mtry_to_show_independence\u001b[49m\u001b[43m(\u001b[49m\u001b[43mposs_cosm\u001b[49m\u001b[43m)\u001b[49m\n",
      "Input \u001b[0;32mIn [55]\u001b[0m, in \u001b[0;36mtry_to_show_independence\u001b[0;34m(axiom)\u001b[0m\n\u001b[1;32m      8\u001b[0m goal \u001b[38;5;241m=\u001b[39m axiom\n\u001b[1;32m      9\u001b[0m mb \u001b[38;5;241m=\u001b[39m MaceCommand(goal, assumptions \u001b[38;5;241m=\u001b[39m [ax \u001b[38;5;28;01mfor\u001b[39;00m ax \u001b[38;5;129;01min\u001b[39;00m event_frame \u001b[38;5;28;01mif\u001b[39;00m \u001b[38;5;129;01mnot\u001b[39;00m (ax \u001b[38;5;241m==\u001b[39m axiom)])\n\u001b[0;32m---> 10\u001b[0m \u001b[38;5;28mprint\u001b[39m(\u001b[43mmb\u001b[49m\u001b[38;5;241;43m.\u001b[39;49m\u001b[43mbuild_model\u001b[49m\u001b[43m(\u001b[49m\u001b[43m)\u001b[49m)\n\u001b[1;32m     11\u001b[0m \u001b[38;5;28mprint\u001b[39m(mb\u001b[38;5;241m.\u001b[39mmodel(\u001b[38;5;28mformat\u001b[39m\u001b[38;5;241m=\u001b[39m\u001b[38;5;124m'\u001b[39m\u001b[38;5;124mcooked\u001b[39m\u001b[38;5;124m'\u001b[39m))\n",
      "File \u001b[0;32m~/opt/anaconda3/envs/negativeevents/lib/python3.10/site-packages/nltk/inference/api.py:340\u001b[0m, in \u001b[0;36mBaseModelBuilderCommand.build_model\u001b[0;34m(self, verbose)\u001b[0m\n\u001b[1;32m    335\u001b[0m \u001b[38;5;124;03m\"\"\"\u001b[39;00m\n\u001b[1;32m    336\u001b[0m \u001b[38;5;124;03mAttempt to build a model.  Store the result to prevent unnecessary\u001b[39;00m\n\u001b[1;32m    337\u001b[0m \u001b[38;5;124;03mre-building.\u001b[39;00m\n\u001b[1;32m    338\u001b[0m \u001b[38;5;124;03m\"\"\"\u001b[39;00m\n\u001b[1;32m    339\u001b[0m \u001b[38;5;28;01mif\u001b[39;00m \u001b[38;5;28mself\u001b[39m\u001b[38;5;241m.\u001b[39m_result \u001b[38;5;129;01mis\u001b[39;00m \u001b[38;5;28;01mNone\u001b[39;00m:\n\u001b[0;32m--> 340\u001b[0m     \u001b[38;5;28mself\u001b[39m\u001b[38;5;241m.\u001b[39m_result, \u001b[38;5;28mself\u001b[39m\u001b[38;5;241m.\u001b[39m_model \u001b[38;5;241m=\u001b[39m \u001b[38;5;28;43mself\u001b[39;49m\u001b[38;5;241;43m.\u001b[39;49m\u001b[43m_modelbuilder\u001b[49m\u001b[38;5;241;43m.\u001b[39;49m\u001b[43m_build_model\u001b[49m\u001b[43m(\u001b[49m\n\u001b[1;32m    341\u001b[0m \u001b[43m        \u001b[49m\u001b[38;5;28;43mself\u001b[39;49m\u001b[38;5;241;43m.\u001b[39;49m\u001b[43mgoal\u001b[49m\u001b[43m(\u001b[49m\u001b[43m)\u001b[49m\u001b[43m,\u001b[49m\u001b[43m \u001b[49m\u001b[38;5;28;43mself\u001b[39;49m\u001b[38;5;241;43m.\u001b[39;49m\u001b[43massumptions\u001b[49m\u001b[43m(\u001b[49m\u001b[43m)\u001b[49m\u001b[43m,\u001b[49m\u001b[43m \u001b[49m\u001b[43mverbose\u001b[49m\n\u001b[1;32m    342\u001b[0m \u001b[43m    \u001b[49m\u001b[43m)\u001b[49m\n\u001b[1;32m    343\u001b[0m \u001b[38;5;28;01mreturn\u001b[39;00m \u001b[38;5;28mself\u001b[39m\u001b[38;5;241m.\u001b[39m_result\n",
      "File \u001b[0;32m~/opt/anaconda3/envs/negativeevents/lib/python3.10/site-packages/nltk/inference/mace.py:247\u001b[0m, in \u001b[0;36mMace._build_model\u001b[0;34m(self, goal, assumptions, verbose)\u001b[0m\n\u001b[1;32m    244\u001b[0m \u001b[38;5;28;01mif\u001b[39;00m \u001b[38;5;129;01mnot\u001b[39;00m assumptions:\n\u001b[1;32m    245\u001b[0m     assumptions \u001b[38;5;241m=\u001b[39m []\n\u001b[0;32m--> 247\u001b[0m stdout, returncode \u001b[38;5;241m=\u001b[39m \u001b[38;5;28;43mself\u001b[39;49m\u001b[38;5;241;43m.\u001b[39;49m\u001b[43m_call_mace4\u001b[49m\u001b[43m(\u001b[49m\n\u001b[1;32m    248\u001b[0m \u001b[43m    \u001b[49m\u001b[38;5;28;43mself\u001b[39;49m\u001b[38;5;241;43m.\u001b[39;49m\u001b[43mprover9_input\u001b[49m\u001b[43m(\u001b[49m\u001b[43mgoal\u001b[49m\u001b[43m,\u001b[49m\u001b[43m \u001b[49m\u001b[43massumptions\u001b[49m\u001b[43m)\u001b[49m\u001b[43m,\u001b[49m\u001b[43m \u001b[49m\u001b[43mverbose\u001b[49m\u001b[38;5;241;43m=\u001b[39;49m\u001b[43mverbose\u001b[49m\n\u001b[1;32m    249\u001b[0m \u001b[43m\u001b[49m\u001b[43m)\u001b[49m\n\u001b[1;32m    250\u001b[0m \u001b[38;5;28;01mreturn\u001b[39;00m (returncode \u001b[38;5;241m==\u001b[39m \u001b[38;5;241m0\u001b[39m, stdout)\n",
      "File \u001b[0;32m~/opt/anaconda3/envs/negativeevents/lib/python3.10/site-packages/nltk/inference/mace.py:269\u001b[0m, in \u001b[0;36mMace._call_mace4\u001b[0;34m(self, input_str, args, verbose)\u001b[0m\n\u001b[1;32m    266\u001b[0m     updated_input_str \u001b[38;5;241m+\u001b[39m\u001b[38;5;241m=\u001b[39m \u001b[38;5;124m\"\u001b[39m\u001b[38;5;124massign(end_size, \u001b[39m\u001b[38;5;132;01m%d\u001b[39;00m\u001b[38;5;124m).\u001b[39m\u001b[38;5;130;01m\\n\u001b[39;00m\u001b[38;5;130;01m\\n\u001b[39;00m\u001b[38;5;124m\"\u001b[39m \u001b[38;5;241m%\u001b[39m \u001b[38;5;28mself\u001b[39m\u001b[38;5;241m.\u001b[39m_end_size\n\u001b[1;32m    267\u001b[0m updated_input_str \u001b[38;5;241m+\u001b[39m\u001b[38;5;241m=\u001b[39m input_str\n\u001b[0;32m--> 269\u001b[0m \u001b[38;5;28;01mreturn\u001b[39;00m \u001b[38;5;28;43mself\u001b[39;49m\u001b[38;5;241;43m.\u001b[39;49m\u001b[43m_call\u001b[49m\u001b[43m(\u001b[49m\u001b[43mupdated_input_str\u001b[49m\u001b[43m,\u001b[49m\u001b[43m \u001b[49m\u001b[38;5;28;43mself\u001b[39;49m\u001b[38;5;241;43m.\u001b[39;49m\u001b[43m_mace4_bin\u001b[49m\u001b[43m,\u001b[49m\u001b[43m \u001b[49m\u001b[43margs\u001b[49m\u001b[43m,\u001b[49m\u001b[43m \u001b[49m\u001b[43mverbose\u001b[49m\u001b[43m)\u001b[49m\n",
      "File \u001b[0;32m~/opt/anaconda3/envs/negativeevents/lib/python3.10/site-packages/nltk/inference/prover9.py:210\u001b[0m, in \u001b[0;36mProver9Parent._call\u001b[0;34m(self, input_str, binary, args, verbose)\u001b[0m\n\u001b[1;32m    206\u001b[0m     \u001b[38;5;28;01mpass\u001b[39;00m\n\u001b[1;32m    207\u001b[0m p \u001b[38;5;241m=\u001b[39m subprocess\u001b[38;5;241m.\u001b[39mPopen(\n\u001b[1;32m    208\u001b[0m     cmd, stdout\u001b[38;5;241m=\u001b[39msubprocess\u001b[38;5;241m.\u001b[39mPIPE, stderr\u001b[38;5;241m=\u001b[39msubprocess\u001b[38;5;241m.\u001b[39mSTDOUT, stdin\u001b[38;5;241m=\u001b[39msubprocess\u001b[38;5;241m.\u001b[39mPIPE\n\u001b[1;32m    209\u001b[0m )\n\u001b[0;32m--> 210\u001b[0m (stdout, stderr) \u001b[38;5;241m=\u001b[39m \u001b[43mp\u001b[49m\u001b[38;5;241;43m.\u001b[39;49m\u001b[43mcommunicate\u001b[49m\u001b[43m(\u001b[49m\u001b[38;5;28;43minput\u001b[39;49m\u001b[38;5;241;43m=\u001b[39;49m\u001b[43minput_str\u001b[49m\u001b[43m)\u001b[49m\n\u001b[1;32m    212\u001b[0m \u001b[38;5;28;01mif\u001b[39;00m verbose:\n\u001b[1;32m    213\u001b[0m     \u001b[38;5;28mprint\u001b[39m(\u001b[38;5;124m\"\u001b[39m\u001b[38;5;124mReturn code:\u001b[39m\u001b[38;5;124m\"\u001b[39m, p\u001b[38;5;241m.\u001b[39mreturncode)\n",
      "File \u001b[0;32m~/opt/anaconda3/envs/negativeevents/lib/python3.10/subprocess.py:1149\u001b[0m, in \u001b[0;36mPopen.communicate\u001b[0;34m(self, input, timeout)\u001b[0m\n\u001b[1;32m   1146\u001b[0m     endtime \u001b[38;5;241m=\u001b[39m \u001b[38;5;28;01mNone\u001b[39;00m\n\u001b[1;32m   1148\u001b[0m \u001b[38;5;28;01mtry\u001b[39;00m:\n\u001b[0;32m-> 1149\u001b[0m     stdout, stderr \u001b[38;5;241m=\u001b[39m \u001b[38;5;28;43mself\u001b[39;49m\u001b[38;5;241;43m.\u001b[39;49m\u001b[43m_communicate\u001b[49m\u001b[43m(\u001b[49m\u001b[38;5;28;43minput\u001b[39;49m\u001b[43m,\u001b[49m\u001b[43m \u001b[49m\u001b[43mendtime\u001b[49m\u001b[43m,\u001b[49m\u001b[43m \u001b[49m\u001b[43mtimeout\u001b[49m\u001b[43m)\u001b[49m\n\u001b[1;32m   1150\u001b[0m \u001b[38;5;28;01mexcept\u001b[39;00m \u001b[38;5;167;01mKeyboardInterrupt\u001b[39;00m:\n\u001b[1;32m   1151\u001b[0m     \u001b[38;5;66;03m# https://bugs.python.org/issue25942\u001b[39;00m\n\u001b[1;32m   1152\u001b[0m     \u001b[38;5;66;03m# See the detailed comment in .wait().\u001b[39;00m\n\u001b[1;32m   1153\u001b[0m     \u001b[38;5;28;01mif\u001b[39;00m timeout \u001b[38;5;129;01mis\u001b[39;00m \u001b[38;5;129;01mnot\u001b[39;00m \u001b[38;5;28;01mNone\u001b[39;00m:\n",
      "File \u001b[0;32m~/opt/anaconda3/envs/negativeevents/lib/python3.10/subprocess.py:2000\u001b[0m, in \u001b[0;36mPopen._communicate\u001b[0;34m(self, input, endtime, orig_timeout)\u001b[0m\n\u001b[1;32m   1993\u001b[0m     \u001b[38;5;28mself\u001b[39m\u001b[38;5;241m.\u001b[39m_check_timeout(endtime, orig_timeout,\n\u001b[1;32m   1994\u001b[0m                         stdout, stderr,\n\u001b[1;32m   1995\u001b[0m                         skip_check_and_raise\u001b[38;5;241m=\u001b[39m\u001b[38;5;28;01mTrue\u001b[39;00m)\n\u001b[1;32m   1996\u001b[0m     \u001b[38;5;28;01mraise\u001b[39;00m \u001b[38;5;167;01mRuntimeError\u001b[39;00m(  \u001b[38;5;66;03m# Impossible :)\u001b[39;00m\n\u001b[1;32m   1997\u001b[0m         \u001b[38;5;124m'\u001b[39m\u001b[38;5;124m_check_timeout(..., skip_check_and_raise=True) \u001b[39m\u001b[38;5;124m'\u001b[39m\n\u001b[1;32m   1998\u001b[0m         \u001b[38;5;124m'\u001b[39m\u001b[38;5;124mfailed to raise TimeoutExpired.\u001b[39m\u001b[38;5;124m'\u001b[39m)\n\u001b[0;32m-> 2000\u001b[0m ready \u001b[38;5;241m=\u001b[39m \u001b[43mselector\u001b[49m\u001b[38;5;241;43m.\u001b[39;49m\u001b[43mselect\u001b[49m\u001b[43m(\u001b[49m\u001b[43mtimeout\u001b[49m\u001b[43m)\u001b[49m\n\u001b[1;32m   2001\u001b[0m \u001b[38;5;28mself\u001b[39m\u001b[38;5;241m.\u001b[39m_check_timeout(endtime, orig_timeout, stdout, stderr)\n\u001b[1;32m   2003\u001b[0m \u001b[38;5;66;03m# XXX Rewrite these to use non-blocking I/O on the file\u001b[39;00m\n\u001b[1;32m   2004\u001b[0m \u001b[38;5;66;03m# objects; they are no longer using C stdio!\u001b[39;00m\n",
      "File \u001b[0;32m~/opt/anaconda3/envs/negativeevents/lib/python3.10/selectors.py:416\u001b[0m, in \u001b[0;36m_PollLikeSelector.select\u001b[0;34m(self, timeout)\u001b[0m\n\u001b[1;32m    414\u001b[0m ready \u001b[38;5;241m=\u001b[39m []\n\u001b[1;32m    415\u001b[0m \u001b[38;5;28;01mtry\u001b[39;00m:\n\u001b[0;32m--> 416\u001b[0m     fd_event_list \u001b[38;5;241m=\u001b[39m \u001b[38;5;28;43mself\u001b[39;49m\u001b[38;5;241;43m.\u001b[39;49m\u001b[43m_selector\u001b[49m\u001b[38;5;241;43m.\u001b[39;49m\u001b[43mpoll\u001b[49m\u001b[43m(\u001b[49m\u001b[43mtimeout\u001b[49m\u001b[43m)\u001b[49m\n\u001b[1;32m    417\u001b[0m \u001b[38;5;28;01mexcept\u001b[39;00m \u001b[38;5;167;01mInterruptedError\u001b[39;00m:\n\u001b[1;32m    418\u001b[0m     \u001b[38;5;28;01mreturn\u001b[39;00m ready\n",
      "\u001b[0;31mKeyboardInterrupt\u001b[0m: "
     ]
    }
   ],
   "source": [
    "try_to_show_independence(poss_cosm)"
   ]
  },
  {
   "cell_type": "code",
   "execution_count": null,
   "id": "e00e0a49",
   "metadata": {},
   "outputs": [],
   "source": [
    "try_to_derive(poss_cosm)"
   ]
  },
  {
   "cell_type": "code",
   "execution_count": 43,
   "id": "ec6090d9",
   "metadata": {
    "scrolled": true
   },
   "outputs": [
    {
     "ename": "KeyboardInterrupt",
     "evalue": "",
     "output_type": "error",
     "traceback": [
      "\u001b[0;31m---------------------------------------------------------------------------\u001b[0m",
      "\u001b[0;31mKeyboardInterrupt\u001b[0m                         Traceback (most recent call last)",
      "Input \u001b[0;32mIn [43]\u001b[0m, in \u001b[0;36m<cell line: 5>\u001b[0;34m()\u001b[0m\n\u001b[1;32m      3\u001b[0m goal \u001b[38;5;241m=\u001b[39m poss_harm\n\u001b[1;32m      4\u001b[0m prover \u001b[38;5;241m=\u001b[39m Prover9Command(goal, assumptions \u001b[38;5;241m=\u001b[39m [ax \u001b[38;5;28;01mfor\u001b[39;00m ax \u001b[38;5;129;01min\u001b[39;00m event_frame \u001b[38;5;28;01mif\u001b[39;00m \u001b[38;5;129;01mnot\u001b[39;00m (ax \u001b[38;5;241m==\u001b[39m poss_harm)], timeout \u001b[38;5;241m=\u001b[39m \u001b[38;5;241m1000\u001b[39m)\n\u001b[0;32m----> 5\u001b[0m \u001b[43mprover\u001b[49m\u001b[38;5;241;43m.\u001b[39;49m\u001b[43mprove\u001b[49m\u001b[43m(\u001b[49m\u001b[43m)\u001b[49m\n\u001b[1;32m      6\u001b[0m \u001b[38;5;28mprint\u001b[39m(prover\u001b[38;5;241m.\u001b[39mproof())\n",
      "File \u001b[0;32m~/opt/anaconda3/envs/negativeevents/lib/python3.10/site-packages/nltk/inference/api.py:285\u001b[0m, in \u001b[0;36mBaseProverCommand.prove\u001b[0;34m(self, verbose)\u001b[0m\n\u001b[1;32m    280\u001b[0m \u001b[38;5;124;03m\"\"\"\u001b[39;00m\n\u001b[1;32m    281\u001b[0m \u001b[38;5;124;03mPerform the actual proof.  Store the result to prevent unnecessary\u001b[39;00m\n\u001b[1;32m    282\u001b[0m \u001b[38;5;124;03mre-proving.\u001b[39;00m\n\u001b[1;32m    283\u001b[0m \u001b[38;5;124;03m\"\"\"\u001b[39;00m\n\u001b[1;32m    284\u001b[0m \u001b[38;5;28;01mif\u001b[39;00m \u001b[38;5;28mself\u001b[39m\u001b[38;5;241m.\u001b[39m_result \u001b[38;5;129;01mis\u001b[39;00m \u001b[38;5;28;01mNone\u001b[39;00m:\n\u001b[0;32m--> 285\u001b[0m     \u001b[38;5;28mself\u001b[39m\u001b[38;5;241m.\u001b[39m_result, \u001b[38;5;28mself\u001b[39m\u001b[38;5;241m.\u001b[39m_proof \u001b[38;5;241m=\u001b[39m \u001b[38;5;28;43mself\u001b[39;49m\u001b[38;5;241;43m.\u001b[39;49m\u001b[43m_prover\u001b[49m\u001b[38;5;241;43m.\u001b[39;49m\u001b[43m_prove\u001b[49m\u001b[43m(\u001b[49m\n\u001b[1;32m    286\u001b[0m \u001b[43m        \u001b[49m\u001b[38;5;28;43mself\u001b[39;49m\u001b[38;5;241;43m.\u001b[39;49m\u001b[43mgoal\u001b[49m\u001b[43m(\u001b[49m\u001b[43m)\u001b[49m\u001b[43m,\u001b[49m\u001b[43m \u001b[49m\u001b[38;5;28;43mself\u001b[39;49m\u001b[38;5;241;43m.\u001b[39;49m\u001b[43massumptions\u001b[49m\u001b[43m(\u001b[49m\u001b[43m)\u001b[49m\u001b[43m,\u001b[49m\u001b[43m \u001b[49m\u001b[43mverbose\u001b[49m\n\u001b[1;32m    287\u001b[0m \u001b[43m    \u001b[49m\u001b[43m)\u001b[49m\n\u001b[1;32m    288\u001b[0m \u001b[38;5;28;01mreturn\u001b[39;00m \u001b[38;5;28mself\u001b[39m\u001b[38;5;241m.\u001b[39m_result\n",
      "File \u001b[0;32m~/opt/anaconda3/envs/negativeevents/lib/python3.10/site-packages/nltk/inference/prover9.py:327\u001b[0m, in \u001b[0;36mProver9._prove\u001b[0;34m(self, goal, assumptions, verbose)\u001b[0m\n\u001b[1;32m    324\u001b[0m \u001b[38;5;28;01mif\u001b[39;00m \u001b[38;5;129;01mnot\u001b[39;00m assumptions:\n\u001b[1;32m    325\u001b[0m     assumptions \u001b[38;5;241m=\u001b[39m []\n\u001b[0;32m--> 327\u001b[0m stdout, returncode \u001b[38;5;241m=\u001b[39m \u001b[38;5;28;43mself\u001b[39;49m\u001b[38;5;241;43m.\u001b[39;49m\u001b[43m_call_prover9\u001b[49m\u001b[43m(\u001b[49m\n\u001b[1;32m    328\u001b[0m \u001b[43m    \u001b[49m\u001b[38;5;28;43mself\u001b[39;49m\u001b[38;5;241;43m.\u001b[39;49m\u001b[43mprover9_input\u001b[49m\u001b[43m(\u001b[49m\u001b[43mgoal\u001b[49m\u001b[43m,\u001b[49m\u001b[43m \u001b[49m\u001b[43massumptions\u001b[49m\u001b[43m)\u001b[49m\u001b[43m,\u001b[49m\u001b[43m \u001b[49m\u001b[43mverbose\u001b[49m\u001b[38;5;241;43m=\u001b[39;49m\u001b[43mverbose\u001b[49m\n\u001b[1;32m    329\u001b[0m \u001b[43m\u001b[49m\u001b[43m)\u001b[49m\n\u001b[1;32m    330\u001b[0m \u001b[38;5;28;01mreturn\u001b[39;00m (returncode \u001b[38;5;241m==\u001b[39m \u001b[38;5;241m0\u001b[39m, stdout)\n",
      "File \u001b[0;32m~/opt/anaconda3/envs/negativeevents/lib/python3.10/site-packages/nltk/inference/prover9.py:356\u001b[0m, in \u001b[0;36mProver9._call_prover9\u001b[0;34m(self, input_str, args, verbose)\u001b[0m\n\u001b[1;32m    353\u001b[0m     updated_input_str \u001b[38;5;241m+\u001b[39m\u001b[38;5;241m=\u001b[39m \u001b[38;5;124m\"\u001b[39m\u001b[38;5;124massign(max_seconds, \u001b[39m\u001b[38;5;132;01m%d\u001b[39;00m\u001b[38;5;124m).\u001b[39m\u001b[38;5;130;01m\\n\u001b[39;00m\u001b[38;5;130;01m\\n\u001b[39;00m\u001b[38;5;124m\"\u001b[39m \u001b[38;5;241m%\u001b[39m \u001b[38;5;28mself\u001b[39m\u001b[38;5;241m.\u001b[39m_timeout\n\u001b[1;32m    354\u001b[0m updated_input_str \u001b[38;5;241m+\u001b[39m\u001b[38;5;241m=\u001b[39m input_str\n\u001b[0;32m--> 356\u001b[0m stdout, returncode \u001b[38;5;241m=\u001b[39m \u001b[38;5;28;43mself\u001b[39;49m\u001b[38;5;241;43m.\u001b[39;49m\u001b[43m_call\u001b[49m\u001b[43m(\u001b[49m\n\u001b[1;32m    357\u001b[0m \u001b[43m    \u001b[49m\u001b[43mupdated_input_str\u001b[49m\u001b[43m,\u001b[49m\u001b[43m \u001b[49m\u001b[38;5;28;43mself\u001b[39;49m\u001b[38;5;241;43m.\u001b[39;49m\u001b[43m_prover9_bin\u001b[49m\u001b[43m,\u001b[49m\u001b[43m \u001b[49m\u001b[43margs\u001b[49m\u001b[43m,\u001b[49m\u001b[43m \u001b[49m\u001b[43mverbose\u001b[49m\n\u001b[1;32m    358\u001b[0m \u001b[43m\u001b[49m\u001b[43m)\u001b[49m\n\u001b[1;32m    360\u001b[0m \u001b[38;5;28;01mif\u001b[39;00m returncode \u001b[38;5;129;01mnot\u001b[39;00m \u001b[38;5;129;01min\u001b[39;00m [\u001b[38;5;241m0\u001b[39m, \u001b[38;5;241m2\u001b[39m]:\n\u001b[1;32m    361\u001b[0m     errormsgprefix \u001b[38;5;241m=\u001b[39m \u001b[38;5;124m\"\u001b[39m\u001b[38;5;132;01m%%\u001b[39;00m\u001b[38;5;124mERROR:\u001b[39m\u001b[38;5;124m\"\u001b[39m\n",
      "File \u001b[0;32m~/opt/anaconda3/envs/negativeevents/lib/python3.10/site-packages/nltk/inference/prover9.py:210\u001b[0m, in \u001b[0;36mProver9Parent._call\u001b[0;34m(self, input_str, binary, args, verbose)\u001b[0m\n\u001b[1;32m    206\u001b[0m     \u001b[38;5;28;01mpass\u001b[39;00m\n\u001b[1;32m    207\u001b[0m p \u001b[38;5;241m=\u001b[39m subprocess\u001b[38;5;241m.\u001b[39mPopen(\n\u001b[1;32m    208\u001b[0m     cmd, stdout\u001b[38;5;241m=\u001b[39msubprocess\u001b[38;5;241m.\u001b[39mPIPE, stderr\u001b[38;5;241m=\u001b[39msubprocess\u001b[38;5;241m.\u001b[39mSTDOUT, stdin\u001b[38;5;241m=\u001b[39msubprocess\u001b[38;5;241m.\u001b[39mPIPE\n\u001b[1;32m    209\u001b[0m )\n\u001b[0;32m--> 210\u001b[0m (stdout, stderr) \u001b[38;5;241m=\u001b[39m \u001b[43mp\u001b[49m\u001b[38;5;241;43m.\u001b[39;49m\u001b[43mcommunicate\u001b[49m\u001b[43m(\u001b[49m\u001b[38;5;28;43minput\u001b[39;49m\u001b[38;5;241;43m=\u001b[39;49m\u001b[43minput_str\u001b[49m\u001b[43m)\u001b[49m\n\u001b[1;32m    212\u001b[0m \u001b[38;5;28;01mif\u001b[39;00m verbose:\n\u001b[1;32m    213\u001b[0m     \u001b[38;5;28mprint\u001b[39m(\u001b[38;5;124m\"\u001b[39m\u001b[38;5;124mReturn code:\u001b[39m\u001b[38;5;124m\"\u001b[39m, p\u001b[38;5;241m.\u001b[39mreturncode)\n",
      "File \u001b[0;32m~/opt/anaconda3/envs/negativeevents/lib/python3.10/subprocess.py:1149\u001b[0m, in \u001b[0;36mPopen.communicate\u001b[0;34m(self, input, timeout)\u001b[0m\n\u001b[1;32m   1146\u001b[0m     endtime \u001b[38;5;241m=\u001b[39m \u001b[38;5;28;01mNone\u001b[39;00m\n\u001b[1;32m   1148\u001b[0m \u001b[38;5;28;01mtry\u001b[39;00m:\n\u001b[0;32m-> 1149\u001b[0m     stdout, stderr \u001b[38;5;241m=\u001b[39m \u001b[38;5;28;43mself\u001b[39;49m\u001b[38;5;241;43m.\u001b[39;49m\u001b[43m_communicate\u001b[49m\u001b[43m(\u001b[49m\u001b[38;5;28;43minput\u001b[39;49m\u001b[43m,\u001b[49m\u001b[43m \u001b[49m\u001b[43mendtime\u001b[49m\u001b[43m,\u001b[49m\u001b[43m \u001b[49m\u001b[43mtimeout\u001b[49m\u001b[43m)\u001b[49m\n\u001b[1;32m   1150\u001b[0m \u001b[38;5;28;01mexcept\u001b[39;00m \u001b[38;5;167;01mKeyboardInterrupt\u001b[39;00m:\n\u001b[1;32m   1151\u001b[0m     \u001b[38;5;66;03m# https://bugs.python.org/issue25942\u001b[39;00m\n\u001b[1;32m   1152\u001b[0m     \u001b[38;5;66;03m# See the detailed comment in .wait().\u001b[39;00m\n\u001b[1;32m   1153\u001b[0m     \u001b[38;5;28;01mif\u001b[39;00m timeout \u001b[38;5;129;01mis\u001b[39;00m \u001b[38;5;129;01mnot\u001b[39;00m \u001b[38;5;28;01mNone\u001b[39;00m:\n",
      "File \u001b[0;32m~/opt/anaconda3/envs/negativeevents/lib/python3.10/subprocess.py:2000\u001b[0m, in \u001b[0;36mPopen._communicate\u001b[0;34m(self, input, endtime, orig_timeout)\u001b[0m\n\u001b[1;32m   1993\u001b[0m     \u001b[38;5;28mself\u001b[39m\u001b[38;5;241m.\u001b[39m_check_timeout(endtime, orig_timeout,\n\u001b[1;32m   1994\u001b[0m                         stdout, stderr,\n\u001b[1;32m   1995\u001b[0m                         skip_check_and_raise\u001b[38;5;241m=\u001b[39m\u001b[38;5;28;01mTrue\u001b[39;00m)\n\u001b[1;32m   1996\u001b[0m     \u001b[38;5;28;01mraise\u001b[39;00m \u001b[38;5;167;01mRuntimeError\u001b[39;00m(  \u001b[38;5;66;03m# Impossible :)\u001b[39;00m\n\u001b[1;32m   1997\u001b[0m         \u001b[38;5;124m'\u001b[39m\u001b[38;5;124m_check_timeout(..., skip_check_and_raise=True) \u001b[39m\u001b[38;5;124m'\u001b[39m\n\u001b[1;32m   1998\u001b[0m         \u001b[38;5;124m'\u001b[39m\u001b[38;5;124mfailed to raise TimeoutExpired.\u001b[39m\u001b[38;5;124m'\u001b[39m)\n\u001b[0;32m-> 2000\u001b[0m ready \u001b[38;5;241m=\u001b[39m \u001b[43mselector\u001b[49m\u001b[38;5;241;43m.\u001b[39;49m\u001b[43mselect\u001b[49m\u001b[43m(\u001b[49m\u001b[43mtimeout\u001b[49m\u001b[43m)\u001b[49m\n\u001b[1;32m   2001\u001b[0m \u001b[38;5;28mself\u001b[39m\u001b[38;5;241m.\u001b[39m_check_timeout(endtime, orig_timeout, stdout, stderr)\n\u001b[1;32m   2003\u001b[0m \u001b[38;5;66;03m# XXX Rewrite these to use non-blocking I/O on the file\u001b[39;00m\n\u001b[1;32m   2004\u001b[0m \u001b[38;5;66;03m# objects; they are no longer using C stdio!\u001b[39;00m\n",
      "File \u001b[0;32m~/opt/anaconda3/envs/negativeevents/lib/python3.10/selectors.py:416\u001b[0m, in \u001b[0;36m_PollLikeSelector.select\u001b[0;34m(self, timeout)\u001b[0m\n\u001b[1;32m    414\u001b[0m ready \u001b[38;5;241m=\u001b[39m []\n\u001b[1;32m    415\u001b[0m \u001b[38;5;28;01mtry\u001b[39;00m:\n\u001b[0;32m--> 416\u001b[0m     fd_event_list \u001b[38;5;241m=\u001b[39m \u001b[38;5;28;43mself\u001b[39;49m\u001b[38;5;241;43m.\u001b[39;49m\u001b[43m_selector\u001b[49m\u001b[38;5;241;43m.\u001b[39;49m\u001b[43mpoll\u001b[49m\u001b[43m(\u001b[49m\u001b[43mtimeout\u001b[49m\u001b[43m)\u001b[49m\n\u001b[1;32m    417\u001b[0m \u001b[38;5;28;01mexcept\u001b[39;00m \u001b[38;5;167;01mInterruptedError\u001b[39;00m:\n\u001b[1;32m    418\u001b[0m     \u001b[38;5;28;01mreturn\u001b[39;00m ready\n",
      "\u001b[0;31mKeyboardInterrupt\u001b[0m: "
     ]
    }
   ],
   "source": [
    "#Harmony is derivable from other possibility axioms\n",
    "\n",
    "goal = poss_harm\n",
    "prover = Prover9Command(goal, assumptions = [ax for ax in event_frame if not (ax == poss_harm)], timeout = 1000)\n",
    "prover.prove()\n",
    "print(prover.proof())"
   ]
  },
  {
   "cell_type": "code",
   "execution_count": null,
   "id": "c2fdd912",
   "metadata": {},
   "outputs": [],
   "source": [
    "#Nirvana is derivable from other possibility axioms (no counterexample found)\n",
    "goal = poss_nirv\n",
    "mb = MaceCommand(goal, assumptions = [ax for ax in event_frame if not (ax == poss_nirv)])\n",
    "mb.build_model()"
   ]
  },
  {
   "cell_type": "code",
   "execution_count": null,
   "id": "a2e701bc",
   "metadata": {},
   "outputs": [],
   "source": [
    "goal = poss_nirv\n",
    "prover = Prover9Command(goal, assumptions = [ax for ax in event_frame if not (ax == poss_nirv)], timeout = 1000)\n",
    "prover.prove()\n",
    "print(prover.proof())"
   ]
  },
  {
   "cell_type": "code",
   "execution_count": null,
   "id": "43d9d6a8",
   "metadata": {},
   "outputs": [],
   "source": [
    "#Rashōmon is derivable from other possibility axioms\n",
    "goal = poss_rshm\n",
    "prover = Prover9Command(goal, assumptions = [ax for ax in event_frame if not (ax == poss_rshm)], timeout = 1000)\n",
    "prover.prove()\n",
    "print(prover.proof())"
   ]
  },
  {
   "cell_type": "code",
   "execution_count": 49,
   "id": "cd661498",
   "metadata": {},
   "outputs": [
    {
     "data": {
      "text/plain": [
       "False"
      ]
     },
     "execution_count": 49,
     "metadata": {},
     "output_type": "execute_result"
    }
   ],
   "source": [
    "#Cosmopolitan is not derivable from other possibility axioms (counterexample found)\n",
    "goal = poss_cosm\n",
    "mb = MaceCommand(goal, assumptions = [ax for ax in event_frame if not (ax == poss_cosm)])\n",
    "mb.build_model()"
   ]
  },
  {
   "cell_type": "code",
   "execution_count": null,
   "id": "1025bd38",
   "metadata": {},
   "outputs": [],
   "source": [
    "#Cosmopolitan is derivable from other possibility axioms\n",
    "goal = poss_cosm\n",
    "prover = Prover9Command(goal, assumptions = [ax for ax in event_frame if not (ax == poss_cosm)], timeout = 1000)\n",
    "prover.prove()\n",
    "print(prover.proof())"
   ]
  },
  {
   "cell_type": "markdown",
   "id": "a85154db",
   "metadata": {},
   "source": [
    "## Theorems"
   ]
  },
  {
   "cell_type": "markdown",
   "id": "463decc0",
   "metadata": {},
   "source": [
    "### Plenitude"
   ]
  },
  {
   "cell_type": "code",
   "execution_count": 41,
   "id": "f5ec142d",
   "metadata": {},
   "outputs": [
    {
     "name": "stdout",
     "output_type": "stream",
     "text": [
      "============================== prooftrans ============================\n",
      "Prover9 (64) version 2009-11A, November 2009.\n",
      "Process 12513 was started by champollion on standingdesk.home,\n",
      "Fri Jul  8 15:37:17 2022\n",
      "The command was \"prover9\".\n",
      "============================== end of head ===========================\n",
      "\n",
      "============================== end of input ==========================\n",
      "\n",
      "============================== PROOF =================================\n",
      "\n",
      "% -------- Comments from original proof --------\n",
      "% Proof 1 at 11.69 (+ 0.45) seconds.\n",
      "% Length of proof is 56.\n",
      "% Level of proof is 13.\n",
      "% Maximum clause weight is 15.000.\n",
      "% Given clauses 6932.\n",
      "\n",
      "\n",
      "1 Partof(x,y) <-> Product(x,y) = x.  [assumption].\n",
      "7 Excl(x,y) <-> Excl(y,x).  [assumption].\n",
      "8 Confl(x,y) <-> (exists z (Partof(z,x) & (exists u (Partof(u,y) & Excl(z,u))))).  [assumption].\n",
      "9 Poss(x) <-> -Confl(x,x).  [assumption].\n",
      "10 World(x) <-> Poss(x) & (all y (Properpartof(x,y) -> -Poss(y))).  [assumption].\n",
      "11 (all x all y (World(x) & -Confl(x,y) -> Poss(y))).  [assumption].\n",
      "14 (all x (Poss(x) -> (exists y (World(y) & Partof(x,y))))).  [assumption].\n",
      "15 (all x ((exists y (-Confl(x,y) & World(y))) <-> Poss(x))).  [goal].\n",
      "26 -World(x) | Poss(x).  [clausify(10)].\n",
      "27 -World(x) | Confl(x,y) | Poss(y).  [clausify(11)].\n",
      "28 -Poss(x) | World(f9(x)).  [clausify(14)].\n",
      "29 World(c2) | Poss(c1).  [deny(15)].\n",
      "30 Confl(c1,x) | -World(x) | -Poss(c1).  [deny(15)].\n",
      "34 -Partof(x,y) | Product(x,y) = x.  [clausify(1)].\n",
      "35 Partof(x,y) | Product(x,y) != x.  [clausify(1)].\n",
      "39 Product(x,y) = Product(y,x).  [assumption].\n",
      "42 Product(x,Product(y,z)) = Product(Product(x,y),z).  [assumption].\n",
      "43 Product(Product(x,y),z) = Product(x,Product(y,z)).  [copy(42),flip(a)].\n",
      "55 -Excl(x,y) | Excl(y,x).  [clausify(7)].\n",
      "56 -Confl(x,y) | Partof(f6(x,y),x).  [clausify(8)].\n",
      "57 -Confl(x,y) | Partof(f7(x,y),y).  [clausify(8)].\n",
      "58 -Confl(x,y) | Excl(f6(x,y),f7(x,y)).  [clausify(8)].\n",
      "59 Confl(x,y) | -Partof(z,x) | -Partof(u,y) | -Excl(z,u).  [clausify(8)].\n",
      "60 -Poss(x) | -Confl(x,x).  [clausify(9)].\n",
      "64 -Poss(x) | Partof(x,f9(x)).  [clausify(14)].\n",
      "65 -Confl(c1,c2) | Poss(c1).  [deny(15)].\n",
      "71 -Poss(x) | Poss(f9(x)).  [resolve(28,b,26,a)].\n",
      "74 Poss(c1) | Confl(c2,x) | Poss(x).  [resolve(29,a,27,a)].\n",
      "76 Confl(c1,f9(x)) | -Poss(c1) | -Poss(x).  [resolve(30,b,28,b)].\n",
      "92 Confl(c1,f9(c1)) | -Poss(c1).  [factor(76,b,c)].\n",
      "103 Partof(Product(x,y),z) | Product(x,Product(y,z)) != Product(x,y).  [para(43(a,1),35(b,1))].\n",
      "108 Product(x,Product(y,z)) = Product(y,Product(x,z)).  [para(39(a,1),43(a,1,1)),rewrite([43(2)])].\n",
      "156 Poss(c1) | Poss(x) | Excl(f6(c2,x),f7(c2,x)).  [resolve(74,b,58,a)].\n",
      "157 Poss(c1) | Poss(x) | Partof(f7(c2,x),x).  [resolve(74,b,57,a)].\n",
      "158 Poss(c1) | Poss(x) | Partof(f6(c2,x),c2).  [resolve(74,b,56,a)].\n",
      "159 Poss(c1) | Excl(f6(c2,c1),f7(c2,c1)).  [factor(156,a,b)].\n",
      "160 Poss(c1) | Partof(f7(c2,c1),c1).  [factor(157,a,b)].\n",
      "161 Poss(c1) | Partof(f6(c2,c1),c2).  [factor(158,a,b)].\n",
      "430 Partof(Product(x,y),z) | Product(y,Product(x,z)) != Product(x,y).  [para(108(a,1),103(b,1))].\n",
      "1210 Poss(c1) | Excl(f7(c2,c1),f6(c2,c1)).  [resolve(159,b,55,a)].\n",
      "2274 Poss(c1) | Confl(x,y) | -Partof(f7(c2,c1),x) | -Partof(f6(c2,c1),y).  [resolve(1210,b,59,d)].\n",
      "36760 Poss(c1) | Confl(c1,x) | -Partof(f6(c2,c1),x).  [resolve(2274,c,160,b),merge(d)].\n",
      "36775 Poss(c1) | Confl(c1,c2).  [resolve(36760,c,161,b),merge(c)].\n",
      "36778 Poss(c1).  [resolve(36775,b,65,a),merge(b)].\n",
      "36801 Confl(c1,f9(c1)).  [back_unit_del(92),unit_del(b,36778)].\n",
      "36819 Poss(f9(c1)).  [resolve(36778,a,71,a)].\n",
      "36821 Partof(c1,f9(c1)).  [resolve(36778,a,64,a)].\n",
      "36841 -Confl(f9(c1),f9(c1)).  [ur(60,a,36819,a)].\n",
      "38096 Excl(f6(c1,f9(c1)),f7(c1,f9(c1))).  [resolve(36801,a,58,a)].\n",
      "38097 Partof(f7(c1,f9(c1)),f9(c1)).  [resolve(36801,a,57,a)].\n",
      "38098 Partof(f6(c1,f9(c1)),c1).  [resolve(36801,a,56,a)].\n",
      "38099 Product(c1,f9(c1)) = c1.  [resolve(36821,a,34,a)].\n",
      "38856 Product(c1,f6(c1,f9(c1))) = f6(c1,f9(c1)).  [resolve(38098,a,34,a),rewrite([39(6)])].\n",
      "38947 Partof(Product(c1,x),f9(c1)).  [para(38099(a,1),430(b,1,2)),flip(b),unit_del(b,39)].\n",
      "41873 -Partof(f6(c1,f9(c1)),f9(c1)).  [ur(59,a,36841,a,c,38097,a,d,38096,a)].\n",
      "48505 $F.  [para(38856(a,1),38947(a,1)),unit_del(a,41873)].\n",
      "\n",
      "============================== end of proof ==========================\n"
     ]
    }
   ],
   "source": [
    "#check plenitude\n",
    "#goal = read_expr('all x.(int_poss(x) -> ext_poss(x))')\n",
    "\n",
    "goal = read_expr('all x.((exists y.(-Confl(x, y) & World(y))) <-> Poss(x))')\n",
    "\n",
    "#goal = read_expr('all x.(Poss(x) <-> (exists y.(-Confl(x, y) & World(y))))')\n",
    "prover = Prover9Command(goal, assumptions = event_frame)\n",
    "prover.prove()\n",
    "print(prover.proof())"
   ]
  },
  {
   "cell_type": "markdown",
   "id": "89f46585",
   "metadata": {},
   "source": [
    "### Distributivity of actuality"
   ]
  },
  {
   "cell_type": "code",
   "execution_count": 14,
   "id": "36cb33af",
   "metadata": {},
   "outputs": [
    {
     "ename": "KeyboardInterrupt",
     "evalue": "",
     "output_type": "error",
     "traceback": [
      "\u001b[0;31m---------------------------------------------------------------------------\u001b[0m",
      "\u001b[0;31mKeyboardInterrupt\u001b[0m                         Traceback (most recent call last)",
      "Input \u001b[0;32mIn [14]\u001b[0m, in \u001b[0;36m<cell line: 4>\u001b[0;34m()\u001b[0m\n\u001b[1;32m      2\u001b[0m goal \u001b[38;5;241m=\u001b[39m read_expr(\u001b[38;5;124m'\u001b[39m\u001b[38;5;124mall x.((exists y. Actual(y) & Partof(x,y)) -> Actual(x))\u001b[39m\u001b[38;5;124m'\u001b[39m)\n\u001b[1;32m      3\u001b[0m prover \u001b[38;5;241m=\u001b[39m Prover9Command(goal, assumptions \u001b[38;5;241m=\u001b[39m event_frame)\n\u001b[0;32m----> 4\u001b[0m \u001b[43mprover\u001b[49m\u001b[38;5;241;43m.\u001b[39;49m\u001b[43mprove\u001b[49m\u001b[43m(\u001b[49m\u001b[43m)\u001b[49m\n\u001b[1;32m      5\u001b[0m \u001b[38;5;28mprint\u001b[39m(prover\u001b[38;5;241m.\u001b[39mproof())\n",
      "File \u001b[0;32m~/opt/anaconda3/envs/negativeevents/lib/python3.10/site-packages/nltk/inference/api.py:285\u001b[0m, in \u001b[0;36mBaseProverCommand.prove\u001b[0;34m(self, verbose)\u001b[0m\n\u001b[1;32m    280\u001b[0m \u001b[38;5;124;03m\"\"\"\u001b[39;00m\n\u001b[1;32m    281\u001b[0m \u001b[38;5;124;03mPerform the actual proof.  Store the result to prevent unnecessary\u001b[39;00m\n\u001b[1;32m    282\u001b[0m \u001b[38;5;124;03mre-proving.\u001b[39;00m\n\u001b[1;32m    283\u001b[0m \u001b[38;5;124;03m\"\"\"\u001b[39;00m\n\u001b[1;32m    284\u001b[0m \u001b[38;5;28;01mif\u001b[39;00m \u001b[38;5;28mself\u001b[39m\u001b[38;5;241m.\u001b[39m_result \u001b[38;5;129;01mis\u001b[39;00m \u001b[38;5;28;01mNone\u001b[39;00m:\n\u001b[0;32m--> 285\u001b[0m     \u001b[38;5;28mself\u001b[39m\u001b[38;5;241m.\u001b[39m_result, \u001b[38;5;28mself\u001b[39m\u001b[38;5;241m.\u001b[39m_proof \u001b[38;5;241m=\u001b[39m \u001b[38;5;28;43mself\u001b[39;49m\u001b[38;5;241;43m.\u001b[39;49m\u001b[43m_prover\u001b[49m\u001b[38;5;241;43m.\u001b[39;49m\u001b[43m_prove\u001b[49m\u001b[43m(\u001b[49m\n\u001b[1;32m    286\u001b[0m \u001b[43m        \u001b[49m\u001b[38;5;28;43mself\u001b[39;49m\u001b[38;5;241;43m.\u001b[39;49m\u001b[43mgoal\u001b[49m\u001b[43m(\u001b[49m\u001b[43m)\u001b[49m\u001b[43m,\u001b[49m\u001b[43m \u001b[49m\u001b[38;5;28;43mself\u001b[39;49m\u001b[38;5;241;43m.\u001b[39;49m\u001b[43massumptions\u001b[49m\u001b[43m(\u001b[49m\u001b[43m)\u001b[49m\u001b[43m,\u001b[49m\u001b[43m \u001b[49m\u001b[43mverbose\u001b[49m\n\u001b[1;32m    287\u001b[0m \u001b[43m    \u001b[49m\u001b[43m)\u001b[49m\n\u001b[1;32m    288\u001b[0m \u001b[38;5;28;01mreturn\u001b[39;00m \u001b[38;5;28mself\u001b[39m\u001b[38;5;241m.\u001b[39m_result\n",
      "File \u001b[0;32m~/opt/anaconda3/envs/negativeevents/lib/python3.10/site-packages/nltk/inference/prover9.py:327\u001b[0m, in \u001b[0;36mProver9._prove\u001b[0;34m(self, goal, assumptions, verbose)\u001b[0m\n\u001b[1;32m    324\u001b[0m \u001b[38;5;28;01mif\u001b[39;00m \u001b[38;5;129;01mnot\u001b[39;00m assumptions:\n\u001b[1;32m    325\u001b[0m     assumptions \u001b[38;5;241m=\u001b[39m []\n\u001b[0;32m--> 327\u001b[0m stdout, returncode \u001b[38;5;241m=\u001b[39m \u001b[38;5;28;43mself\u001b[39;49m\u001b[38;5;241;43m.\u001b[39;49m\u001b[43m_call_prover9\u001b[49m\u001b[43m(\u001b[49m\n\u001b[1;32m    328\u001b[0m \u001b[43m    \u001b[49m\u001b[38;5;28;43mself\u001b[39;49m\u001b[38;5;241;43m.\u001b[39;49m\u001b[43mprover9_input\u001b[49m\u001b[43m(\u001b[49m\u001b[43mgoal\u001b[49m\u001b[43m,\u001b[49m\u001b[43m \u001b[49m\u001b[43massumptions\u001b[49m\u001b[43m)\u001b[49m\u001b[43m,\u001b[49m\u001b[43m \u001b[49m\u001b[43mverbose\u001b[49m\u001b[38;5;241;43m=\u001b[39;49m\u001b[43mverbose\u001b[49m\n\u001b[1;32m    329\u001b[0m \u001b[43m\u001b[49m\u001b[43m)\u001b[49m\n\u001b[1;32m    330\u001b[0m \u001b[38;5;28;01mreturn\u001b[39;00m (returncode \u001b[38;5;241m==\u001b[39m \u001b[38;5;241m0\u001b[39m, stdout)\n",
      "File \u001b[0;32m~/opt/anaconda3/envs/negativeevents/lib/python3.10/site-packages/nltk/inference/prover9.py:356\u001b[0m, in \u001b[0;36mProver9._call_prover9\u001b[0;34m(self, input_str, args, verbose)\u001b[0m\n\u001b[1;32m    353\u001b[0m     updated_input_str \u001b[38;5;241m+\u001b[39m\u001b[38;5;241m=\u001b[39m \u001b[38;5;124m\"\u001b[39m\u001b[38;5;124massign(max_seconds, \u001b[39m\u001b[38;5;132;01m%d\u001b[39;00m\u001b[38;5;124m).\u001b[39m\u001b[38;5;130;01m\\n\u001b[39;00m\u001b[38;5;130;01m\\n\u001b[39;00m\u001b[38;5;124m\"\u001b[39m \u001b[38;5;241m%\u001b[39m \u001b[38;5;28mself\u001b[39m\u001b[38;5;241m.\u001b[39m_timeout\n\u001b[1;32m    354\u001b[0m updated_input_str \u001b[38;5;241m+\u001b[39m\u001b[38;5;241m=\u001b[39m input_str\n\u001b[0;32m--> 356\u001b[0m stdout, returncode \u001b[38;5;241m=\u001b[39m \u001b[38;5;28;43mself\u001b[39;49m\u001b[38;5;241;43m.\u001b[39;49m\u001b[43m_call\u001b[49m\u001b[43m(\u001b[49m\n\u001b[1;32m    357\u001b[0m \u001b[43m    \u001b[49m\u001b[43mupdated_input_str\u001b[49m\u001b[43m,\u001b[49m\u001b[43m \u001b[49m\u001b[38;5;28;43mself\u001b[39;49m\u001b[38;5;241;43m.\u001b[39;49m\u001b[43m_prover9_bin\u001b[49m\u001b[43m,\u001b[49m\u001b[43m \u001b[49m\u001b[43margs\u001b[49m\u001b[43m,\u001b[49m\u001b[43m \u001b[49m\u001b[43mverbose\u001b[49m\n\u001b[1;32m    358\u001b[0m \u001b[43m\u001b[49m\u001b[43m)\u001b[49m\n\u001b[1;32m    360\u001b[0m \u001b[38;5;28;01mif\u001b[39;00m returncode \u001b[38;5;129;01mnot\u001b[39;00m \u001b[38;5;129;01min\u001b[39;00m [\u001b[38;5;241m0\u001b[39m, \u001b[38;5;241m2\u001b[39m]:\n\u001b[1;32m    361\u001b[0m     errormsgprefix \u001b[38;5;241m=\u001b[39m \u001b[38;5;124m\"\u001b[39m\u001b[38;5;132;01m%%\u001b[39;00m\u001b[38;5;124mERROR:\u001b[39m\u001b[38;5;124m\"\u001b[39m\n",
      "File \u001b[0;32m~/opt/anaconda3/envs/negativeevents/lib/python3.10/site-packages/nltk/inference/prover9.py:210\u001b[0m, in \u001b[0;36mProver9Parent._call\u001b[0;34m(self, input_str, binary, args, verbose)\u001b[0m\n\u001b[1;32m    206\u001b[0m     \u001b[38;5;28;01mpass\u001b[39;00m\n\u001b[1;32m    207\u001b[0m p \u001b[38;5;241m=\u001b[39m subprocess\u001b[38;5;241m.\u001b[39mPopen(\n\u001b[1;32m    208\u001b[0m     cmd, stdout\u001b[38;5;241m=\u001b[39msubprocess\u001b[38;5;241m.\u001b[39mPIPE, stderr\u001b[38;5;241m=\u001b[39msubprocess\u001b[38;5;241m.\u001b[39mSTDOUT, stdin\u001b[38;5;241m=\u001b[39msubprocess\u001b[38;5;241m.\u001b[39mPIPE\n\u001b[1;32m    209\u001b[0m )\n\u001b[0;32m--> 210\u001b[0m (stdout, stderr) \u001b[38;5;241m=\u001b[39m \u001b[43mp\u001b[49m\u001b[38;5;241;43m.\u001b[39;49m\u001b[43mcommunicate\u001b[49m\u001b[43m(\u001b[49m\u001b[38;5;28;43minput\u001b[39;49m\u001b[38;5;241;43m=\u001b[39;49m\u001b[43minput_str\u001b[49m\u001b[43m)\u001b[49m\n\u001b[1;32m    212\u001b[0m \u001b[38;5;28;01mif\u001b[39;00m verbose:\n\u001b[1;32m    213\u001b[0m     \u001b[38;5;28mprint\u001b[39m(\u001b[38;5;124m\"\u001b[39m\u001b[38;5;124mReturn code:\u001b[39m\u001b[38;5;124m\"\u001b[39m, p\u001b[38;5;241m.\u001b[39mreturncode)\n",
      "File \u001b[0;32m~/opt/anaconda3/envs/negativeevents/lib/python3.10/subprocess.py:1149\u001b[0m, in \u001b[0;36mPopen.communicate\u001b[0;34m(self, input, timeout)\u001b[0m\n\u001b[1;32m   1146\u001b[0m     endtime \u001b[38;5;241m=\u001b[39m \u001b[38;5;28;01mNone\u001b[39;00m\n\u001b[1;32m   1148\u001b[0m \u001b[38;5;28;01mtry\u001b[39;00m:\n\u001b[0;32m-> 1149\u001b[0m     stdout, stderr \u001b[38;5;241m=\u001b[39m \u001b[38;5;28;43mself\u001b[39;49m\u001b[38;5;241;43m.\u001b[39;49m\u001b[43m_communicate\u001b[49m\u001b[43m(\u001b[49m\u001b[38;5;28;43minput\u001b[39;49m\u001b[43m,\u001b[49m\u001b[43m \u001b[49m\u001b[43mendtime\u001b[49m\u001b[43m,\u001b[49m\u001b[43m \u001b[49m\u001b[43mtimeout\u001b[49m\u001b[43m)\u001b[49m\n\u001b[1;32m   1150\u001b[0m \u001b[38;5;28;01mexcept\u001b[39;00m \u001b[38;5;167;01mKeyboardInterrupt\u001b[39;00m:\n\u001b[1;32m   1151\u001b[0m     \u001b[38;5;66;03m# https://bugs.python.org/issue25942\u001b[39;00m\n\u001b[1;32m   1152\u001b[0m     \u001b[38;5;66;03m# See the detailed comment in .wait().\u001b[39;00m\n\u001b[1;32m   1153\u001b[0m     \u001b[38;5;28;01mif\u001b[39;00m timeout \u001b[38;5;129;01mis\u001b[39;00m \u001b[38;5;129;01mnot\u001b[39;00m \u001b[38;5;28;01mNone\u001b[39;00m:\n",
      "File \u001b[0;32m~/opt/anaconda3/envs/negativeevents/lib/python3.10/subprocess.py:2000\u001b[0m, in \u001b[0;36mPopen._communicate\u001b[0;34m(self, input, endtime, orig_timeout)\u001b[0m\n\u001b[1;32m   1993\u001b[0m     \u001b[38;5;28mself\u001b[39m\u001b[38;5;241m.\u001b[39m_check_timeout(endtime, orig_timeout,\n\u001b[1;32m   1994\u001b[0m                         stdout, stderr,\n\u001b[1;32m   1995\u001b[0m                         skip_check_and_raise\u001b[38;5;241m=\u001b[39m\u001b[38;5;28;01mTrue\u001b[39;00m)\n\u001b[1;32m   1996\u001b[0m     \u001b[38;5;28;01mraise\u001b[39;00m \u001b[38;5;167;01mRuntimeError\u001b[39;00m(  \u001b[38;5;66;03m# Impossible :)\u001b[39;00m\n\u001b[1;32m   1997\u001b[0m         \u001b[38;5;124m'\u001b[39m\u001b[38;5;124m_check_timeout(..., skip_check_and_raise=True) \u001b[39m\u001b[38;5;124m'\u001b[39m\n\u001b[1;32m   1998\u001b[0m         \u001b[38;5;124m'\u001b[39m\u001b[38;5;124mfailed to raise TimeoutExpired.\u001b[39m\u001b[38;5;124m'\u001b[39m)\n\u001b[0;32m-> 2000\u001b[0m ready \u001b[38;5;241m=\u001b[39m \u001b[43mselector\u001b[49m\u001b[38;5;241;43m.\u001b[39;49m\u001b[43mselect\u001b[49m\u001b[43m(\u001b[49m\u001b[43mtimeout\u001b[49m\u001b[43m)\u001b[49m\n\u001b[1;32m   2001\u001b[0m \u001b[38;5;28mself\u001b[39m\u001b[38;5;241m.\u001b[39m_check_timeout(endtime, orig_timeout, stdout, stderr)\n\u001b[1;32m   2003\u001b[0m \u001b[38;5;66;03m# XXX Rewrite these to use non-blocking I/O on the file\u001b[39;00m\n\u001b[1;32m   2004\u001b[0m \u001b[38;5;66;03m# objects; they are no longer using C stdio!\u001b[39;00m\n",
      "File \u001b[0;32m~/opt/anaconda3/envs/negativeevents/lib/python3.10/selectors.py:416\u001b[0m, in \u001b[0;36m_PollLikeSelector.select\u001b[0;34m(self, timeout)\u001b[0m\n\u001b[1;32m    414\u001b[0m ready \u001b[38;5;241m=\u001b[39m []\n\u001b[1;32m    415\u001b[0m \u001b[38;5;28;01mtry\u001b[39;00m:\n\u001b[0;32m--> 416\u001b[0m     fd_event_list \u001b[38;5;241m=\u001b[39m \u001b[38;5;28;43mself\u001b[39;49m\u001b[38;5;241;43m.\u001b[39;49m\u001b[43m_selector\u001b[49m\u001b[38;5;241;43m.\u001b[39;49m\u001b[43mpoll\u001b[49m\u001b[43m(\u001b[49m\u001b[43mtimeout\u001b[49m\u001b[43m)\u001b[49m\n\u001b[1;32m    417\u001b[0m \u001b[38;5;28;01mexcept\u001b[39;00m \u001b[38;5;167;01mInterruptedError\u001b[39;00m:\n\u001b[1;32m    418\u001b[0m     \u001b[38;5;28;01mreturn\u001b[39;00m ready\n",
      "\u001b[0;31mKeyboardInterrupt\u001b[0m: "
     ]
    }
   ],
   "source": [
    "#check distributivity of actuality\n",
    "goal = read_expr('all x.((exists y. Actual(y) & Partof(x,y)) -> Actual(x))')\n",
    "prover = Prover9Command(goal, assumptions = event_frame)\n",
    "prover.prove()\n",
    "print(prover.proof())"
   ]
  },
  {
   "cell_type": "code",
   "execution_count": null,
   "id": "bb266ca5",
   "metadata": {},
   "outputs": [],
   "source": [
    "#Find counterexample for distributivity of actuality - fail\n",
    "\n",
    "goal = read_expr('all x.((exists y. Actual(y) & Product(x, y) = x) -> Actual(x))')\n",
    "mb = MaceCommand(goal, assumptions = event_frame)\n",
    "mb.build_model()"
   ]
  },
  {
   "cell_type": "markdown",
   "id": "4c27e993",
   "metadata": {},
   "source": [
    "### Cumulativity of actuality"
   ]
  },
  {
   "cell_type": "code",
   "execution_count": null,
   "id": "4c734e9e",
   "metadata": {},
   "outputs": [],
   "source": [
    "#check cumulativity of actuality\n",
    "goal = read_expr('all P.((all x.(P(x) -> Actual(x))) -> (exists z.(all x.(P(x) -> Product(x, z) = x) & all y.((all x.(P(x) -> Product(x, y) = x)) -> Product(y,z) = z)) & Actual(z)))')\n",
    "prover = Prover9Command(goal, assumptions = event_frame)\n",
    "prover.prove()\n",
    "print(prover.proof())"
   ]
  },
  {
   "cell_type": "code",
   "execution_count": null,
   "id": "08aa4026",
   "metadata": {},
   "outputs": [],
   "source": [
    "#find counterexample for cumulativity of actuality - fail\n",
    "\n",
    "goal = read_expr('all P.((all x.(P(x) -> Actual(x))) -> (exists z.(all x.(P(x) -> Product(x, z) = x) & all y.((all x.(P(x) -> Product(x, y) = x)) -> Product(y,z) = z)) & Actual(z)))')\n",
    "mb = MaceCommand(goal, assumptions = event_frame)\n",
    "mb.build_model()"
   ]
  },
  {
   "cell_type": "markdown",
   "id": "df547dd8",
   "metadata": {},
   "source": [
    "### Manichaeism"
   ]
  },
  {
   "cell_type": "code",
   "execution_count": 24,
   "id": "d25ca8b8",
   "metadata": {},
   "outputs": [
    {
     "name": "stdout",
     "output_type": "stream",
     "text": [
      "============================== prooftrans ============================\n",
      "Prover9 (64) version 2009-11A, November 2009.\n",
      "Process 12229 was started by champollion on standingdesk.home,\n",
      "Fri Jul  8 15:14:13 2022\n",
      "The command was \"prover9\".\n",
      "============================== end of head ===========================\n",
      "\n",
      "============================== end of input ==========================\n",
      "\n",
      "============================== PROOF =================================\n",
      "\n",
      "% -------- Comments from original proof --------\n",
      "% Proof 1 at 0.06 (+ 0.01) seconds.\n",
      "% Length of proof is 30.\n",
      "% Level of proof is 7.\n",
      "% Maximum clause weight is 11.000.\n",
      "% Given clauses 413.\n",
      "\n",
      "\n",
      "1 Partof(x,y) <-> Product(x,y) = x.  [assumption].\n",
      "2 Properpartof(x,y) <-> Partof(x,y) & x != y.  [assumption].\n",
      "10 World(x) <-> Poss(x) & (all y (Properpartof(x,y) -> -Poss(y))).  [assumption].\n",
      "11 (all x all y (World(x) & -Confl(x,y) -> Poss(y))).  [assumption].\n",
      "13 (all x all y (Poss(x) & Poss(y) & -Confl(x,y) -> Poss(Sum(x,y)))).  [assumption].\n",
      "15 (all x (World(x) -> (all y (Partof(y,x) | Confl(x,y))))).  [goal].\n",
      "16 Properpartof(x,y) | -Partof(x,y) | y = x.  [clausify(2)].\n",
      "19 -World(x) | -Properpartof(x,y) | -Poss(y).  [clausify(10)].\n",
      "26 -World(x) | Poss(x).  [clausify(10)].\n",
      "27 -World(x) | Confl(x,y) | Poss(y).  [clausify(11)].\n",
      "29 World(c1).  [deny(15)].\n",
      "30 -World(x) | -Poss(y) | -Partof(x,y) | y = x.  [resolve(19,b,16,a)].\n",
      "34 Partof(x,y) | Product(x,y) != x.  [clausify(1)].\n",
      "37 Sum(x,y) = Sum(y,x).  [assumption].\n",
      "44 Product(x,Sum(x,y)) = x.  [assumption].\n",
      "62 -Poss(x) | -Poss(y) | Confl(x,y) | Poss(Sum(x,y)).  [clausify(13)].\n",
      "64 -Partof(c2,c1).  [deny(15)].\n",
      "65 -Confl(c1,c2).  [deny(15)].\n",
      "73 Poss(c1).  [resolve(29,a,26,a)].\n",
      "74 Confl(c1,x) | Poss(x).  [resolve(29,a,27,a)].\n",
      "78 -Poss(x) | -Partof(c1,x) | x = c1.  [resolve(30,a,29,a)].\n",
      "79 -Poss(x) | -Partof(c1,x) | c1 = x.  [copy(78),flip(c)].\n",
      "103 Partof(x,Sum(x,y)).  [resolve(44,a,34,b)].\n",
      "146 -Poss(x) | Confl(c1,x) | Poss(Sum(c1,x)).  [resolve(73,a,62,a)].\n",
      "148 Poss(c2).  [resolve(74,a,65,a)].\n",
      "281 -Poss(Sum(c1,x)) | Sum(c1,x) = c1.  [resolve(103,a,79,b),flip(b)].\n",
      "284 Partof(x,Sum(y,x)).  [para(37(a,1),103(a,2))].\n",
      "1481 Poss(Sum(c1,c2)).  [resolve(146,a,148,a),unit_del(a,65)].\n",
      "1735 Sum(c1,c2) = c1.  [resolve(281,a,1481,a)].\n",
      "1742 $F.  [para(1735(a,1),284(a,2)),unit_del(a,64)].\n",
      "\n",
      "============================== end of proof ==========================\n"
     ]
    }
   ],
   "source": [
    "#check Manichaeism\n",
    "goal = read_expr('all x.((World(x) -> all y.(Partof(y,x) | Confl(x, y))))')\n",
    "prover = Prover9Command(goal, assumptions = event_frame)\n",
    "prover.prove()\n",
    "print(prover.proof())"
   ]
  },
  {
   "cell_type": "markdown",
   "id": "a8f86595",
   "metadata": {},
   "source": [
    "### Classicality of conjunction"
   ]
  },
  {
   "cell_type": "code",
   "execution_count": null,
   "id": "eb9af3b0",
   "metadata": {},
   "outputs": [],
   "source": [
    "#check classicality of conjunction\n",
    "goal = read_expr(r'((exists x. (P(x) & Actual(x))) & (exists y. (Q(y) & Actual(y)))) <-> exists y exists z.(Actual(y) & Actual(z) & P(y) & Q(z) & Actual(Sum(y, z)))')\n",
    "prover = Prover9Command(goal, assumptions = event_frame)\n",
    "prover.prove()\n",
    "print(prover.proof())"
   ]
  },
  {
   "cell_type": "code",
   "execution_count": null,
   "id": "496392fc",
   "metadata": {},
   "outputs": [],
   "source": [
    "#check classicality of conjunction\n",
    "goal = read_expr(r'((exists x. (P(x) & Actual(x))) & (exists y. (Q(y) & Actual(y)))) <-> exists y exists z.(Actual(y) & Actual(z) & P(y) & Q(z) & Actual(Sum(y, z)))')\n",
    "mb = MaceCommand(goal, assumptions = event_frame)\n",
    "mb.build_model()"
   ]
  },
  {
   "cell_type": "markdown",
   "id": "637d17a0",
   "metadata": {},
   "source": [
    "### Classicality of disjunction"
   ]
  },
  {
   "cell_type": "code",
   "execution_count": null,
   "id": "bb0fe0f8",
   "metadata": {},
   "outputs": [],
   "source": [
    "#check classicality of disjunction\n",
    "goal = read_expr(r'(exists x. (Actual(x) & (P(x) | Q(x)))) <-> ((exists x. (Actual(x) & P(x))) & (exists y. (Actual(y) & Q(y))))')\n",
    "prover = Prover9Command(goal, assumptions = event_frame)\n",
    "prover.prove()\n",
    "print(prover.proof())"
   ]
  },
  {
   "cell_type": "markdown",
   "id": "151bf22d",
   "metadata": {},
   "source": [
    "### No Gaps"
   ]
  },
  {
   "cell_type": "code",
   "execution_count": 32,
   "id": "9c9defc4",
   "metadata": {},
   "outputs": [
    {
     "ename": "Prover9LimitExceededException",
     "evalue": "(MAX_SECONDS)",
     "output_type": "error",
     "traceback": [
      "\u001b[0;31m---------------------------------------------------------------------------\u001b[0m",
      "\u001b[0;31mProver9LimitExceededException\u001b[0m             Traceback (most recent call last)",
      "Input \u001b[0;32mIn [32]\u001b[0m, in \u001b[0;36m<cell line: 13>\u001b[0;34m()\u001b[0m\n\u001b[1;32m     11\u001b[0m goal \u001b[38;5;241m=\u001b[39m read_expr(\u001b[38;5;124m'\u001b[39m\u001b[38;5;124m(-exists x. (actual(x) & P(x))) <-> (exists y. (Actual(y) &\u001b[39m\u001b[38;5;124m'\u001b[39m\u001b[38;5;241m+\u001b[39mnegate(\u001b[38;5;124m'\u001b[39m\u001b[38;5;124my\u001b[39m\u001b[38;5;124m'\u001b[39m, \u001b[38;5;124m'\u001b[39m\u001b[38;5;124mP\u001b[39m\u001b[38;5;124m'\u001b[39m)\u001b[38;5;241m+\u001b[39m\u001b[38;5;124m'\u001b[39m\u001b[38;5;124m))\u001b[39m\u001b[38;5;124m'\u001b[39m)\n\u001b[1;32m     12\u001b[0m prover \u001b[38;5;241m=\u001b[39m Prover9Command(goal, assumptions \u001b[38;5;241m=\u001b[39m event_frame)\n\u001b[0;32m---> 13\u001b[0m \u001b[43mprover\u001b[49m\u001b[38;5;241;43m.\u001b[39;49m\u001b[43mprove\u001b[49m\u001b[43m(\u001b[49m\u001b[43m)\u001b[49m\n\u001b[1;32m     14\u001b[0m \u001b[38;5;28mprint\u001b[39m(prover\u001b[38;5;241m.\u001b[39mproof())\n",
      "File \u001b[0;32m~/opt/anaconda3/envs/negativeevents/lib/python3.10/site-packages/nltk/inference/api.py:285\u001b[0m, in \u001b[0;36mBaseProverCommand.prove\u001b[0;34m(self, verbose)\u001b[0m\n\u001b[1;32m    280\u001b[0m \u001b[38;5;124;03m\"\"\"\u001b[39;00m\n\u001b[1;32m    281\u001b[0m \u001b[38;5;124;03mPerform the actual proof.  Store the result to prevent unnecessary\u001b[39;00m\n\u001b[1;32m    282\u001b[0m \u001b[38;5;124;03mre-proving.\u001b[39;00m\n\u001b[1;32m    283\u001b[0m \u001b[38;5;124;03m\"\"\"\u001b[39;00m\n\u001b[1;32m    284\u001b[0m \u001b[38;5;28;01mif\u001b[39;00m \u001b[38;5;28mself\u001b[39m\u001b[38;5;241m.\u001b[39m_result \u001b[38;5;129;01mis\u001b[39;00m \u001b[38;5;28;01mNone\u001b[39;00m:\n\u001b[0;32m--> 285\u001b[0m     \u001b[38;5;28mself\u001b[39m\u001b[38;5;241m.\u001b[39m_result, \u001b[38;5;28mself\u001b[39m\u001b[38;5;241m.\u001b[39m_proof \u001b[38;5;241m=\u001b[39m \u001b[38;5;28;43mself\u001b[39;49m\u001b[38;5;241;43m.\u001b[39;49m\u001b[43m_prover\u001b[49m\u001b[38;5;241;43m.\u001b[39;49m\u001b[43m_prove\u001b[49m\u001b[43m(\u001b[49m\n\u001b[1;32m    286\u001b[0m \u001b[43m        \u001b[49m\u001b[38;5;28;43mself\u001b[39;49m\u001b[38;5;241;43m.\u001b[39;49m\u001b[43mgoal\u001b[49m\u001b[43m(\u001b[49m\u001b[43m)\u001b[49m\u001b[43m,\u001b[49m\u001b[43m \u001b[49m\u001b[38;5;28;43mself\u001b[39;49m\u001b[38;5;241;43m.\u001b[39;49m\u001b[43massumptions\u001b[49m\u001b[43m(\u001b[49m\u001b[43m)\u001b[49m\u001b[43m,\u001b[49m\u001b[43m \u001b[49m\u001b[43mverbose\u001b[49m\n\u001b[1;32m    287\u001b[0m \u001b[43m    \u001b[49m\u001b[43m)\u001b[49m\n\u001b[1;32m    288\u001b[0m \u001b[38;5;28;01mreturn\u001b[39;00m \u001b[38;5;28mself\u001b[39m\u001b[38;5;241m.\u001b[39m_result\n",
      "File \u001b[0;32m~/opt/anaconda3/envs/negativeevents/lib/python3.10/site-packages/nltk/inference/prover9.py:327\u001b[0m, in \u001b[0;36mProver9._prove\u001b[0;34m(self, goal, assumptions, verbose)\u001b[0m\n\u001b[1;32m    324\u001b[0m \u001b[38;5;28;01mif\u001b[39;00m \u001b[38;5;129;01mnot\u001b[39;00m assumptions:\n\u001b[1;32m    325\u001b[0m     assumptions \u001b[38;5;241m=\u001b[39m []\n\u001b[0;32m--> 327\u001b[0m stdout, returncode \u001b[38;5;241m=\u001b[39m \u001b[38;5;28;43mself\u001b[39;49m\u001b[38;5;241;43m.\u001b[39;49m\u001b[43m_call_prover9\u001b[49m\u001b[43m(\u001b[49m\n\u001b[1;32m    328\u001b[0m \u001b[43m    \u001b[49m\u001b[38;5;28;43mself\u001b[39;49m\u001b[38;5;241;43m.\u001b[39;49m\u001b[43mprover9_input\u001b[49m\u001b[43m(\u001b[49m\u001b[43mgoal\u001b[49m\u001b[43m,\u001b[49m\u001b[43m \u001b[49m\u001b[43massumptions\u001b[49m\u001b[43m)\u001b[49m\u001b[43m,\u001b[49m\u001b[43m \u001b[49m\u001b[43mverbose\u001b[49m\u001b[38;5;241;43m=\u001b[39;49m\u001b[43mverbose\u001b[49m\n\u001b[1;32m    329\u001b[0m \u001b[43m\u001b[49m\u001b[43m)\u001b[49m\n\u001b[1;32m    330\u001b[0m \u001b[38;5;28;01mreturn\u001b[39;00m (returncode \u001b[38;5;241m==\u001b[39m \u001b[38;5;241m0\u001b[39m, stdout)\n",
      "File \u001b[0;32m~/opt/anaconda3/envs/negativeevents/lib/python3.10/site-packages/nltk/inference/prover9.py:368\u001b[0m, in \u001b[0;36mProver9._call_prover9\u001b[0;34m(self, input_str, args, verbose)\u001b[0m\n\u001b[1;32m    366\u001b[0m     errormsg \u001b[38;5;241m=\u001b[39m \u001b[38;5;28;01mNone\u001b[39;00m\n\u001b[1;32m    367\u001b[0m \u001b[38;5;28;01mif\u001b[39;00m returncode \u001b[38;5;129;01min\u001b[39;00m [\u001b[38;5;241m3\u001b[39m, \u001b[38;5;241m4\u001b[39m, \u001b[38;5;241m5\u001b[39m, \u001b[38;5;241m6\u001b[39m]:\n\u001b[0;32m--> 368\u001b[0m     \u001b[38;5;28;01mraise\u001b[39;00m Prover9LimitExceededException(returncode, errormsg)\n\u001b[1;32m    369\u001b[0m \u001b[38;5;28;01melse\u001b[39;00m:\n\u001b[1;32m    370\u001b[0m     \u001b[38;5;28;01mraise\u001b[39;00m Prover9FatalException(returncode, errormsg)\n",
      "\u001b[0;31mProver9LimitExceededException\u001b[0m: (MAX_SECONDS)"
     ]
    }
   ],
   "source": [
    "#define negating a set\n",
    "#x negates P iff there is a function h such that x = ⊔{h(xi) ∣ xi ∈ P} and for all events \n",
    "# x1 ∈ P, h(x1) excludes some part of x1.\n",
    "# \n",
    "# x negates P iff every x1 in P has a part y that excludes some part x2 of x and\n",
    "# every part x3 of x\n",
    "def negate(x, P):\n",
    "    result = ('(all x1. (P(x1) -> (exists x2. Partof(x2,x) & exists y. Partof(y,x1) & Excl(x2, y)))) \n",
    "              & (all x3. ((Partof(x3,x) & (-exists x4. (Partof(x4,x) & Partof(x4,x3)))) -> (exists x5. (P(x5) & Excl(x5, x3))))) & all x6 all x7. ((x6 != x7) -> (exists x8 exists x9.(Partof(x8,x) & Partof(x9,x) & x8!=x9 & Excl(x6, x8) & Excl(x7, x9))))')\n",
    "    return result\n",
    "\n",
    "#check no gaps\n",
    "goal = read_expr('(-exists x. (actual(x) & P(x))) <-> (exists y. (Actual(y) &'+negate('y', 'P')+'))')\n",
    "prover = Prover9Command(goal, assumptions = event_frame)\n",
    "prover.prove()\n",
    "print(prover.proof())"
   ]
  },
  {
   "cell_type": "markdown",
   "id": "e60acbc6",
   "metadata": {},
   "source": [
    "### No Gluts"
   ]
  },
  {
   "cell_type": "code",
   "execution_count": null,
   "id": "eccdc40f",
   "metadata": {},
   "outputs": [],
   "source": [
    "#check no gluts\n",
    "goal = read_expr('-((exists x. Actual(x) & P(x)) & (exists y. Actual(y) &'+negate('y', 'P')+'))')\n",
    "prover = Prover9Command(goal, assumptions = event_frame)\n",
    "prover.prove()\n",
    "print(prover.proof())"
   ]
  },
  {
   "cell_type": "code",
   "execution_count": null,
   "id": "05df686a",
   "metadata": {},
   "outputs": [],
   "source": []
  }
 ],
 "metadata": {
  "kernelspec": {
   "display_name": "Python 3 (ipykernel)",
   "language": "python",
   "name": "python3"
  },
  "language_info": {
   "codemirror_mode": {
    "name": "ipython",
    "version": 3
   },
   "file_extension": ".py",
   "mimetype": "text/x-python",
   "name": "python",
   "nbconvert_exporter": "python",
   "pygments_lexer": "ipython3",
   "version": "3.10.4"
  }
 },
 "nbformat": 4,
 "nbformat_minor": 5
}
