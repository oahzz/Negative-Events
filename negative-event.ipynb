{
 "cells": [
  {
   "cell_type": "markdown",
   "id": "80b8c50d",
   "metadata": {},
   "source": [
    "This notebook is a supplement to the paper \"Negative events - Logical and philosophical aspects\"[link] by Lucas Champollion[link] and Timothée Bernard[link].\n",
    "\n",
    "The notebook uses the [Natural Language Toolkit](https://www.nltk.org)'s interface to [Prover9/Mace4](https://www.cs.unm.edu/~mccune/prover9/) to investigate the derivability of conclusions from the logical principles in the paper, understood as algebraic equations.\n",
    "\n",
    "## Outline"
   ]
  },
  {
   "cell_type": "code",
   "execution_count": 1,
   "id": "2bdeee3b",
   "metadata": {},
   "outputs": [],
   "source": [
    "from nltk.test.inference_fixt import setup_module\n",
    "\n",
    "setup_module()\n",
    "\n",
    "from nltk import *\n",
    "\n",
    "from nltk.sem.logic import *\n",
    "logic._counter._value = 0\n",
    "\n",
    "from nltk.sem import Expression\n",
    "read_expr = Expression.fromstring"
   ]
  },
  {
   "cell_type": "code",
   "execution_count": 2,
   "id": "4d11f506",
   "metadata": {},
   "outputs": [],
   "source": [
    "from nltk.inference.prover9 import Prover9Exception\n",
    "import traceback\n",
    "# looks for a proof from just the premises provided\n",
    "def try_to_prove_from(statement, premises_list, timeout_in_seconds=60):\n",
    "    goal = statement\n",
    "    prover = Prover9Command(goal, assumptions = premises_list, timeout = timeout_in_seconds)\n",
    "    try:\n",
    "        prover.prove()\n",
    "        print(prover.proof())\n",
    "    except Prover9Exception as e:\n",
    "        traceback.print_exc()\n",
    "        #print(\"Exceeded timeout of\", timeout_in_seconds, \"sec\")\n",
    "\n",
    "# looks for a proof based on all axioms in event_frame except for those in the exclusion list \n",
    "def try_to_prove_without(statement, exclusion_list, timeout_in_seconds=60):\n",
    "    goal = statement\n",
    "    prover = Prover9Command(goal, assumptions = [ax for ax in event_frame if not ((ax == statement) or ax in exclusion_list)], timeout = timeout_in_seconds)\n",
    "    try:\n",
    "        prover.prove()\n",
    "        print(prover.proof())\n",
    "    except Prover9Exception as e:\n",
    "        traceback.print_exc()\n",
    "        #print(\"Exceeded timeout of\", timeout_in_seconds, \"sec\")\n",
    "\n",
    "# looks for a proof based on all axioms in event_frame\n",
    "def try_to_prove(statement, timeout_in_seconds=60):\n",
    "    try_to_prove_without(statement,[], timeout_in_seconds)\n",
    "\n",
    "# looks for a counterexample using Mace4 in which all the premises are true but the statement is false\n",
    "def try_to_find_counterexample_from(statement, premise_list):\n",
    "    goal = statement\n",
    "    mb = MaceCommand(goal, assumptions = premise_list)\n",
    "    print(mb.build_model())\n",
    "    print(mb.model(format='cooked'))\n",
    "\n",
    "# looks for a counterexample using Mace4 in which the statement is false and all the premises in\n",
    "# event_frame are true with the possible exception of those in exclusion_list\n",
    "def try_to_find_counterexample_without(statement, exclusion_list = []):\n",
    "    goal = statement\n",
    "    mb = MaceCommand(goal, assumptions = [ax for ax in event_frame if not ((ax == statement) or ax in exclusion_list)])\n",
    "    print(mb.build_model())\n",
    "    print(mb.model(format='cooked'))\n",
    "\n",
    "# looks for a counterexample using Mace4 in which the statement is false and all the premises in\n",
    "# event_frame-exclusion_list are true\n",
    "def try_to_find_counterexample(statement):\n",
    "    try_to_find_counterexample_without(statement, [])"
   ]
  },
  {
   "cell_type": "markdown",
   "id": "93386a00",
   "metadata": {},
   "source": [
    "## Axioms"
   ]
  },
  {
   "cell_type": "markdown",
   "id": "015bc296",
   "metadata": {},
   "source": [
    "### Lattice axioms"
   ]
  },
  {
   "cell_type": "code",
   "execution_count": 3,
   "id": "cbd9c6cd",
   "metadata": {},
   "outputs": [],
   "source": [
    "part_def = read_expr('Partof(x,y) <-> Product(x, y) = x')\n",
    "proper_part_def = read_expr('Properpartof(x,y) <-> Partof(x,y) & -(x=y)')\n",
    "\n",
    "sum_id = read_expr('Sum(x,x) = x')\n",
    "product_id = read_expr('Product(x,x) = x')\n",
    "\n",
    "sum_comm = read_expr('Sum(x,y) = Sum(y,x)')\n",
    "product_comm = read_expr('Product(x,y) = Product(y,x)')\n",
    "\n",
    "sum_assoc = read_expr('Sum(x,Sum(y,z)) = Sum(Sum(x,y),z)')\n",
    "product_assoc = read_expr('Product(x,Product(y,z)) = Product(Product(x,y),z)')\n",
    "\n",
    "sum_absorp = read_expr('Sum(x,Product(x,y)) = x')\n",
    "product_absorp = read_expr('Product(x,Sum(x,y)) = x')\n",
    "\n",
    "lattice = [part_def, proper_part_def, sum_id, product_id, sum_comm, product_comm, sum_assoc, product_assoc, sum_absorp, product_absorp]"
   ]
  },
  {
   "cell_type": "code",
   "execution_count": 4,
   "id": "b672e58b",
   "metadata": {},
   "outputs": [
    {
     "name": "stdout",
     "output_type": "stream",
     "text": [
      "============================== prooftrans ============================\n",
      "Prover9 (64) version 2009-11A, November 2009.\n",
      "Process 67289 was started by champollion on standingdesk.home,\n",
      "Thu Jul 14 17:01:00 2022\n",
      "The command was \"prover9\".\n",
      "============================== end of head ===========================\n",
      "\n",
      "============================== end of input ==========================\n",
      "\n",
      "============================== PROOF =================================\n",
      "\n",
      "% -------- Comments from original proof --------\n",
      "% Proof 1 at 0.00 (+ 0.00) seconds.\n",
      "% Length of proof is 6.\n",
      "% Level of proof is 2.\n",
      "% Maximum clause weight is 7.000.\n",
      "% Given clauses 2.\n",
      "\n",
      "\n",
      "1 Product(x,x) = x.  [goal].\n",
      "2 Sum(x,Product(x,y)) = x.  [assumption].\n",
      "3 Product(x,Sum(x,y)) = x.  [assumption].\n",
      "4 Product(c1,c1) != c1.  [deny(1)].\n",
      "6 Product(x,x) = x.  [para(2(a,1),3(a,1,2))].\n",
      "7 $F.  [resolve(6,a,4,a)].\n",
      "\n",
      "============================== end of proof ==========================\n"
     ]
    }
   ],
   "source": [
    "# idempotence of sum and product follow from absorption\n",
    "try_to_prove_from(product_id, [sum_absorp,  product_absorp])"
   ]
  },
  {
   "cell_type": "code",
   "execution_count": 5,
   "id": "4e897dbf",
   "metadata": {},
   "outputs": [
    {
     "name": "stdout",
     "output_type": "stream",
     "text": [
      "============================== prooftrans ============================\n",
      "Prover9 (64) version 2009-11A, November 2009.\n",
      "Process 67291 was started by champollion on standingdesk.home,\n",
      "Thu Jul 14 17:01:00 2022\n",
      "The command was \"prover9\".\n",
      "============================== end of head ===========================\n",
      "\n",
      "============================== end of input ==========================\n",
      "\n",
      "============================== PROOF =================================\n",
      "\n",
      "% -------- Comments from original proof --------\n",
      "% Proof 1 at 0.00 (+ 0.00) seconds.\n",
      "% Length of proof is 6.\n",
      "% Level of proof is 2.\n",
      "% Maximum clause weight is 7.000.\n",
      "% Given clauses 2.\n",
      "\n",
      "\n",
      "1 Sum(x,x) = x.  [goal].\n",
      "2 Sum(x,Product(x,y)) = x.  [assumption].\n",
      "3 Product(x,Sum(x,y)) = x.  [assumption].\n",
      "4 Sum(c1,c1) != c1.  [deny(1)].\n",
      "5 Sum(x,x) = x.  [para(3(a,1),2(a,1,2))].\n",
      "6 $F.  [resolve(5,a,4,a)].\n",
      "\n",
      "============================== end of proof ==========================\n"
     ]
    }
   ],
   "source": [
    "try_to_prove_from(sum_id, [sum_absorp,product_absorp])"
   ]
  },
  {
   "cell_type": "code",
   "execution_count": 6,
   "id": "5d87fd1c",
   "metadata": {},
   "outputs": [
    {
     "name": "stdout",
     "output_type": "stream",
     "text": [
      "============================== prooftrans ============================\n",
      "Prover9 (64) version 2009-11A, November 2009.\n",
      "Process 67293 was started by champollion on standingdesk.home,\n",
      "Thu Jul 14 17:01:00 2022\n",
      "The command was \"prover9\".\n",
      "============================== end of head ===========================\n",
      "\n",
      "============================== end of input ==========================\n",
      "\n",
      "============================== PROOF =================================\n",
      "\n",
      "% -------- Comments from original proof --------\n",
      "% Proof 1 at 0.01 (+ 0.00) seconds.\n",
      "% Length of proof is 23.\n",
      "% Level of proof is 9.\n",
      "% Maximum clause weight is 11.000.\n",
      "% Given clauses 34.\n",
      "\n",
      "\n",
      "1 Partof(x,y) <-> Product(x,y) = x.  [assumption].\n",
      "3 Partof(x,y) & Partof(y,z) -> Partof(x,z).  [goal].\n",
      "7 -Partof(x,y) | Product(x,y) = x.  [clausify(1)].\n",
      "8 Partof(x,y) | Product(x,y) != x.  [clausify(1)].\n",
      "11 Sum(x,y) = Sum(y,x).  [assumption].\n",
      "12 Product(x,y) = Product(y,x).  [assumption].\n",
      "15 Product(x,Product(y,z)) = Product(Product(x,y),z).  [assumption].\n",
      "16 Product(Product(x,y),z) = Product(x,Product(y,z)).  [copy(15),flip(a)].\n",
      "17 Sum(x,Product(x,y)) = x.  [assumption].\n",
      "18 Product(x,Sum(x,y)) = x.  [assumption].\n",
      "19 Partof(c1,c2).  [deny(3)].\n",
      "20 Partof(c2,c3).  [deny(3)].\n",
      "21 -Partof(c1,c3).  [deny(3)].\n",
      "39 Partof(x,Sum(x,y)).  [hyper(8,b,18,a)].\n",
      "44 Product(c1,c2) = c1.  [hyper(7,a,19,a)].\n",
      "45 Product(c2,c3) = c2.  [hyper(7,a,20,a)].\n",
      "47 Partof(x,Sum(y,x)).  [para(11(a,1),39(a,2))].\n",
      "54 Partof(Product(x,y),x).  [para(17(a,1),47(a,2))].\n",
      "59 Partof(Product(x,y),y).  [para(12(a,1),54(a,1))].\n",
      "61 Partof(Product(x,Product(y,z)),z).  [para(16(a,1),59(a,1))].\n",
      "88 Partof(Product(x,c2),c3).  [para(45(a,1),61(a,1,2))].\n",
      "93 Partof(c1,c3).  [para(44(a,1),88(a,1))].\n",
      "94 $F.  [resolve(93,a,21,a)].\n",
      "\n",
      "============================== end of proof ==========================\n"
     ]
    }
   ],
   "source": [
    "# Proof that parthood is transitive\n",
    "transitivity_of_parthood = read_expr('Partof(x,y) & Partof(y,z) -> Partof(x,z)')\n",
    "try_to_prove_from(transitivity_of_parthood, lattice)"
   ]
  },
  {
   "cell_type": "code",
   "execution_count": 7,
   "id": "1074a7c1",
   "metadata": {},
   "outputs": [],
   "source": [
    "def upper_bound(x,P):\n",
    "    return '(all x1.('+P+'(x1) -> Partof(x1,'+x+')))'\n",
    "\n",
    "def least_upper_bound(x,P):\n",
    "    return upper_bound(x,P) + ' & all y1.('+upper_bound('y1','P')+' -> Partof('+x+',y1))'\n",
    "\n",
    "def lower_bound(x,P):\n",
    "    return '(all x1.('+P+'(x1) -> Partof('+x+',x1)))'\n",
    "\n",
    "def greatest_lower_bound(x,P):\n",
    "    return lower_bound(x,P) + ' & all y1.('+lower_bound('y1','P')+' -> Partof(y1,'+x+'))'"
   ]
  },
  {
   "cell_type": "code",
   "execution_count": 8,
   "id": "c6215a89",
   "metadata": {},
   "outputs": [
    {
     "name": "stdout",
     "output_type": "stream",
     "text": [
      "============================== prooftrans ============================\n",
      "Prover9 (64) version 2009-11A, November 2009.\n",
      "Process 67295 was started by champollion on standingdesk.home,\n",
      "Thu Jul 14 17:01:00 2022\n",
      "The command was \"prover9\".\n",
      "============================== end of head ===========================\n",
      "\n",
      "============================== end of input ==========================\n",
      "\n",
      "============================== PROOF =================================\n",
      "\n",
      "% -------- Comments from original proof --------\n",
      "% Proof 1 at 0.00 (+ 0.00) seconds.\n",
      "% Length of proof is 17.\n",
      "% Level of proof is 5.\n",
      "% Maximum clause weight is 8.000.\n",
      "% Given clauses 20.\n",
      "\n",
      "\n",
      "1 Partof(x,y) <-> Product(x,y) = x.  [assumption].\n",
      "3 (all x (P(x) -> Partof(x,y))) & (all z ((all x (P(x) -> Partof(x,z))) -> Partof(y,z))) & (all x (P(x) -> Partof(x,u))) & (all z ((all x (P(x) -> Partof(x,z))) -> Partof(u,z))) -> y = u.  [goal].\n",
      "7 P(f1(x)) | Partof(c1,x).  [deny(3)].\n",
      "8 -P(x) | Partof(x,c1).  [deny(3)].\n",
      "9 -P(x) | Partof(x,c2).  [deny(3)].\n",
      "10 P(f2(x)) | Partof(c2,x).  [deny(3)].\n",
      "11 -Partof(x,y) | Product(x,y) = x.  [clausify(1)].\n",
      "16 Product(x,y) = Product(y,x).  [assumption].\n",
      "23 -Partof(f1(x),x) | Partof(c1,x).  [deny(3)].\n",
      "24 -Partof(f2(x),x) | Partof(c2,x).  [deny(3)].\n",
      "25 c2 != c1.  [deny(3)].\n",
      "27 Partof(f1(x),c2) | Partof(c1,x).  [resolve(9,a,7,a)].\n",
      "28 Partof(c2,x) | Partof(f2(x),c1).  [resolve(10,a,8,a)].\n",
      "53 Partof(c1,c2).  [resolve(27,a,23,a),merge(b)].\n",
      "55 Partof(c2,c1).  [resolve(28,b,24,a),merge(b)].\n",
      "58 Product(c1,c2) = c1.  [resolve(53,a,11,a)].\n",
      "59 $F.  [resolve(55,a,11,a),rewrite([16(3),58(3)]),flip(a),unit_del(a,25)].\n",
      "\n",
      "============================== end of proof ==========================\n"
     ]
    }
   ],
   "source": [
    "# Proof that sums are unique wherever they exist\n",
    "unique_sum = read_expr('(('+least_upper_bound('x','P')+' & '+least_upper_bound('y','P')+') -> x=y)')\n",
    "try_to_prove_from(unique_sum,lattice)"
   ]
  },
  {
   "cell_type": "code",
   "execution_count": 9,
   "id": "18b10c28",
   "metadata": {},
   "outputs": [
    {
     "name": "stdout",
     "output_type": "stream",
     "text": [
      "============================== prooftrans ============================\n",
      "Prover9 (64) version 2009-11A, November 2009.\n",
      "Process 67297 was started by champollion on standingdesk.home,\n",
      "Thu Jul 14 17:01:00 2022\n",
      "The command was \"prover9\".\n",
      "============================== end of head ===========================\n",
      "\n",
      "============================== end of input ==========================\n",
      "\n",
      "============================== PROOF =================================\n",
      "\n",
      "% -------- Comments from original proof --------\n",
      "% Proof 1 at 0.00 (+ 0.00) seconds.\n",
      "% Length of proof is 17.\n",
      "% Level of proof is 5.\n",
      "% Maximum clause weight is 8.000.\n",
      "% Given clauses 20.\n",
      "\n",
      "\n",
      "1 Partof(x,y) <-> Product(x,y) = x.  [assumption].\n",
      "3 (all x (P(x) -> Partof(y,x))) & (all z ((all x (P(x) -> Partof(z,x))) -> Partof(z,y))) & (all x (P(x) -> Partof(u,x))) & (all z ((all x (P(x) -> Partof(z,x))) -> Partof(z,u))) -> y = u.  [goal].\n",
      "7 P(f1(x)) | Partof(x,c1).  [deny(3)].\n",
      "8 -P(x) | Partof(c1,x).  [deny(3)].\n",
      "9 -P(x) | Partof(c2,x).  [deny(3)].\n",
      "10 P(f2(x)) | Partof(x,c2).  [deny(3)].\n",
      "11 -Partof(x,y) | Product(x,y) = x.  [clausify(1)].\n",
      "16 Product(x,y) = Product(y,x).  [assumption].\n",
      "23 -Partof(x,f1(x)) | Partof(x,c1).  [deny(3)].\n",
      "24 -Partof(x,f2(x)) | Partof(x,c2).  [deny(3)].\n",
      "25 c2 != c1.  [deny(3)].\n",
      "27 Partof(c2,f1(x)) | Partof(x,c1).  [resolve(9,a,7,a)].\n",
      "28 Partof(x,c2) | Partof(c1,f2(x)).  [resolve(10,a,8,a)].\n",
      "54 Partof(c2,c1).  [resolve(27,a,23,a),merge(b)].\n",
      "58 Partof(c1,c2).  [resolve(28,b,24,a),merge(b)].\n",
      "62 Product(c1,c2) = c2.  [resolve(54,a,11,a),rewrite([16(3)])].\n",
      "63 $F.  [resolve(58,a,11,a),rewrite([62(3)]),unit_del(a,25)].\n",
      "\n",
      "============================== end of proof ==========================\n"
     ]
    }
   ],
   "source": [
    "# Proof that products are unique wherever they exist\n",
    "unique_product = read_expr('(('+greatest_lower_bound('x','P')+' & '+greatest_lower_bound('y','P')+') -> x=y)')\n",
    "try_to_prove_from(unique_product,lattice)"
   ]
  },
  {
   "cell_type": "markdown",
   "id": "4ebee6d2",
   "metadata": {},
   "source": [
    "### Bounded lattice axioms"
   ]
  },
  {
   "cell_type": "code",
   "execution_count": 10,
   "id": "2acaa420",
   "metadata": {},
   "outputs": [],
   "source": [
    "bot = read_expr('Sum(x, Bot) = x')\n",
    "top = read_expr('Product(x, Top) = x')\n",
    "\n",
    "bounded = [bot, top]\n",
    "\n",
    "bounded_lattice = bounded + lattice"
   ]
  },
  {
   "cell_type": "markdown",
   "id": "248541f5",
   "metadata": {},
   "source": [
    "### Distributive lattice axioms"
   ]
  },
  {
   "cell_type": "code",
   "execution_count": 11,
   "id": "04559264",
   "metadata": {},
   "outputs": [],
   "source": [
    "dist_stmt = read_expr('Product(x,Sum(y,z)) = Sum(Product(x,y), Product(x,z))')\n",
    "dist = [dist_stmt]\n",
    "\n",
    "dist_lattice = dist + lattice\n",
    "bounded_dist_lattice = bounded + dist + lattice"
   ]
  },
  {
   "cell_type": "code",
   "execution_count": 12,
   "id": "90e1b8e1",
   "metadata": {},
   "outputs": [
    {
     "name": "stdout",
     "output_type": "stream",
     "text": [
      "============================== prooftrans ============================\n",
      "Prover9 (64) version 2009-11A, November 2009.\n",
      "Process 67299 was started by champollion on standingdesk.home,\n",
      "Thu Jul 14 17:01:00 2022\n",
      "The command was \"prover9\".\n",
      "============================== end of head ===========================\n",
      "\n",
      "============================== end of input ==========================\n",
      "\n",
      "============================== PROOF =================================\n",
      "\n",
      "% -------- Comments from original proof --------\n",
      "% Proof 1 at 0.02 (+ 0.00) seconds.\n",
      "% Length of proof is 16.\n",
      "% Level of proof is 5.\n",
      "% Maximum clause weight is 13.000.\n",
      "% Given clauses 50.\n",
      "\n",
      "\n",
      "3 Sum(x,Product(y,z)) = Product(Sum(x,y),Sum(x,z)).  [goal].\n",
      "11 Product(x,Sum(y,z)) = Sum(Product(x,y),Product(x,z)).  [assumption].\n",
      "12 Sum(Product(x,y),Product(x,z)) = Product(x,Sum(y,z)).  [copy(11),flip(a)].\n",
      "16 Product(x,y) = Product(y,x).  [assumption].\n",
      "17 Sum(x,Sum(y,z)) = Sum(Sum(x,y),z).  [assumption].\n",
      "18 Sum(Sum(x,y),z) = Sum(x,Sum(y,z)).  [copy(17),flip(a)].\n",
      "21 Sum(x,Product(x,y)) = x.  [assumption].\n",
      "22 Product(x,Sum(x,y)) = x.  [assumption].\n",
      "23 Product(Sum(c1,c2),Sum(c1,c3)) != Sum(c1,Product(c2,c3)).  [deny(3)].\n",
      "24 Sum(c1,Product(c2,c3)) != Product(Sum(c1,c2),Sum(c1,c3)).  [copy(23),flip(a)].\n",
      "26 Sum(Product(x,y),Product(y,z)) = Product(y,Sum(x,z)).  [para(16(a,1),12(a,1,1))].\n",
      "40 Sum(x,Sum(Product(x,y),z)) = Sum(x,z).  [para(21(a,1),18(a,1,1)),flip(a)].\n",
      "61 Sum(Product(x,y),Product(z,y)) = Product(y,Sum(x,z)).  [para(16(a,1),26(a,1,2))].\n",
      "115 Sum(x,Product(y,Sum(x,z))) = Sum(x,Product(y,z)).  [para(26(a,1),40(a,1,2))].\n",
      "347 Sum(x,Product(y,z)) = Product(Sum(x,z),Sum(x,y)).  [para(22(a,1),61(a,1,1)),rewrite([115(3)])].\n",
      "396 $F.  [back_rewrite(24),rewrite([347(5),16(7)]),xx(a)].\n",
      "\n",
      "============================== end of proof ==========================\n"
     ]
    }
   ],
   "source": [
    "#The other distributive lattice statement holds as a theorem\n",
    "dist2 = read_expr('Sum(x,Product(y,z)) = Product(Sum(x,y), Sum(x,z))')\n",
    "try_to_prove_from(dist2,dist_lattice)"
   ]
  },
  {
   "cell_type": "markdown",
   "id": "824d02a1",
   "metadata": {},
   "source": [
    "### Complete lattice axioms"
   ]
  },
  {
   "cell_type": "code",
   "execution_count": 13,
   "id": "e6e3d1a2",
   "metadata": {},
   "outputs": [],
   "source": [
    "exist_sum = read_expr('all P.(exists z.'+least_upper_bound('z','P')+')')\n",
    "exist_product = read_expr('all Q.(exists z.'+greatest_lower_bound('z','Q')+')')\n",
    "\n",
    "# this only guarantees existence and not uniqueness, \n",
    "# but as we have seen above, sums and products are unique wherever they exist\n",
    "\n",
    "complete = [exist_sum, exist_product]\n",
    "\n",
    "complete_lattice = complete + lattice\n",
    "complete_dist_lattice = complete + dist + lattice"
   ]
  },
  {
   "cell_type": "markdown",
   "id": "ef0250c5",
   "metadata": {},
   "source": [
    "### Boolean algebra axioms"
   ]
  },
  {
   "cell_type": "code",
   "execution_count": 14,
   "id": "a1d2fb32",
   "metadata": {},
   "outputs": [
    {
     "name": "stdout",
     "output_type": "stream",
     "text": [
      "True\n",
      "% number = 1\n",
      "% seconds = 0\n",
      "\n",
      "% Interpretation of size 2\n",
      "\n",
      "Bot = 0.\n",
      "\n",
      "Top = 1.\n",
      "\n",
      "c1 = 1.\n",
      "\n",
      "c3 = 0.\n",
      "\n",
      "f1(0) = 0.\n",
      "f1(1) = 0.\n",
      "\n",
      "Product(0,0) = 0.\n",
      "Product(0,1) = 0.\n",
      "Product(1,0) = 0.\n",
      "Product(1,1) = 1.\n",
      "\n",
      "Sum(0,0) = 0.\n",
      "Sum(0,1) = 1.\n",
      "Sum(1,0) = 1.\n",
      "Sum(1,1) = 1.\n",
      "\n",
      "- P(0).\n",
      "- P(1).\n",
      "\n",
      "  Partof(0,0).\n",
      "  Partof(0,1).\n",
      "- Partof(1,0).\n",
      "  Partof(1,1).\n",
      "\n",
      "- Properpartof(0,0).\n",
      "  Properpartof(0,1).\n",
      "- Properpartof(1,0).\n",
      "- Properpartof(1,1).\n",
      "\n"
     ]
    }
   ],
   "source": [
    "# Completeness does not already follow from what we had before\n",
    "try_to_find_counterexample_from(exist_sum,bounded_dist_lattice)"
   ]
  },
  {
   "cell_type": "code",
   "execution_count": 22,
   "id": "45f30b0a",
   "metadata": {},
   "outputs": [],
   "source": [
    "complemented_stmt = read_expr('all x.(exists y. (Product(x, y) = Bot & Sum(x, y) = Top))')\n",
    "complemented = [complemented_stmt]\n",
    "\n",
    "#sectional complement\n",
    "# We call the lattice L sectionally complemented if it has a zero and \n",
    "# for all x ≤ y ∈ L, there exists an element z ∈ L satisfying x ∨ z = y and x ∧ z = 0.\n",
    "sec_compl = read_expr('all x. (all y. (Partof(x,y) -> exists z. (Sum(x, z) = y & Product(x, z) = Bot)))')\n",
    "\n",
    "boolean_lattice = complemented + dist + lattice\n",
    "boolean_algebra = boolean_lattice\n",
    "\n",
    "complete_boolean_lattice = complete + boolean_lattice\n",
    "complete_boolean_algebra = complete_boolean_lattice"
   ]
  },
  {
   "cell_type": "code",
   "execution_count": 23,
   "id": "7fa458f5",
   "metadata": {},
   "outputs": [
    {
     "name": "stdout",
     "output_type": "stream",
     "text": [
      "============================== prooftrans ============================\n",
      "Prover9 (64) version 2009-11A, November 2009.\n",
      "Process 67783 was started by champollion on standingdesk.home,\n",
      "Thu Jul 14 17:15:14 2022\n",
      "The command was \"prover9\".\n",
      "============================== end of head ===========================\n",
      "\n",
      "============================== end of input ==========================\n",
      "\n",
      "============================== PROOF =================================\n",
      "\n",
      "% -------- Comments from original proof --------\n",
      "% Proof 1 at 0.01 (+ 0.00) seconds.\n",
      "% Length of proof is 28.\n",
      "% Level of proof is 5.\n",
      "% Maximum clause weight is 15.000.\n",
      "% Given clauses 87.\n",
      "\n",
      "\n",
      "1 (all x exists y (Product(x,y) = Bot & Sum(x,y) = Top)).  [assumption].\n",
      "2 Partof(x,y) <-> Product(x,y) = x.  [assumption].\n",
      "4 (all x all y (Partof(x,y) -> (exists z (Sum(x,z) = y & Product(x,z) = Bot)))).  [goal].\n",
      "6 -Partof(x,y) | Product(x,y) = x.  [clausify(2)].\n",
      "9 Partof(c1,c2).  [deny(4)].\n",
      "14 Product(x,f1(x)) = Bot.  [clausify(1)].\n",
      "15 Sum(x,f1(x)) = Top.  [clausify(1)].\n",
      "16 Product(x,Sum(y,z)) = Sum(Product(x,y),Product(x,z)).  [assumption].\n",
      "17 Sum(Product(x,y),Product(x,z)) = Product(x,Sum(y,z)).  [copy(16),flip(a)].\n",
      "20 Sum(x,y) = Sum(y,x).  [assumption].\n",
      "21 Product(x,y) = Product(y,x).  [assumption].\n",
      "24 Product(x,Product(y,z)) = Product(Product(x,y),z).  [assumption].\n",
      "25 Product(Product(x,y),z) = Product(x,Product(y,z)).  [copy(24),flip(a)].\n",
      "26 Sum(x,Product(x,y)) = x.  [assumption].\n",
      "27 Product(x,Sum(x,y)) = x.  [assumption].\n",
      "28 Sum(c1,x) != c2 | Product(c1,x) != Bot.  [deny(4)].\n",
      "29 Product(c1,c2) = c1.  [resolve(9,a,6,a)].\n",
      "34 Sum(Product(x,y),Product(y,z)) = Product(y,Sum(x,z)).  [para(21(a,1),17(a,1,1))].\n",
      "44 Product(x,Product(y,f1(Product(x,y)))) = Bot.  [para(25(a,1),14(a,1))].\n",
      "52 Sum(x,Product(y,x)) = x.  [para(21(a,1),26(a,1,2))].\n",
      "55 Product(x,Top) = x.  [para(15(a,1),27(a,1,2))].\n",
      "62 Sum(x,c1) != c2 | Product(c1,x) != Bot.  [para(20(a,1),28(a,1))].\n",
      "80 Product(Top,x) = x.  [para(55(a,1),21(a,1)),flip(a)].\n",
      "105 Sum(x,Product(Sum(x,y),z)) = Product(Sum(x,y),Sum(x,z)).  [para(27(a,1),34(a,1,1))].\n",
      "116 Sum(c1,c2) = c2.  [para(29(a,1),52(a,1,2)),rewrite([20(3)])].\n",
      "286 Sum(c1,Product(x,f1(Product(c1,x)))) != c2.  [ur(62,b,44,a),rewrite([20(6)])].\n",
      "331 Sum(c1,x) != c2.  [para(27(a,1),286(a,1,2,2,1)),rewrite([105(7),15(6),21(4),80(4)])].\n",
      "332 $F.  [resolve(331,a,116,a)].\n",
      "\n",
      "============================== end of proof ==========================\n"
     ]
    }
   ],
   "source": [
    "# Every boolean lattice is sectionally complemented\n",
    "try_to_prove_from(sec_compl, boolean_lattice)"
   ]
  },
  {
   "cell_type": "code",
   "execution_count": 24,
   "id": "42f68855",
   "metadata": {},
   "outputs": [
    {
     "name": "stdout",
     "output_type": "stream",
     "text": [
      "============================== prooftrans ============================\n",
      "Prover9 (64) version 2009-11A, November 2009.\n",
      "Process 67786 was started by champollion on standingdesk.home,\n",
      "Thu Jul 14 17:15:16 2022\n",
      "The command was \"prover9\".\n",
      "============================== end of head ===========================\n",
      "\n",
      "============================== end of input ==========================\n",
      "\n",
      "============================== PROOF =================================\n",
      "\n",
      "% -------- Comments from original proof --------\n",
      "% Proof 1 at 0.02 (+ 0.00) seconds.\n",
      "% Length of proof is 28.\n",
      "% Level of proof is 5.\n",
      "% Maximum clause weight is 15.000.\n",
      "% Given clauses 87.\n",
      "\n",
      "\n",
      "1 (all x exists y (Product(x,y) = Bot & Sum(x,y) = Top)).  [assumption].\n",
      "2 Partof(x,y) <-> Product(x,y) = x.  [assumption].\n",
      "4 (all x all y (Partof(x,y) -> (exists z (Sum(x,z) = y & Product(x,z) = Bot)))).  [goal].\n",
      "6 -Partof(x,y) | Product(x,y) = x.  [clausify(2)].\n",
      "9 Partof(c1,c2).  [deny(4)].\n",
      "14 Product(x,f1(x)) = Bot.  [clausify(1)].\n",
      "15 Sum(x,f1(x)) = Top.  [clausify(1)].\n",
      "16 Product(x,Sum(y,z)) = Sum(Product(x,y),Product(x,z)).  [assumption].\n",
      "17 Sum(Product(x,y),Product(x,z)) = Product(x,Sum(y,z)).  [copy(16),flip(a)].\n",
      "20 Sum(x,y) = Sum(y,x).  [assumption].\n",
      "21 Product(x,y) = Product(y,x).  [assumption].\n",
      "24 Product(x,Product(y,z)) = Product(Product(x,y),z).  [assumption].\n",
      "25 Product(Product(x,y),z) = Product(x,Product(y,z)).  [copy(24),flip(a)].\n",
      "26 Sum(x,Product(x,y)) = x.  [assumption].\n",
      "27 Product(x,Sum(x,y)) = x.  [assumption].\n",
      "28 Sum(c1,x) != c2 | Product(c1,x) != Bot.  [deny(4)].\n",
      "29 Product(c1,c2) = c1.  [resolve(9,a,6,a)].\n",
      "34 Sum(Product(x,y),Product(y,z)) = Product(y,Sum(x,z)).  [para(21(a,1),17(a,1,1))].\n",
      "44 Product(x,Product(y,f1(Product(x,y)))) = Bot.  [para(25(a,1),14(a,1))].\n",
      "52 Sum(x,Product(y,x)) = x.  [para(21(a,1),26(a,1,2))].\n",
      "55 Product(x,Top) = x.  [para(15(a,1),27(a,1,2))].\n",
      "62 Sum(x,c1) != c2 | Product(c1,x) != Bot.  [para(20(a,1),28(a,1))].\n",
      "80 Product(Top,x) = x.  [para(55(a,1),21(a,1)),flip(a)].\n",
      "105 Sum(x,Product(Sum(x,y),z)) = Product(Sum(x,y),Sum(x,z)).  [para(27(a,1),34(a,1,1))].\n",
      "116 Sum(c1,c2) = c2.  [para(29(a,1),52(a,1,2)),rewrite([20(3)])].\n",
      "286 Sum(c1,Product(x,f1(Product(c1,x)))) != c2.  [ur(62,b,44,a),rewrite([20(6)])].\n",
      "331 Sum(c1,x) != c2.  [para(27(a,1),286(a,1,2,2,1)),rewrite([105(7),15(6),21(4),80(4)])].\n",
      "332 $F.  [resolve(331,a,116,a)].\n",
      "\n",
      "============================== end of proof ==========================\n"
     ]
    }
   ],
   "source": [
    "# Every boolean algebra is sectionally complemented\n",
    "try_to_prove_from(sec_compl, boolean_algebra)"
   ]
  },
  {
   "cell_type": "code",
   "execution_count": 25,
   "id": "684d104b",
   "metadata": {},
   "outputs": [
    {
     "name": "stdout",
     "output_type": "stream",
     "text": [
      "True\n",
      "% number = 1\n",
      "% seconds = 0\n",
      "\n",
      "% Interpretation of size 3\n",
      "\n",
      "Bot = 0.\n",
      "\n",
      "Top = 1.\n",
      "\n",
      "c1 = 2.\n",
      "\n",
      "c2 = 1.\n",
      "\n",
      "Product(0,0) = 0.\n",
      "Product(0,1) = 0.\n",
      "Product(0,2) = 0.\n",
      "Product(1,0) = 0.\n",
      "Product(1,1) = 1.\n",
      "Product(1,2) = 2.\n",
      "Product(2,0) = 0.\n",
      "Product(2,1) = 2.\n",
      "Product(2,2) = 2.\n",
      "\n",
      "Sum(0,0) = 0.\n",
      "Sum(0,1) = 1.\n",
      "Sum(0,2) = 2.\n",
      "Sum(1,0) = 1.\n",
      "Sum(1,1) = 1.\n",
      "Sum(1,2) = 1.\n",
      "Sum(2,0) = 2.\n",
      "Sum(2,1) = 1.\n",
      "Sum(2,2) = 2.\n",
      "\n",
      "  Partof(0,0).\n",
      "  Partof(0,1).\n",
      "  Partof(0,2).\n",
      "- Partof(1,0).\n",
      "  Partof(1,1).\n",
      "- Partof(1,2).\n",
      "- Partof(2,0).\n",
      "  Partof(2,1).\n",
      "  Partof(2,2).\n",
      "\n",
      "- Properpartof(0,0).\n",
      "  Properpartof(0,1).\n",
      "  Properpartof(0,2).\n",
      "- Properpartof(1,0).\n",
      "- Properpartof(1,1).\n",
      "- Properpartof(1,2).\n",
      "- Properpartof(2,0).\n",
      "  Properpartof(2,1).\n",
      "- Properpartof(2,2).\n",
      "\n"
     ]
    }
   ],
   "source": [
    "# This succeeds, which suggests that either I've made a coding error or\n",
    "# not every bounded distributive lattice is sectionally complemented.\n",
    "try_to_find_counterexample_from(sec_compl, bounded_dist_lattice)"
   ]
  },
  {
   "cell_type": "markdown",
   "id": "2d203f1d",
   "metadata": {},
   "source": [
    "### Exclusion axioms"
   ]
  },
  {
   "cell_type": "code",
   "execution_count": 26,
   "id": "d5370793",
   "metadata": {},
   "outputs": [],
   "source": [
    "cumulativity = read_expr('Excl(x1, y1) & Excl(x2, y2) -> Excl(Sum(x1, x2), Sum(y1, y2))')\n",
    "symmetry = read_expr('Excl(x, y) <-> Excl(y, x)')"
   ]
  },
  {
   "cell_type": "markdown",
   "id": "f29c72b9",
   "metadata": {},
   "source": [
    "### Possibility axioms"
   ]
  },
  {
   "cell_type": "code",
   "execution_count": 29,
   "id": "50749859",
   "metadata": {},
   "outputs": [],
   "source": [
    "#define conflict:\n",
    "confl_def = read_expr('Confl(x, y) <-> exists z1.(Partof(z1,x) & exists z2.(Partof(z2,y) & Excl(z1, z2)))')\n",
    "\n",
    "#define possibilities:\n",
    "#int_poss_def = read_expr('int_poss(x) <-> -Excl(x, x)')\n",
    "#ext_poss_def = read_expr('ext_poss(x) <-> exists y.(int_poss(y) & -exists z.(Product(y, z) = y & int_poss(z) & -(confl(z,x))))')\n",
    "\n",
    "poss_def = read_expr('Poss(x) <-> -Confl(x, x)')\n",
    "\n",
    "#define world:\n",
    "#world_def = read_expr('world(x) <-> (int_poss(x) & all y.((Product(x, y) = y) -> -int_poss(y)))')\n",
    "\n",
    "world_def = read_expr('World(x) <-> (Poss(x) & all y.(Properpartof(x,y) -> -Poss(y)))')\n",
    "\n",
    "#Harmony\n",
    "#harmony = read_expr('all x.(-int_poss(x) -> -ext_poss(x))')\n",
    "\n",
    "harmony = read_expr('all x.(all y. ((World(x) & -Confl(x, y)) -> Poss(y)))')\n",
    "\n",
    "#Nirvana\n",
    "nirvana = read_expr('all x.(-Confl(Bot, x))')\n",
    "\n",
    "#Rashōmon\n",
    "#rashomon = read_expr('all x y.((int_poss(x) & int_poss(y) & -confl(x, y)) -> int_poss(Product(x,y)))')\n",
    "rashomon = read_expr('all x y.((Poss(x) & Poss(y) & -Confl(x, y)) -> Poss(Sum(x,y)))')\n",
    "\n",
    "\n",
    "#Cosmopolitanism\n",
    "#cosmopol = read_expr('all x.(int_poss(x) -> exists y.(world(y) & Product(x, y) = y))')\n",
    "\n",
    "cosmopol = read_expr('all x.(Poss(x) -> exists y.(World(y) & Partof(x,y)))')\n",
    "\n",
    "\n",
    "\n",
    "#actual world\n",
    "actual_world = read_expr('World(actual_world)')\n",
    "\n",
    "#define actual:\n",
    "actual_def = read_expr('Actual(x) <-> Partof(x, actual_world)')\n",
    "\n",
    "exclusion_axioms = [cumulativity, symmetry, harmony, nirvana, rashomon, cosmopol, actual_world]\n",
    "\n",
    "#Construct event frame\n",
    "#choice point: definition of possibility\n",
    "#choice point: formulation of harmony\n",
    "\n",
    "definitions = [confl_def, poss_def, world_def, actual_def]\n",
    "\n",
    "event_frame = complete_boolean_algebra + exclusion_axioms + definitions"
   ]
  },
  {
   "cell_type": "markdown",
   "id": "648cb4f1",
   "metadata": {},
   "source": [
    "## Independence of axioms"
   ]
  },
  {
   "cell_type": "code",
   "execution_count": 30,
   "id": "b86f3189",
   "metadata": {},
   "outputs": [
    {
     "name": "stdout",
     "output_type": "stream",
     "text": [
      "True\n",
      "% number = 1\n",
      "% seconds = 0\n",
      "\n",
      "% Interpretation of size 2\n",
      "\n",
      "Bot = 0.\n",
      "\n",
      "Top = 1.\n",
      "\n",
      "actual_world = 0.\n",
      "\n",
      "c1 = 0.\n",
      "\n",
      "c2 = 1.\n",
      "\n",
      "f5(0) = 1.\n",
      "f5(1) = 0.\n",
      "\n",
      "f6(0) = 0.\n",
      "f6(1) = 0.\n",
      "\n",
      "f9(0) = 0.\n",
      "f9(1) = 0.\n",
      "\n",
      "Product(0,0) = 0.\n",
      "Product(0,1) = 0.\n",
      "Product(1,0) = 0.\n",
      "Product(1,1) = 1.\n",
      "\n",
      "Sum(0,0) = 0.\n",
      "Sum(0,1) = 1.\n",
      "Sum(1,0) = 1.\n",
      "Sum(1,1) = 1.\n",
      "\n",
      "f1(0,0) = 1.\n",
      "f1(0,1) = 1.\n",
      "f1(1,0) = 1.\n",
      "f1(1,1) = 1.\n",
      "\n",
      "f3(0,0) = 0.\n",
      "f3(0,1) = 0.\n",
      "f3(1,0) = 0.\n",
      "f3(1,1) = 0.\n",
      "\n",
      "f7(0,0) = 0.\n",
      "f7(0,1) = 0.\n",
      "f7(1,0) = 0.\n",
      "f7(1,1) = 0.\n",
      "\n",
      "f8(0,0) = 0.\n",
      "f8(0,1) = 1.\n",
      "f8(1,0) = 0.\n",
      "f8(1,1) = 1.\n",
      "\n",
      "f2(0,0,0) = 0.\n",
      "f2(0,0,1) = 0.\n",
      "f2(0,1,0) = 0.\n",
      "f2(0,1,1) = 0.\n",
      "f2(1,0,0) = 1.\n",
      "f2(1,0,1) = 0.\n",
      "f2(1,1,0) = 1.\n",
      "f2(1,1,1) = 0.\n",
      "\n",
      "f4(0,0,0) = 0.\n",
      "f4(0,0,1) = 0.\n",
      "f4(0,1,0) = 0.\n",
      "f4(0,1,1) = 0.\n",
      "f4(1,0,0) = 0.\n",
      "f4(1,0,1) = 0.\n",
      "f4(1,1,0) = 0.\n",
      "f4(1,1,1) = 0.\n",
      "\n",
      "  Actual(0).\n",
      "- Actual(1).\n",
      "\n",
      "  P(0).\n",
      "  P(1).\n",
      "\n",
      "  Poss(0).\n",
      "- Poss(1).\n",
      "\n",
      "- Q(0).\n",
      "- Q(1).\n",
      "\n",
      "  World(0).\n",
      "- World(1).\n",
      "\n",
      "- Confl(0,0).\n",
      "  Confl(0,1).\n",
      "- Confl(1,0).\n",
      "  Confl(1,1).\n",
      "\n",
      "- Excl(0,0).\n",
      "  Excl(0,1).\n",
      "- Excl(1,0).\n",
      "- Excl(1,1).\n",
      "\n",
      "  Partof(0,0).\n",
      "  Partof(0,1).\n",
      "- Partof(1,0).\n",
      "  Partof(1,1).\n",
      "\n",
      "- Properpartof(0,0).\n",
      "  Properpartof(0,1).\n",
      "- Properpartof(1,0).\n",
      "- Properpartof(1,1).\n",
      "\n"
     ]
    }
   ],
   "source": [
    "# assumptions tested for exclusion: actual_world, cosmopol, complemented, cumulativity, dist, harmony, rashomon\n",
    "# If we don't assume Nirvana, Mace4 finds a counterexample that shows symmetry is an axiom.\n",
    "try_to_find_counterexample_without(symmetry,[nirvana])"
   ]
  },
  {
   "cell_type": "code",
   "execution_count": null,
   "id": "95dd63ce",
   "metadata": {},
   "outputs": [],
   "source": [
    "# If we do, it doesn't find that counterexample. So symmetry might be a theorem.\n",
    "#try_to_find_counterexample_without(symmetry,[])  # times out"
   ]
  },
  {
   "cell_type": "code",
   "execution_count": null,
   "id": "171e0369",
   "metadata": {},
   "outputs": [],
   "source": [
    "# Even though symmetry might be a theorem, we can't know for sure because the search for a proof also times out.\n",
    "# try_to_prove_without(symmetry,[]) # times out"
   ]
  },
  {
   "cell_type": "code",
   "execution_count": null,
   "id": "94f3738f",
   "metadata": {},
   "outputs": [],
   "source": [
    "# assumptions tested for exclusion: \n",
    "# actual_world, cosmopol, complemented, cumulativity, dist, harmony, nirvana, rashomon\n",
    "\n",
    "# If we don't assume Nirvana, Mace4 finds a counterexample that shows cumulativity is an axiom.\n",
    "# In that counterexample there are just two elements: Bot and Top. Bot is the actual world, Bot and Top exclude each other but not themselves.\n",
    "#try_to_find_counterexample_without(cumulativity,[nirvana])\n",
    "# assumptions tested for exclusion: actual_world, cosmopol, complemented, dist, harmony, rashomon\n",
    "\n",
    "#There is also a counterexample if we include Nirvana but not Complemented. \n",
    "# Size 3. Bot=0, Top=1, actual_world = 2. No worlds other than actual_world. \n",
    "# Top is impossible. Actual_world and Top exclude each other. Top conflicts with itself but doesn't exclude itself.\n",
    "#try_to_find_counterexample_without(cumulativity,[complemented])\n",
    "\n",
    "# If we insist on Nirvana and Complemented, Mace4 doesn't find a counterexample:\n",
    "# try_to_find_counterexample_without(cumulativity,[]) # times out"
   ]
  },
  {
   "cell_type": "code",
   "execution_count": null,
   "id": "3cbc466b",
   "metadata": {},
   "outputs": [],
   "source": [
    "# But if we try to prove cumulativity, it also times out:\n",
    "# try_to_prove(cumulativity) # times out\n",
    "# So we don't know if cumulativity is a theorem. If it isn't, the counterexamples are likely infinitely sized."
   ]
  },
  {
   "cell_type": "code",
   "execution_count": null,
   "id": "5ac63673",
   "metadata": {},
   "outputs": [],
   "source": [
    "try_to_find_counterexample(cumulativity) # cumulativity is an axiom"
   ]
  },
  {
   "cell_type": "code",
   "execution_count": null,
   "id": "75b40391",
   "metadata": {},
   "outputs": [],
   "source": [
    "try_to_find_counterexample(symmetry) # symmetry is an axiom"
   ]
  },
  {
   "cell_type": "code",
   "execution_count": null,
   "id": "616cd690",
   "metadata": {},
   "outputs": [],
   "source": [
    "try_to_find_counterexample(harmony) # succeeds as expected"
   ]
  },
  {
   "cell_type": "code",
   "execution_count": null,
   "id": "a00a4ecd",
   "metadata": {},
   "outputs": [],
   "source": [
    "try_to_prove(harmony,1) # times out at 60 as expected because a countermodel can be found"
   ]
  },
  {
   "cell_type": "code",
   "execution_count": null,
   "id": "ff2e0b6a",
   "metadata": {},
   "outputs": [],
   "source": [
    "try_to_find_counterexample(harmony) # finds countermodel -- as expected"
   ]
  },
  {
   "cell_type": "code",
   "execution_count": null,
   "id": "23b282d9",
   "metadata": {},
   "outputs": [],
   "source": [
    "try_to_find_counterexample(cosmopol) # fails as expected because countermodels are infinite"
   ]
  },
  {
   "cell_type": "code",
   "execution_count": null,
   "id": "f9a57c89",
   "metadata": {},
   "outputs": [],
   "source": [
    "try_to_prove(cosmopol) # times out after at least 60 sec -- as expected"
   ]
  },
  {
   "cell_type": "code",
   "execution_count": null,
   "id": "c2fdd912",
   "metadata": {},
   "outputs": [],
   "source": [
    "#Nirvana is not derivable from other axioms\n",
    "try_to_prove(nirvana,1) # times out as expected after at least 60 sec"
   ]
  },
  {
   "cell_type": "code",
   "execution_count": null,
   "id": "c877e361",
   "metadata": {},
   "outputs": [],
   "source": [
    "try_to_find_counterexample(nirvana) # finds counterex as expected"
   ]
  },
  {
   "cell_type": "code",
   "execution_count": null,
   "id": "43d9d6a8",
   "metadata": {},
   "outputs": [],
   "source": [
    "#Rashōmon is not derivable from other possibility axioms (times out at 60 sec)\n",
    "try_to_prove(rashomon,1)"
   ]
  },
  {
   "cell_type": "code",
   "execution_count": null,
   "id": "b8fa2d05",
   "metadata": {},
   "outputs": [],
   "source": [
    "try_to_find_counterexample(rashomon) # finds counterexample as expected"
   ]
  },
  {
   "cell_type": "code",
   "execution_count": null,
   "id": "cd661498",
   "metadata": {},
   "outputs": [],
   "source": [
    "#Cosmopolitanism is not derivable from other possibility axioms (counterexample found)\n",
    "# So this times out as expected\n",
    "try_to_prove(cosmopol,1)"
   ]
  },
  {
   "cell_type": "code",
   "execution_count": null,
   "id": "1025bd38",
   "metadata": {},
   "outputs": [],
   "source": [
    "#Cosmopolitanism is not derivable from other possibility axioms -- but there are no *finite* countermodels\n",
    "# so this returns False as expected\n",
    "try_to_find_counterexample(cosmopol)"
   ]
  },
  {
   "cell_type": "markdown",
   "id": "a85154db",
   "metadata": {},
   "source": [
    "## Theorems"
   ]
  },
  {
   "cell_type": "markdown",
   "id": "463decc0",
   "metadata": {},
   "source": [
    "### Plenitude"
   ]
  },
  {
   "cell_type": "code",
   "execution_count": null,
   "id": "c1fef237",
   "metadata": {},
   "outputs": [],
   "source": [
    "plenitude = read_expr('all x.((exists y.(-Confl(x, y) & World(y))) <-> Poss(x))')"
   ]
  },
  {
   "cell_type": "code",
   "execution_count": null,
   "id": "f5ec142d",
   "metadata": {},
   "outputs": [],
   "source": [
    "# Plenitude follows from Harmony, Cosmopol, and Symmetry. If we remove any of these, the proof search times out.\n",
    "try_to_prove_without(plenitude,[nirvana, rashomon, cumulativity,complemented, dist,actual_world]) \n",
    "#not needed: nirvana, rashomon, cumulativity, complemented, dist, actual_world\n",
    "# apparently needed: harmony, cosmopol, symmetry"
   ]
  },
  {
   "cell_type": "markdown",
   "id": "89f46585",
   "metadata": {},
   "source": [
    "### Distributivity of actuality"
   ]
  },
  {
   "cell_type": "code",
   "execution_count": 33,
   "id": "36cb33af",
   "metadata": {},
   "outputs": [
    {
     "name": "stdout",
     "output_type": "stream",
     "text": [
      "============================== prooftrans ============================\n",
      "Prover9 (64) version 2009-11A, November 2009.\n",
      "Process 68204 was started by champollion on standingdesk.home,\n",
      "Thu Jul 14 17:29:45 2022\n",
      "The command was \"prover9\".\n",
      "============================== end of head ===========================\n",
      "\n",
      "============================== end of input ==========================\n",
      "\n",
      "============================== PROOF =================================\n",
      "\n",
      "% -------- Comments from original proof --------\n",
      "% Proof 1 at 0.00 (+ 0.00) seconds.\n",
      "% Length of proof is 29.\n",
      "% Level of proof is 11.\n",
      "% Maximum clause weight is 11.000.\n",
      "% Given clauses 37.\n",
      "\n",
      "\n",
      "1 Partof(x,y) <-> Product(x,y) = x.  [assumption].\n",
      "3 Actual(x) <-> Partof(x,actual_world).  [assumption].\n",
      "4 (all x ((exists y (Actual(y) & Partof(x,y))) -> Actual(x))).  [goal].\n",
      "8 -Partof(x,y) | Product(x,y) = x.  [clausify(1)].\n",
      "9 Partof(x,y) | Product(x,y) != x.  [clausify(1)].\n",
      "12 Sum(x,y) = Sum(y,x).  [assumption].\n",
      "13 Product(x,y) = Product(y,x).  [assumption].\n",
      "16 Product(x,Product(y,z)) = Product(Product(x,y),z).  [assumption].\n",
      "17 Product(Product(x,y),z) = Product(x,Product(y,z)).  [copy(16),flip(a)].\n",
      "18 Sum(x,Product(x,y)) = x.  [assumption].\n",
      "19 Product(x,Sum(x,y)) = x.  [assumption].\n",
      "20 -Actual(x) | Partof(x,actual_world).  [clausify(3)].\n",
      "21 Actual(x) | -Partof(x,actual_world).  [clausify(3)].\n",
      "22 Actual(c2).  [deny(4)].\n",
      "23 Partof(c1,c2).  [deny(4)].\n",
      "24 -Actual(c1).  [deny(4)].\n",
      "42 Partof(x,Sum(x,y)).  [hyper(9,b,19,a)].\n",
      "47 Partof(c2,actual_world).  [hyper(20,a,22,a)].\n",
      "48 Product(c1,c2) = c1.  [hyper(8,a,23,a)].\n",
      "52 Product(actual_world,c2) = c2.  [hyper(8,a,47,a),rewrite([13(3)])].\n",
      "53 Partof(x,Sum(y,x)).  [para(12(a,1),42(a,2))].\n",
      "65 Partof(Product(x,y),x).  [para(18(a,1),53(a,2))].\n",
      "68 Actual(Product(actual_world,x)).  [hyper(21,b,65,a)].\n",
      "73 Actual(Product(x,actual_world)).  [para(13(a,1),68(a,1))].\n",
      "74 Actual(Product(x,Product(y,actual_world))).  [para(17(a,1),73(a,1))].\n",
      "78 Actual(Product(x,Product(actual_world,y))).  [para(13(a,1),74(a,1,2))].\n",
      "82 Actual(Product(x,c2)).  [para(52(a,1),78(a,1,2))].\n",
      "86 Actual(c1).  [para(48(a,1),82(a,1))].\n",
      "87 $F.  [resolve(86,a,24,a)].\n",
      "\n",
      "============================== end of proof ==========================\n"
     ]
    }
   ],
   "source": [
    "#Since Actual is defined as being part of the actual world, distributivity of actuality follows just from \n",
    "# transitivity of parthood, which holds in every lattice\n",
    "distofact = read_expr('all x.((exists y. (Actual(y) & Partof(x,y))) -> Actual(x))')\n",
    "try_to_prove_from(distofact, lattice + [actual_def])"
   ]
  },
  {
   "cell_type": "code",
   "execution_count": null,
   "id": "bb266ca5",
   "metadata": {},
   "outputs": [],
   "source": [
    "#Find counterexample for distributivity of actuality - fails as expected\n",
    "try_to_find_counterexample(distofact)"
   ]
  },
  {
   "cell_type": "markdown",
   "id": "4c27e993",
   "metadata": {},
   "source": [
    "### Cumulativity of actuality"
   ]
  },
  {
   "cell_type": "code",
   "execution_count": 35,
   "id": "4c734e9e",
   "metadata": {},
   "outputs": [
    {
     "name": "stdout",
     "output_type": "stream",
     "text": [
      "============================== prooftrans ============================\n",
      "Prover9 (64) version 2009-11A, November 2009.\n",
      "Process 68273 was started by champollion on standingdesk.home,\n",
      "Thu Jul 14 17:30:12 2022\n",
      "The command was \"prover9\".\n",
      "============================== end of head ===========================\n",
      "\n",
      "============================== end of input ==========================\n",
      "\n",
      "============================== PROOF =================================\n",
      "\n",
      "% -------- Comments from original proof --------\n",
      "% Proof 1 at 0.01 (+ 0.01) seconds.\n",
      "% Length of proof is 29.\n",
      "% Level of proof is 8.\n",
      "% Maximum clause weight is 11.000.\n",
      "% Given clauses 127.\n",
      "\n",
      "\n",
      "1 Partof(x,y) <-> Product(x,y) = x.  [assumption].\n",
      "3 Actual(x) <-> Partof(x,actual_world).  [assumption].\n",
      "4 (all x all y (Actual(x) & Actual(y) -> Actual(Sum(x,y)))).  [goal].\n",
      "8 -Partof(x,y) | Product(x,y) = x.  [clausify(1)].\n",
      "9 Partof(x,y) | Product(x,y) != x.  [clausify(1)].\n",
      "12 Sum(x,y) = Sum(y,x).  [assumption].\n",
      "13 Product(x,y) = Product(y,x).  [assumption].\n",
      "14 Sum(x,Sum(y,z)) = Sum(Sum(x,y),z).  [assumption].\n",
      "15 Sum(Sum(x,y),z) = Sum(x,Sum(y,z)).  [copy(14),flip(a)].\n",
      "18 Sum(x,Product(x,y)) = x.  [assumption].\n",
      "19 Product(x,Sum(x,y)) = x.  [assumption].\n",
      "20 -Actual(x) | Partof(x,actual_world).  [clausify(3)].\n",
      "21 Actual(x) | -Partof(x,actual_world).  [clausify(3)].\n",
      "22 Actual(c1).  [deny(4)].\n",
      "23 Actual(c2).  [deny(4)].\n",
      "24 -Actual(Sum(c1,c2)).  [deny(4)].\n",
      "42 Partof(x,Sum(x,y)).  [hyper(9,b,19,a)].\n",
      "47 Partof(c1,actual_world).  [hyper(20,a,22,a)].\n",
      "48 Partof(c2,actual_world).  [hyper(20,a,23,a)].\n",
      "49 -Partof(Sum(c1,c2),actual_world).  [ur(21,a,24,a)].\n",
      "52 Product(actual_world,c1) = c1.  [hyper(8,a,47,a),rewrite([13(3)])].\n",
      "53 Product(actual_world,c2) = c2.  [hyper(8,a,48,a),rewrite([13(3)])].\n",
      "54 Partof(x,Sum(y,x)).  [para(12(a,1),42(a,2))].\n",
      "61 Sum(actual_world,c1) = actual_world.  [para(52(a,1),18(a,1,2))].\n",
      "65 Sum(actual_world,c2) = actual_world.  [para(53(a,1),18(a,1,2))].\n",
      "68 Sum(actual_world,Sum(c1,x)) = Sum(actual_world,x).  [para(61(a,1),15(a,1,1)),flip(a)].\n",
      "420 Partof(Sum(c1,x),Sum(actual_world,x)).  [para(68(a,1),54(a,2))].\n",
      "432 Partof(Sum(c1,c2),actual_world).  [para(65(a,1),420(a,2))].\n",
      "433 $F.  [resolve(432,a,49,a)].\n",
      "\n",
      "============================== end of proof ==========================\n"
     ]
    }
   ],
   "source": [
    "#Cumulativity of actuality also follows from the basic properties of lattices\n",
    "cumofact = read_expr('all x y.((Actual(x) & Actual(y)) -> Actual(Sum(x,y)))')\n",
    "try_to_prove_from(cumofact, lattice + [actual_def])"
   ]
  },
  {
   "cell_type": "code",
   "execution_count": null,
   "id": "08aa4026",
   "metadata": {},
   "outputs": [],
   "source": [
    "#Find counterexample for cumulativity of actuality - fails as expected\n",
    "try_to_find_counterexample(cumofact)"
   ]
  },
  {
   "cell_type": "markdown",
   "id": "df547dd8",
   "metadata": {},
   "source": [
    "### Manichaeism"
   ]
  },
  {
   "cell_type": "code",
   "execution_count": null,
   "id": "d25ca8b8",
   "metadata": {},
   "outputs": [],
   "source": [
    "#Manichaeism depends for its proof on Harmony and Rashomon but on surprisingly little else\n",
    "manichaeism = read_expr('all x.((World(x) -> all y.(Partof(y,x) | Confl(x, y))))')\n",
    "try_to_prove_without(manichaeism,[actual_world,cosmopol,complemented,cumulativity,dist,nirvana,symmetry])"
   ]
  },
  {
   "cell_type": "markdown",
   "id": "a8f86595",
   "metadata": {},
   "source": [
    "### Appropriateness of conjunction"
   ]
  },
  {
   "cell_type": "code",
   "execution_count": null,
   "id": "eb9af3b0",
   "metadata": {},
   "outputs": [],
   "source": [
    "#Appropriateness of conjunction depends on very little: it holds in any lattice\n",
    "appr_conj = read_expr(r'((exists x. (P(x) & Actual(x))) & (exists y. (Q(y) & Actual(y)))) <-> exists y exists z.(Actual(y) & Actual(z) & P(y) & Q(z) & Actual(Sum(y, z)))')\n",
    "try_to_prove_from(appr_conj,lattice+[actual_def])"
   ]
  },
  {
   "cell_type": "markdown",
   "id": "637d17a0",
   "metadata": {},
   "source": [
    "### Appropriateness of disjunction"
   ]
  },
  {
   "cell_type": "code",
   "execution_count": null,
   "id": "bb0fe0f8",
   "metadata": {},
   "outputs": [],
   "source": [
    "#Similarly, appropriateness of disjunction holds in any lattice\n",
    "appr_disj = read_expr(r'(exists x. (Actual(x) & (P(x) | Q(x)))) <-> ((exists x. (Actual(x) & P(x))) | (exists y. (Actual(y) & Q(y))))')\n",
    "try_to_prove_from(appr_disj,lattice+[actual_def])"
   ]
  },
  {
   "cell_type": "markdown",
   "id": "151bf22d",
   "metadata": {},
   "source": [
    "### No Gaps - Lucas' version"
   ]
  },
  {
   "cell_type": "code",
   "execution_count": null,
   "id": "9f587653",
   "metadata": {},
   "outputs": [],
   "source": [
    "#e precludes Q iff ∃S. (e = ⊔S) ∧ (∀x∈S ∃y∈Q ∃y1⊑y, x⊥y1) ∧ (∀y∈Q ∃x∈S ∃y1⊑y, x⊥y1)\n",
    "\n",
    "def precludes(e, Q):\n",
    "    return 'exists S. ('+least_upper_bound(e,'S')+' & (all x. (S(x) -> exists y. (Q(y) & exists y1. (Partof(y1, y) & Excl(x,y1))))) & (all y. (Q(y) -> exists x (S(y) & exists y1. (Partof(y1,y) & Excl(x,y1))))))'\n",
    "\n",
    "#example = 'exists P. ((all x1.(P(x1) -> Partof(x1,e))) & all y1.((all x1.(P(x1) -> Partof(x1,y1))) -> Partof(e,y1))) & (all x. (P(x) -> exists y. (Q(y) & exists y1. (Partof(y1, y) & Excl(x,y1))))) & (all y. (Q(y) -> exists x (P(y) & exists y1. (Partof(y1,y) & Excl(x,y1)))))'\n",
    "\n",
    "#example_string = precludes('e','Q')\n",
    "#print(example_string)\n",
    "#example_expr = read_expr(example_string)\n",
    "#example_expr\n",
    "\n",
    "#define negating a set\n",
    "#x negates P iff there is a function h such that x = ⊔{h(xi) ∣ xi ∈ P} and for all events \n",
    "# x1 ∈ P, h(x1) excludes some part of x1.\n",
    "# \n",
    "# x negates P iff every x1 in P has a part y that excludes some part x2 of x and\n",
    "# every part x3 of x\n",
    "#def negate(x, P):\n",
    "#    result = ('(all x1. (P(x1) -> (exists x2. Partof(x2,x) & exists y. Partof(y,x1) & Excl(x2, y)))) \n",
    "#              & (all x3. ((Partof(x3,x) & (-exists x4. (Partof(x4,x) & Partof(x4,x3)))) -> (exists x5. (P(x5) & Excl(x5, x3))))) & all x6 all x7. ((x6 != x7) -> (exists x8 exists x9.(Partof(x8,x) & Partof(x9,x) & x8!=x9 & Excl(x6, x8) & Excl(x7, x9))))')\n",
    "#    return result"
   ]
  },
  {
   "cell_type": "code",
   "execution_count": null,
   "id": "e9434675",
   "metadata": {},
   "outputs": [],
   "source": [
    "#check no gaps\n",
    "no_gaps = read_expr('(exists x. (Actual(x) & P(x))) | (exists y. (Actual(y) &'+precludes('y', 'P')+'))')\n",
    "print(no_gaps)"
   ]
  },
  {
   "cell_type": "code",
   "execution_count": null,
   "id": "9c9defc4",
   "metadata": {},
   "outputs": [],
   "source": [
    "try_to_prove(no_gaps,70)"
   ]
  },
  {
   "cell_type": "code",
   "execution_count": null,
   "id": "4e6351de",
   "metadata": {},
   "outputs": [],
   "source": [
    "try_to_find_counterexample(no_gaps)"
   ]
  },
  {
   "cell_type": "markdown",
   "id": "e60acbc6",
   "metadata": {},
   "source": [
    "### No Gluts - Lucas' version"
   ]
  },
  {
   "cell_type": "code",
   "execution_count": null,
   "id": "10ad9fd8",
   "metadata": {},
   "outputs": [],
   "source": [
    "#check no gluts\n",
    "no_gluts = read_expr('(-exists x. Actual(x) & P(x)) | (-exists y. Actual(y) &'+precludes('y', 'P')+')')\n",
    "print(no_gluts)"
   ]
  },
  {
   "cell_type": "code",
   "execution_count": null,
   "id": "eccdc40f",
   "metadata": {},
   "outputs": [],
   "source": [
    "try_to_prove(no_gluts,70)"
   ]
  },
  {
   "cell_type": "code",
   "execution_count": null,
   "id": "05df686a",
   "metadata": {},
   "outputs": [],
   "source": [
    "try_to_find_counterexample(no_gluts)\n",
    "# Finds a counterexample: Two-element model. Bot = 0, Top = 1. The actual world is Top. \n",
    "# Both Bot and Top are actual. No exclusions hold.\n",
    "# Predicate P holds of both Bottom and Top. Predicate Q holds of neither.\n",
    "# P holds of something actual. No Gluts would say that no actual y precludes P. \n",
    "# Since Bot and Top are actual this would mean that nothing precludes P. \n",
    "# Because of the last conjunct of the preclusion definition, indeed nothing will preclude P\n",
    "# because P is nonempty and the exclusion relation is empty. "
   ]
  },
  {
   "cell_type": "markdown",
   "id": "b05b2c4b",
   "metadata": {},
   "source": [
    "### No Gaps - Zhuoye's version"
   ]
  },
  {
   "cell_type": "code",
   "execution_count": null,
   "id": "c5139e0b",
   "metadata": {},
   "outputs": [],
   "source": [
    "#define negating a set\n",
    "#x negates P iff there is a function h such that x = ⊔{h(xi) ∣ xi ∈ P} and for all events \n",
    "# x1 ∈ P, h(x1) excludes some part of x1.\n",
    "# \n",
    "# x negates P iff every x1 in P has a part y that excludes some part x2 of x and\n",
    "# every part x3 of x\n",
    "\n",
    "# def negate(x, P):\n",
    "#     result = ('(all x1. (P(x1) -> (exists x2. Partof(x2,x) & exists y. Partof(y,x1) & Excl(x2, y)))) \n",
    "#               & (all x3. ((Partof(x3,x) & (-exists x4. (Partof(x4,x) & Partof(x4,x3)))) -> (exists x5. (P(x5) & Excl(x5, x3))))) & all x6 all x7. ((x6 != x7) -> (exists x8 exists x9.(Partof(x8,x) & Partof(x9,x) & x8!=x9 & Excl(x6, x8) & Excl(x7, x9))))')\n",
    "#     return result\n",
    "\n",
    "\n",
    "#define exclusionary negation: an event x exclusionarily negates P iff\n",
    "#there is a set of events Q such that for each event x in P, part of x is excluded by some event y in Q\n",
    "#and each event y in Q excludes some part of an event x in P\n",
    "#and x is the sum of Q.\n",
    "def exclusionary_negate(x, P):\n",
    "    result = '(exists Q. ((all x1. (' + P + '(x1) -> (exists x2. Partof(x2, x1) & (exists y1. (Q(y1) & Excl(y1, x2))))))'\\\n",
    "             '& (all y2. (Q(y2) -> (exists x3. ('+P+'(x3) & (exists x4. (Partof(x4, x3) & Excl(y2, x4)))))))'\\\n",
    "              '& (all y3. (Q(y3) -> Partof(y3,'+x+'))) & (all y5. ((all y4.(Q(y4) -> Partof(y4, y5))) -> Partof('+x+', y5)))))'\n",
    "    return result\n",
    "\n",
    "#define preclude a set: an event x precludes P iff there exists a Q such that\n",
    "#for any x1 in P, there is y1 in Q such that y1 excludes part of x1\n",
    "#for any y2 in Q, there is x3 in P such that y2 excludes part of x3\n",
    "#for any distinct y3, y4 in Q, there are distinct x5, x6 such that y3 excludes part of x5, y4 excludes part of x6\n",
    "#x is the sum of Q\n",
    "def preclude(x, P):\n",
    "    result = '(exists Q. ((all x1.('+P+'(x1) -> (exists y1. (Q(y1) & (exists x2. (Partof(x2, x1) & Excl(y1, x2)))))))'\\\n",
    "             '& (all y2. (Q(y2) -> (exists x3. ('+P+'(x3) & (exists x4. (Partof(x4, x3) & Excl(y2, x4)))))))'\\\n",
    "             '& (all y3. (all y4. ((Q(y3) & Q(y4) & y3 != y4) -> (exists x5. (exists x6. ('+P+'(x5) & '+P+'(x6) & exists x7. (exists x8. (Partof(x7, x5) & (Partof(x8, x6) & Excl(y3, x7) & Excl(y4, x8))))))))))'\\\n",
    "             '& ((all y5. (Q(y5) -> Partof(y5, '+x+'))) & (all y6. ((all y7. (Q(y7) -> Partof(y7, y6))) -> Partof('+x+', y6))))))'\n",
    "    return result"
   ]
  },
  {
   "cell_type": "code",
   "execution_count": null,
   "id": "20ac26c1",
   "metadata": {},
   "outputs": [],
   "source": [
    "#check no gaps with preclusion-based negation\n",
    "goal = read_expr(r'all P. ((exists z. P(z)) -> (all x. (World(x) -> (exists y. (Partof(y, x) & (P(y)|'+preclude('y', 'P')+'))))))')\n",
    "prover = Prover9Command(goal, assumptions = event_frame, timeout=1000)\n",
    "prover.prove()\n",
    "print(prover.proof())"
   ]
  },
  {
   "cell_type": "code",
   "execution_count": null,
   "id": "d59c2283",
   "metadata": {},
   "outputs": [],
   "source": [
    "goal = read_expr(r'all P. (all x. (World(x) -> (exists y. (Partof(y, x) & (P(y)|'+preclude('y', 'P')+')))))')\n",
    "mb = MaceCommand(goal, assumptions = event_frame)\n",
    "mb.build_model()\n",
    "print(mb.model(format = 'cooked'))"
   ]
  },
  {
   "cell_type": "code",
   "execution_count": null,
   "id": "27654823",
   "metadata": {},
   "outputs": [],
   "source": [
    "#check no gaps with preclusion-based negation\n",
    "goal = read_expr(r'all P. ((exists z. P(z)) -> (all x. (World(x) -> (exists y. (Partof(y, x) & (P(y)|'+preclude('y', 'P')+'))))))')\n",
    "prover = Prover9Command(goal, assumptions = event_frame, timeout=1000)\n",
    "prover.prove()\n",
    "print(prover.proof())"
   ]
  },
  {
   "cell_type": "code",
   "execution_count": null,
   "id": "e6de4c56",
   "metadata": {},
   "outputs": [],
   "source": [
    "goal = read_expr(r'all P. ((exists z. P(z)) -> (all x. (World(x) -> (exists y. (Partof(y, x) & (P(y)|'+preclude('y', 'P')+'))))))')\n",
    "mb = MaceCommand(goal, assumptions = event_frame)\n",
    "mb.build_model()"
   ]
  },
  {
   "cell_type": "markdown",
   "id": "be3de86e",
   "metadata": {},
   "source": [
    "### No Gluts - Zhuoye's version"
   ]
  },
  {
   "cell_type": "code",
   "execution_count": null,
   "id": "deb3213e",
   "metadata": {},
   "outputs": [],
   "source": [
    "#check no gluts with exclusionary negation\n",
    "goal = read_expr(r'all P. (-(exists x. (World(x) & (exists y. (Partof(y, x) & P(y))) & (exists z. (Partof(z, x) &'+exclusionary_negate('z', 'P')+')))))')\n",
    "prover = Prover9Command(goal, assumptions = event_frame)\n",
    "prover.prove()\n",
    "print(prover.proof())"
   ]
  },
  {
   "cell_type": "code",
   "execution_count": null,
   "id": "4a0f5e00",
   "metadata": {},
   "outputs": [],
   "source": [
    "goal = read_expr(r'all P. (-(exists x. (World(x) & (exists y. (Partof(y, x) & P(y))) & (exists z. (Partof(z, x) &'+exclusionary_negate('z', 'P')+')))))')\n",
    "mb = MaceCommand(goal, assumptions = event_frame)\n",
    "mb.build_model()\n",
    "print(mb.model(format = 'cooked'))"
   ]
  },
  {
   "cell_type": "code",
   "execution_count": null,
   "id": "b84787d3",
   "metadata": {},
   "outputs": [],
   "source": [
    "#check no gluts with preclusion-based negation\n",
    "goal = read_expr(r'all P. (-(exists x. (World(x) & (exists y. (Partof(y, x) & P(y))) & (exists z. (Partof(z, x) &'+preclude('z', 'P')+')))))')\n",
    "prover = Prover9Command(goal, assumptions = event_frame)\n",
    "prover.prove()\n",
    "print(prover.proof())"
   ]
  },
  {
   "cell_type": "code",
   "execution_count": null,
   "id": "17106b9d",
   "metadata": {},
   "outputs": [],
   "source": [
    "goal = read_expr(r'all P. (-exists x. (World(x) & (exists y. (Partof(y, x) & P(y))) & (exists z. (Partof(z, x) &'+preclude('z', 'P')+'))))')\n",
    "mb = MaceCommand(goal, assumptions = event_frame)\n",
    "mb.build_model()\n",
    "print(mb.model(format = 'cooked'))"
   ]
  }
 ],
 "metadata": {
  "kernelspec": {
   "display_name": "Python 3 (ipykernel)",
   "language": "python",
   "name": "python3"
  },
  "language_info": {
   "codemirror_mode": {
    "name": "ipython",
    "version": 3
   },
   "file_extension": ".py",
   "mimetype": "text/x-python",
   "name": "python",
   "nbconvert_exporter": "python",
   "pygments_lexer": "ipython3",
   "version": "3.10.4"
  }
 },
 "nbformat": 4,
 "nbformat_minor": 5
}
